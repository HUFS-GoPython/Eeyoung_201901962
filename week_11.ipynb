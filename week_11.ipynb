{
 "cells": [
  {
   "cell_type": "markdown",
   "id": "853aeaab-335b-4ffd-a7b9-0772a9b84de6",
   "metadata": {},
   "source": [
    "## 상속 inheritance\n",
    "- 이전 클래스의 내용을 추가, 변경해야 할 경우\n",
    "- 코드 재사용에 유용함\n",
    "- 기준: vehicle, parent, super, base. 부모클래스\n",
    "- 상속 받는 클래스: child, sub, derived. 자식 클래스\n",
    "- Vihicle <- Car\n",
    "    - 부모 클래스를 자식 클래스가 구체화시킨다.\n",
    "    - Car is-a-Vehicle (is-a 관계) - 유의해야함\n",
    "    - has-a: Notebook has-a-Note"
   ]
  },
  {
   "cell_type": "code",
   "execution_count": 49,
   "id": "c9897687-65b7-4fa1-95b8-4619182f19ae",
   "metadata": {},
   "outputs": [],
   "source": [
    "class Vehicle:\n",
    "    def __init__(self, speed):\n",
    "        self.speed = speed\n",
    "        \n",
    "    def go(self):\n",
    "        print(f'{self.speed}의 속력으로 달린다.')\n",
    "# 자식 클래스        \n",
    "class Car(Vehicle): # 괄호 안에 상속받을 클래스명\n",
    "    pass"
   ]
  },
  {
   "cell_type": "code",
   "execution_count": 50,
   "id": "66f4c0f5-46b3-42cf-af0a-56455b0a32bc",
   "metadata": {},
   "outputs": [],
   "source": [
    "car = Car('15km/h')"
   ]
  },
  {
   "cell_type": "code",
   "execution_count": 51,
   "id": "42bb2da5-9e95-4db2-b743-45abdf1b6a4c",
   "metadata": {},
   "outputs": [
    {
     "name": "stdout",
     "output_type": "stream",
     "text": [
      "15km/h의 속력으로 달린다.\n"
     ]
    }
   ],
   "source": [
    "car.go()"
   ]
  },
  {
   "cell_type": "code",
   "execution_count": 52,
   "id": "fc389f7c-bf0b-46df-b000-374e8b2e639b",
   "metadata": {},
   "outputs": [
    {
     "data": {
      "text/plain": [
       "'15km/h'"
      ]
     },
     "execution_count": 52,
     "metadata": {},
     "output_type": "execute_result"
    }
   ],
   "source": [
    "car.speed"
   ]
  },
  {
   "cell_type": "code",
   "execution_count": 54,
   "id": "0519566b-7f38-4293-b5d6-3e8b5600c194",
   "metadata": {},
   "outputs": [
    {
     "name": "stdout",
     "output_type": "stream",
     "text": [
      "16km/h의 속력으로 달린다.\n"
     ]
    }
   ],
   "source": [
    "car2 = Vehicle('16km/h')\n",
    "car2.go()"
   ]
  },
  {
   "cell_type": "markdown",
   "id": "88cb05d2-e75c-4668-8505-f565d3a699b3",
   "metadata": {},
   "source": [
    "## 추가, 변경\n",
    "- 속성(변수)"
   ]
  },
  {
   "cell_type": "code",
   "execution_count": 7,
   "id": "7c4df5cb-0d75-403a-9e21-33b51541ebcb",
   "metadata": {},
   "outputs": [],
   "source": [
    "class Car(Vehicle):\n",
    "    def __init__(self, speed, brand): # 스피드와 브랜드\n",
    "        super().__init__(speed) # 부모한테 스피드 가져옴 super()?????\n",
    "        self.brand = brand # 추가한 변수\n",
    "        \n",
    "    def go(self):\n",
    "        super().go()\n",
    "        print(f'차종은 {self.brand}')\n",
    "        \n",
    "    def stop(self):\n",
    "        print('차를 멈추겠습니다')"
   ]
  },
  {
   "cell_type": "code",
   "execution_count": 11,
   "id": "298349e7-6939-40e4-86f1-22e720495cf0",
   "metadata": {},
   "outputs": [
    {
     "name": "stdout",
     "output_type": "stream",
     "text": [
      "20km/h의 속력으로 달린다.\n",
      "차종은 kia\n",
      "차를 멈추겠습니다\n"
     ]
    },
    {
     "ename": "AttributeError",
     "evalue": "'Car' object has no attribute 'stop'",
     "output_type": "error",
     "traceback": [
      "\u001b[1;31m---------------------------------------------------------------------------\u001b[0m",
      "\u001b[1;31mAttributeError\u001b[0m                            Traceback (most recent call last)",
      "\u001b[1;32m~\\AppData\\Local\\Temp/ipykernel_12616/1917199275.py\u001b[0m in \u001b[0;36m<module>\u001b[1;34m\u001b[0m\n\u001b[0;32m      2\u001b[0m \u001b[0mcar2\u001b[0m\u001b[1;33m.\u001b[0m\u001b[0mgo\u001b[0m\u001b[1;33m(\u001b[0m\u001b[1;33m)\u001b[0m\u001b[1;33m\u001b[0m\u001b[1;33m\u001b[0m\u001b[0m\n\u001b[0;32m      3\u001b[0m \u001b[0mcar2\u001b[0m\u001b[1;33m.\u001b[0m\u001b[0mstop\u001b[0m\u001b[1;33m(\u001b[0m\u001b[1;33m)\u001b[0m\u001b[1;33m\u001b[0m\u001b[1;33m\u001b[0m\u001b[0m\n\u001b[1;32m----> 4\u001b[1;33m \u001b[0mcar\u001b[0m\u001b[1;33m.\u001b[0m\u001b[0mstop\u001b[0m\u001b[1;33m(\u001b[0m\u001b[1;33m)\u001b[0m\u001b[1;33m\u001b[0m\u001b[1;33m\u001b[0m\u001b[0m\n\u001b[0m",
      "\u001b[1;31mAttributeError\u001b[0m: 'Car' object has no attribute 'stop'"
     ]
    }
   ],
   "source": [
    "car2 = Car('20km/h', 'kia')\n",
    "car2.go()\n",
    "car2.stop()\n",
    "car.stop()"
   ]
  },
  {
   "cell_type": "code",
   "execution_count": 11,
   "id": "25c72eee-9535-468d-985a-5f7d29d28b8c",
   "metadata": {},
   "outputs": [
    {
     "data": {
      "text/plain": [
       "'20km/h'"
      ]
     },
     "execution_count": 11,
     "metadata": {},
     "output_type": "execute_result"
    }
   ],
   "source": [
    "car2.speed\n",
    "# 부모는 자식꺼 안됨, 자식은 가능\n",
    "# 부모한테 다 안받아와도 됨 - super().__init__(spedd) 선택적으로 self 안씀"
   ]
  },
  {
   "cell_type": "code",
   "execution_count": 12,
   "id": "f1fcfadb-1b50-4d62-8f48-e10b9f9e1482",
   "metadata": {},
   "outputs": [
    {
     "data": {
      "text/plain": [
       "'kia'"
      ]
     },
     "execution_count": 12,
     "metadata": {},
     "output_type": "execute_result"
    }
   ],
   "source": [
    "car2.brand"
   ]
  },
  {
   "cell_type": "code",
   "execution_count": 14,
   "id": "d2ca8a2b-5e91-4db2-8edd-4ff08c6ce2cf",
   "metadata": {},
   "outputs": [
    {
     "name": "stdout",
     "output_type": "stream",
     "text": [
      "20km/h의 속력으로 달린다.\n",
      "차종은 kia\n"
     ]
    }
   ],
   "source": [
    "car2.go() # 달린다와 차종이 모두 프린트됨 부모 클래스와 자식 클래스 둘다!"
   ]
  },
  {
   "cell_type": "code",
   "execution_count": 17,
   "id": "023bec71-3ccf-4ede-bbf3-01b88d2ff721",
   "metadata": {},
   "outputs": [
    {
     "data": {
      "text/plain": [
       "'15km/h'"
      ]
     },
     "execution_count": 17,
     "metadata": {},
     "output_type": "execute_result"
    }
   ],
   "source": [
    "v = Vehicle('15km/h')\n",
    "v.speed\n",
    "v.brand\n",
    "# 자식클래스만 brand를 가지고 있어서 부모 클래스에서 브랜드 없음"
   ]
  },
  {
   "cell_type": "code",
   "execution_count": 14,
   "id": "cd3a2fb0-1fd0-49e2-affc-9470e6490ace",
   "metadata": {},
   "outputs": [],
   "source": [
    "# 실습\n",
    "# Doctor is Person\n",
    "class Person:\n",
    "    def __init__(self, name):\n",
    "        self.name = name\n",
    "\n",
    "class Doctor(Person):\n",
    "    def __init__(self, name):\n",
    "        super().__init__('Dr.' + name)\n",
    "\n",
    "class Male(Person):\n",
    "    def __init__(self, name):\n",
    "        super().__init__('Mr.' + name)\n",
    "    \n",
    "class Female(Person):\n",
    "    def __init__(self, name):\n",
    "        super.__init__('Mrs.' + name)\n",
    "    "
   ]
  },
  {
   "cell_type": "code",
   "execution_count": 15,
   "id": "07d7a2fa-c176-4495-82ca-b5de47881a98",
   "metadata": {},
   "outputs": [
    {
     "data": {
      "text/plain": [
       "'Dr.son'"
      ]
     },
     "execution_count": 15,
     "metadata": {},
     "output_type": "execute_result"
    }
   ],
   "source": [
    "Doctor('son').name"
   ]
  },
  {
   "cell_type": "markdown",
   "id": "b5c49db3-de7e-4eeb-b263-c359e34e0805",
   "metadata": {},
   "source": [
    "## 다중 상속\n",
    "- method resolution order (MRO)\n",
    "Animal <- Horse\n",
    "        <- Donkey\n",
    "            <- Mule (donkey > horse)\n",
    "            <- Hinny (horse > donkey)\n",
    "            "
   ]
  },
  {
   "cell_type": "code",
   "execution_count": 17,
   "id": "87c4f98f-462d-4c1b-8451-b4f42f332965",
   "metadata": {},
   "outputs": [],
   "source": [
    "class Animal:\n",
    "    def says(self):\n",
    "        return '동물이 운다'\n",
    "# ------------------------- child\n",
    "    \n",
    "class Horse(Animal):\n",
    "    def says(self):\n",
    "        return '히히힝'\n",
    "    \n",
    "class Donkey(Animal):\n",
    "    def says(self):\n",
    "        return '히이호'\n",
    "#-------------------------- grand child\n",
    "\n",
    "# 먼저 쓰인 객체가 더 가까움\n",
    "class Mule(Donkey, Horse):\n",
    "    pass\n",
    "\n",
    "class Hinny(Horse, Donkey):\n",
    "    pass"
   ]
  },
  {
   "cell_type": "code",
   "execution_count": 18,
   "id": "6358fe71-dd47-48a8-9fd7-853a2150414a",
   "metadata": {},
   "outputs": [
    {
     "data": {
      "text/plain": [
       "'히이호'"
      ]
     },
     "execution_count": 18,
     "metadata": {},
     "output_type": "execute_result"
    }
   ],
   "source": [
    "Mule().says()"
   ]
  },
  {
   "cell_type": "code",
   "execution_count": 19,
   "id": "509cab9a-b1b5-41c7-8b41-a2b7d0cd2c47",
   "metadata": {},
   "outputs": [
    {
     "data": {
      "text/plain": [
       "'히히힝'"
      ]
     },
     "execution_count": 19,
     "metadata": {},
     "output_type": "execute_result"
    }
   ],
   "source": [
    "Hinny().says()"
   ]
  },
  {
   "cell_type": "code",
   "execution_count": 20,
   "id": "97e7b6bd-6c1c-419f-9541-211dd7fdf3c7",
   "metadata": {},
   "outputs": [
    {
     "data": {
      "text/plain": [
       "[__main__.Mule, __main__.Donkey, __main__.Horse, __main__.Animal, object]"
      ]
     },
     "execution_count": 20,
     "metadata": {},
     "output_type": "execute_result"
    }
   ],
   "source": [
    "Mule.mro()"
   ]
  },
  {
   "cell_type": "code",
   "execution_count": 21,
   "id": "3c371f6c-179d-4d3c-94bf-392a2e0005d0",
   "metadata": {},
   "outputs": [
    {
     "name": "stdout",
     "output_type": "stream",
     "text": [
      "동물이 운다\n",
      "히히힝\n",
      "히이호\n"
     ]
    }
   ],
   "source": [
    "for animal in [Animal(), Horse(), Mule()]:\n",
    "    print(animal.says())"
   ]
  },
  {
   "cell_type": "markdown",
   "id": "965246a9-a0eb-4c0d-849d-fe1a8b3dc0eb",
   "metadata": {},
   "source": [
    "### 매서드\n",
    "- 인스턴스 매서드\n",
    "- 클래스 매서드\n",
    "- 정적 매서드\n",
    "- 추상 매서드\n",
    "\n",
    "- 인스턴스 매서드\n",
    "    - 우리가 원래 써오던 매서드\n",
    "    - 첫번째 인수가 self인 매서드로 객체 생성 및 객체 사용이 가능하다"
   ]
  },
  {
   "cell_type": "code",
   "execution_count": 22,
   "id": "f5524ef1-53c0-401d-b4ad-cd2501a3d18f",
   "metadata": {},
   "outputs": [
    {
     "data": {
      "text/plain": [
       "'히히힝'"
      ]
     },
     "execution_count": 22,
     "metadata": {},
     "output_type": "execute_result"
    }
   ],
   "source": [
    "h = Hinny()\n",
    "h.says()"
   ]
  },
  {
   "cell_type": "code",
   "execution_count": 23,
   "id": "de13e39e-2710-4040-8dd5-a295c6337764",
   "metadata": {},
   "outputs": [],
   "source": [
    "class A:\n",
    "    cnt = 0\n",
    "    \n",
    "    def move(cls):\n",
    "        print(cls.cnt)\n",
    "        "
   ]
  },
  {
   "cell_type": "code",
   "execution_count": 18,
   "id": "a347e1c9-116b-4cd7-9849-ab9c91cd6512",
   "metadata": {},
   "outputs": [
    {
     "name": "stdout",
     "output_type": "stream",
     "text": [
      "0\n"
     ]
    }
   ],
   "source": [
    "A().move()"
   ]
  },
  {
   "cell_type": "code",
   "execution_count": 24,
   "id": "9f5979e9-da89-45a9-9f8e-420bdcdd7093",
   "metadata": {},
   "outputs": [
    {
     "name": "stdout",
     "output_type": "stream",
     "text": [
      "1\n",
      "2\n",
      "3\n",
      "4\n",
      "5\n"
     ]
    }
   ],
   "source": [
    "class B:\n",
    "    cnt = 0\n",
    "    def __init__(self):\n",
    "        B.cnt += 1\n",
    "        \n",
    "    def count(cls):\n",
    "        print(cls.cnt)\n",
    "    \n",
    "for i in range(5):\n",
    "    B().count()\n",
    "        "
   ]
  },
  {
   "cell_type": "code",
   "execution_count": 26,
   "id": "579bde7d-8c8b-4aef-9128-662372bc6624",
   "metadata": {},
   "outputs": [
    {
     "name": "stdout",
     "output_type": "stream",
     "text": [
      "10\n"
     ]
    }
   ],
   "source": [
    "B().count()"
   ]
  },
  {
   "cell_type": "code",
   "execution_count": 28,
   "id": "96cad106-741e-4b90-919b-067f9f808b4d",
   "metadata": {},
   "outputs": [],
   "source": [
    "class Person:\n",
    "    def __init__(self, name, age):\n",
    "        self.name = name\n",
    "        self.age = age\n",
    "    @classmethod\n",
    "    # 튜플을 인자로 받아서 객체를 생성하는 매서드\n",
    "    def tuple_object(cls, args):\n",
    "        return cls(args[0], args[1])\n",
    "    \n",
    "p1 = Person('Lee', 22)\n",
    "\n",
    "name = \"Lee\"\n",
    "age = 22\n",
    "info = name, age\n",
    "p = Person.tuple_object(info)\n",
    "        "
   ]
  },
  {
   "cell_type": "code",
   "execution_count": 29,
   "id": "eac3d7b0-9c47-4eaf-8eab-a6b2fdfb1c66",
   "metadata": {},
   "outputs": [
    {
     "data": {
      "text/plain": [
       "'Lee'"
      ]
     },
     "execution_count": 29,
     "metadata": {},
     "output_type": "execute_result"
    }
   ],
   "source": [
    "p1.name"
   ]
  },
  {
   "cell_type": "code",
   "execution_count": 30,
   "id": "c61361ee-1483-4382-9a27-13f7b8c2935f",
   "metadata": {},
   "outputs": [
    {
     "data": {
      "text/plain": [
       "22"
      ]
     },
     "execution_count": 30,
     "metadata": {},
     "output_type": "execute_result"
    }
   ],
   "source": [
    "p1.age"
   ]
  },
  {
   "cell_type": "code",
   "execution_count": 31,
   "id": "f58134ab-6df9-4bc1-9dc7-d9dfdff078cb",
   "metadata": {},
   "outputs": [
    {
     "name": "stdout",
     "output_type": "stream",
     "text": [
      "<__main__.Person object at 0x000002093A251310>\n"
     ]
    }
   ],
   "source": [
    "print(p)"
   ]
  },
  {
   "cell_type": "code",
   "execution_count": 32,
   "id": "4f8c14e0-10c1-48b5-994f-d455e0124c3e",
   "metadata": {},
   "outputs": [
    {
     "data": {
      "text/plain": [
       "'Lee'"
      ]
     },
     "execution_count": 32,
     "metadata": {},
     "output_type": "execute_result"
    }
   ],
   "source": [
    "p.name"
   ]
  },
  {
   "cell_type": "code",
   "execution_count": 33,
   "id": "bc92d6ee-1a7d-42e5-b88b-81a5389e2344",
   "metadata": {},
   "outputs": [
    {
     "data": {
      "text/plain": [
       "22"
      ]
     },
     "execution_count": 33,
     "metadata": {},
     "output_type": "execute_result"
    }
   ],
   "source": [
    "p.age"
   ]
  },
  {
   "cell_type": "code",
   "execution_count": 35,
   "id": "329d430b-d620-4ab0-a54b-e2b675e2ec03",
   "metadata": {},
   "outputs": [
    {
     "ename": "TypeError",
     "evalue": "tuple_object() takes 2 positional arguments but 3 were given",
     "output_type": "error",
     "traceback": [
      "\u001b[1;31m---------------------------------------------------------------------------\u001b[0m",
      "\u001b[1;31mTypeError\u001b[0m                                 Traceback (most recent call last)",
      "\u001b[1;32m~\\AppData\\Local\\Temp/ipykernel_12616/2705325022.py\u001b[0m in \u001b[0;36m<module>\u001b[1;34m\u001b[0m\n\u001b[0;32m      1\u001b[0m \u001b[1;31m# p1 = Person.tuple_object(name, age)로 바로 만들기는 안됨\u001b[0m\u001b[1;33m\u001b[0m\u001b[1;33m\u001b[0m\u001b[0m\n\u001b[1;32m----> 2\u001b[1;33m \u001b[0mp\u001b[0m \u001b[1;33m=\u001b[0m \u001b[0mPerson\u001b[0m\u001b[1;33m.\u001b[0m\u001b[0mtuple_object\u001b[0m\u001b[1;33m(\u001b[0m\u001b[1;34m'Lee'\u001b[0m\u001b[1;33m,\u001b[0m \u001b[1;36m22\u001b[0m\u001b[1;33m)\u001b[0m \u001b[1;31m# > arg가 3개라고 한다\u001b[0m\u001b[1;33m\u001b[0m\u001b[1;33m\u001b[0m\u001b[0m\n\u001b[0m",
      "\u001b[1;31mTypeError\u001b[0m: tuple_object() takes 2 positional arguments but 3 were given"
     ]
    }
   ],
   "source": [
    "# p1 = Person.tuple_object(name, age)로 바로 만들기는 안됨 \n",
    "p = Person.tuple_object('Lee', 22) # > arg가 3개라고 한다"
   ]
  },
  {
   "cell_type": "code",
   "execution_count": 38,
   "id": "d02aadb7-0c1c-4c44-9800-d6afbb0d5f2a",
   "metadata": {},
   "outputs": [],
   "source": [
    "name = 'Song'\n",
    "age = 24\n",
    "inform = name, age\n",
    "p1 = Person.tuple_object(inform)"
   ]
  },
  {
   "cell_type": "code",
   "execution_count": 39,
   "id": "a3378c77-bea3-4407-bb75-e290d019b210",
   "metadata": {},
   "outputs": [
    {
     "data": {
      "text/plain": [
       "'Song'"
      ]
     },
     "execution_count": 39,
     "metadata": {},
     "output_type": "execute_result"
    }
   ],
   "source": [
    "p1.name"
   ]
  },
  {
   "cell_type": "code",
   "execution_count": 40,
   "id": "3ae7cd0e-f108-4cf8-a78a-a5c54c0bf78f",
   "metadata": {},
   "outputs": [
    {
     "data": {
      "text/plain": [
       "24"
      ]
     },
     "execution_count": 40,
     "metadata": {},
     "output_type": "execute_result"
    }
   ],
   "source": [
    "p1.age"
   ]
  },
  {
   "cell_type": "markdown",
   "id": "29cdcb11-0a8e-4190-938e-06c8ae930b16",
   "metadata": {},
   "source": [
    "### 정적 메소드\n",
    "- 첫번째 인수를 self로 받지 않는다.\n",
    "- 클래스나 인스턴스에 접근하지 않는다. \n",
    "- 비슷한 유틸리티라서 클래스 내에 묶어둘 때 사용\n",
    "- 객체를 생성하지 않고 메소드 접근 가능(class 메소드와 공통점)\n",
    "- @staticmethod 로 가능\n",
    "- self로 받지 않기 때문에 속성을 보기가 불가능함\n",
    "\n"
   ]
  },
  {
   "cell_type": "code",
   "execution_count": 42,
   "id": "3f675c02-3923-4e0f-8393-c9ec993413cb",
   "metadata": {},
   "outputs": [
    {
     "name": "stdout",
     "output_type": "stream",
     "text": [
      "95\n",
      "15\n"
     ]
    }
   ],
   "source": [
    "class Calculator:\n",
    "    \n",
    "    @staticmethod\n",
    "    def add(a, b):\n",
    "        print(a + b)\n",
    "        \n",
    "    @staticmethod\n",
    "    def minus(a, b):\n",
    "        print(a - b)\n",
    "        \n",
    "Calculator.add(55,40)\n",
    "Calculator.minus(55,40)"
   ]
  },
  {
   "cell_type": "markdown",
   "id": "1d7d5d49-e278-4118-91fe-731f8cf7c9e4",
   "metadata": {},
   "source": [
    "### 추상 메소드\n",
    "- @abstractmethod로 사용\n",
    "- 여러 함수, 메소드들이 섞여 변수, 함수를 모를 때 이를 모아보기 위해 사용\n",
    "- 재정의 해주지 않으면 오류를 출력\n",
    "- 협업 시 누락 방지에 도움"
   ]
  },
  {
   "cell_type": "code",
   "execution_count": 43,
   "id": "4af84e53-5190-423e-ad28-d8b8d786ca61",
   "metadata": {},
   "outputs": [],
   "source": [
    "from abc import *\n",
    "\n",
    "class Vehicle(metaclass = ABCMeta):\n",
    "    speed = '속도'\n",
    "    \n",
    "    @abstractmethod\n",
    "    def drive(self):\n",
    "        print('교통수단에 관하여')\n",
    "    def stop(self):\n",
    "        pass\n",
    "    \n",
    "class Car(Vehicle):\n",
    "    def drive(self):\n",
    "        return super().speed"
   ]
  },
  {
   "cell_type": "code",
   "execution_count": 45,
   "id": "ed24ea98-98e4-4290-9d00-8dd7df34ed61",
   "metadata": {},
   "outputs": [
    {
     "data": {
      "text/plain": [
       "'속도'"
      ]
     },
     "execution_count": 45,
     "metadata": {},
     "output_type": "execute_result"
    }
   ],
   "source": [
    "car1 = Car()\n",
    "car1.drive()"
   ]
  },
  {
   "cell_type": "code",
   "execution_count": null,
   "id": "a571ea19-7855-41d3-a65e-4192a4a2b759",
   "metadata": {},
   "outputs": [],
   "source": []
  }
 ],
 "metadata": {
  "kernelspec": {
   "display_name": "Python 3 (ipykernel)",
   "language": "python",
   "name": "python3"
  },
  "language_info": {
   "codemirror_mode": {
    "name": "ipython",
    "version": 3
   },
   "file_extension": ".py",
   "mimetype": "text/x-python",
   "name": "python",
   "nbconvert_exporter": "python",
   "pygments_lexer": "ipython3",
   "version": "3.9.7"
  }
 },
 "nbformat": 4,
 "nbformat_minor": 5
}
