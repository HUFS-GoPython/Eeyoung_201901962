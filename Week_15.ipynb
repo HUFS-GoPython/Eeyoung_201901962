{
 "cells": [
  {
   "cell_type": "markdown",
   "id": "062289b5-e82c-4d39-8241-b1b7a6119868",
   "metadata": {},
   "source": [
    "## Week_15"
   ]
  },
  {
   "cell_type": "markdown",
   "id": "449c91b4-434c-4443-8c9b-ea1da0d9eb06",
   "metadata": {
    "tags": []
   },
   "source": [
    "### 파일과 디렉터리\n",
    "- 파일: 컴퓨터를 실행할 때 가장 기본이 되는 단위\n",
    "- 디렉터리: 폴더, 파일을 논리적으로 묶어놓은 단위\n",
    "    - 직박구리: a, b, c ...\n",
    "- 파일 = 파일명 + 확장자(.txt, .csv, ...)\n",
    "- 바이너리, 텍스트\n",
    "    - 바이너리: 엑셀, 워드, ...\n",
    "    - 텍스트: 바이너리를 읽을 수 있는 문자로 변환한 것 \n",
    "        - 메모장, python, html\n",
    "        - 기준: 아스키코드, 유니코드 제정(\"인코딩\")\n",
    "        - utf-8(한국에서 주로 사용함)\n",
    "        - cp494\n",
    "- f = open(파일명, 모드)\n",
    "- 모드\n",
    "    - r(read mode): 파일 불러오기 (default)\n",
    "    - w(write mode): 없으면 새로 만들고 있으면 덮어쓰기\n",
    "    - a(add/append mode): 기존 파일에 마지막에 추가\n",
    "    - x(exclusive mode): write와 유사하나 파일이 존재하지 않을 때만 작동(덮어쓰기로 인한 기존 내용이 변형되는 것을 막음)\n",
    "    - b(binary mode): 바이너리\n",
    "    - t(text mode): 텍스트(default)\n",
    "    - rb, rt, ... 와 같은 형태로 사용"
   ]
  },
  {
   "cell_type": "code",
   "execution_count": 20,
   "id": "8a44f8c4-6b08-418c-a4ff-f72ad7b1b4cc",
   "metadata": {},
   "outputs": [
    {
     "data": {
      "text/plain": [
       "<_io.TextIOWrapper name='text.txt' mode='r' encoding='cp949'>"
      ]
     },
     "execution_count": 20,
     "metadata": {},
     "output_type": "execute_result"
    }
   ],
   "source": [
    "f = open(\"text.txt\", 'r')\n",
    "f"
   ]
  },
  {
   "cell_type": "code",
   "execution_count": 11,
   "id": "78305390-13bf-417b-9ece-9fa246fa089b",
   "metadata": {},
   "outputs": [
    {
     "data": {
      "text/plain": [
       "'hello'"
      ]
     },
     "execution_count": 11,
     "metadata": {},
     "output_type": "execute_result"
    }
   ],
   "source": [
    "f.read(5) # 앞에서부터 5글자를 읽어옴"
   ]
  },
  {
   "cell_type": "code",
   "execution_count": 12,
   "id": "e3c86295-e893-4b1b-a2fd-787589891438",
   "metadata": {},
   "outputs": [
    {
     "data": {
      "text/plain": [
       "' wo'"
      ]
     },
     "execution_count": 12,
     "metadata": {},
     "output_type": "execute_result"
    }
   ],
   "source": [
    "f.read(3) # 다시 사용하면 그 다음 글자를 읽어옴"
   ]
  },
  {
   "cell_type": "code",
   "execution_count": 13,
   "id": "6b14a437-a4c0-4921-89af-ff707953f8c4",
   "metadata": {},
   "outputs": [],
   "source": [
    "# 자원 해제\n",
    "# 파일이 열린 상태에서 다른 프로그램이 같은 파일을 동시에 호출할 경우 에러 발생\n",
    "# 파일은 사용한 후 항상 닫아줘야함\n",
    "f.close()"
   ]
  },
  {
   "cell_type": "code",
   "execution_count": 21,
   "id": "16a20be0-8b51-4d3c-a964-62c5d27b2078",
   "metadata": {},
   "outputs": [
    {
     "data": {
      "text/plain": [
       "['hello world\\n', '안녕하세요\\n', 'abcdefg']"
      ]
     },
     "execution_count": 21,
     "metadata": {},
     "output_type": "execute_result"
    }
   ],
   "source": [
    "# with open() 쓰면 블록 벗어나면 자동으로 닫힘\n",
    "with open(\"text.txt\", 'r', encoding='UTF8') as f:\n",
    "    data = f.readlines() # 파일을 닫기 전에 미리 변수에 저장\n",
    "data"
   ]
  },
  {
   "cell_type": "markdown",
   "id": "a8033694-7a8b-4d70-bd82-cb8c5bfe19b7",
   "metadata": {},
   "source": [
    "- read(): 파일을 하나의 문자열로 불러오기\n",
    "- readline(): 파일을 한 줄씩 불러오기\n",
    "- readlines(): 파일 전체를 줄 단위로 각각 리스트에 담아 불러오기"
   ]
  },
  {
   "cell_type": "code",
   "execution_count": 24,
   "id": "b51f1ec7-127d-4f0f-93e9-fea8947503c9",
   "metadata": {},
   "outputs": [
    {
     "data": {
      "text/plain": [
       "'hello world\\n안녕하세요\\nabcdefg'"
      ]
     },
     "execution_count": 24,
     "metadata": {},
     "output_type": "execute_result"
    }
   ],
   "source": [
    "# read()\n",
    "with open(\"text.txt\", 'r', encoding='UTF8') as f:\n",
    "    data = f.read()\n",
    "data"
   ]
  },
  {
   "cell_type": "code",
   "execution_count": 26,
   "id": "1cbbac68-a1e5-451b-af76-7ed683d0bb23",
   "metadata": {},
   "outputs": [
    {
     "data": {
      "text/plain": [
       "['hello world\\n', '안녕하세요\\n', 'abcdefg']"
      ]
     },
     "execution_count": 26,
     "metadata": {},
     "output_type": "execute_result"
    }
   ],
   "source": [
    "# readline()\n",
    "with open('text.txt', 'r', encoding='UTF8') as f:\n",
    "    data = f.readlines()\n",
    "data"
   ]
  },
  {
   "cell_type": "code",
   "execution_count": 28,
   "id": "7ace30e7-b7c8-4379-ab7b-a585fbe65e68",
   "metadata": {},
   "outputs": [],
   "source": [
    "# write\n",
    "file = 'text2.txt'\n",
    "f = open(file, 'w', encoding='UTF8')\n",
    "\n",
    "for i in range(1, 6):\n",
    "    data = f'{i}번째 줄입니다.\\n'\n",
    "    f.write(data)\n",
    "\n",
    "f.close()"
   ]
  },
  {
   "cell_type": "code",
   "execution_count": 29,
   "id": "a379ddc4-7862-43e5-9923-d1a16c96c2e7",
   "metadata": {},
   "outputs": [
    {
     "data": {
      "text/plain": [
       "['1번째 줄입니다.\\n', '2번째 줄입니다.\\n', '3번째 줄입니다.\\n', '4번째 줄입니다.\\n', '5번째 줄입니다.\\n']"
      ]
     },
     "execution_count": 29,
     "metadata": {},
     "output_type": "execute_result"
    }
   ],
   "source": [
    "with open(file, 'r', encoding='UTF8') as f:\n",
    "    data = f.readlines()\n",
    "data"
   ]
  },
  {
   "cell_type": "code",
   "execution_count": 30,
   "id": "1e6853ba-5d26-47f2-8d1c-f11d709a421f",
   "metadata": {},
   "outputs": [
    {
     "ename": "UnicodeDecodeError",
     "evalue": "'cp949' codec can't decode byte 0xeb in position 14: illegal multibyte sequence",
     "output_type": "error",
     "traceback": [
      "\u001b[1;31m---------------------------------------------------------------------------\u001b[0m",
      "\u001b[1;31mUnicodeDecodeError\u001b[0m                        Traceback (most recent call last)",
      "\u001b[1;32m~\\AppData\\Local\\Temp/ipykernel_8616/3103729252.py\u001b[0m in \u001b[0;36m<module>\u001b[1;34m\u001b[0m\n\u001b[0;32m      1\u001b[0m \u001b[1;32mwith\u001b[0m \u001b[0mopen\u001b[0m\u001b[1;33m(\u001b[0m\u001b[0mfile\u001b[0m\u001b[1;33m,\u001b[0m \u001b[1;34m'r'\u001b[0m\u001b[1;33m)\u001b[0m \u001b[1;32mas\u001b[0m \u001b[0mf\u001b[0m\u001b[1;33m:\u001b[0m \u001b[1;31m# 인코딩을 통일하지 않으면 오류 발생\u001b[0m\u001b[1;33m\u001b[0m\u001b[1;33m\u001b[0m\u001b[0m\n\u001b[1;32m----> 2\u001b[1;33m     \u001b[0mdata\u001b[0m \u001b[1;33m=\u001b[0m \u001b[0mf\u001b[0m\u001b[1;33m.\u001b[0m\u001b[0mreadlines\u001b[0m\u001b[1;33m(\u001b[0m\u001b[1;33m)\u001b[0m\u001b[1;33m\u001b[0m\u001b[1;33m\u001b[0m\u001b[0m\n\u001b[0m\u001b[0;32m      3\u001b[0m \u001b[0mdata\u001b[0m\u001b[1;33m\u001b[0m\u001b[1;33m\u001b[0m\u001b[0m\n",
      "\u001b[1;31mUnicodeDecodeError\u001b[0m: 'cp949' codec can't decode byte 0xeb in position 14: illegal multibyte sequence"
     ]
    }
   ],
   "source": [
    "with open(file, 'r') as f: # 인코딩을 통일하지 않으면 오류 발생\n",
    "    data = f.readlines()\n",
    "data"
   ]
  },
  {
   "cell_type": "code",
   "execution_count": 31,
   "id": "64b41ebe-28f8-4c5e-8831-7a0111efdb31",
   "metadata": {},
   "outputs": [],
   "source": [
    "import os"
   ]
  },
  {
   "cell_type": "code",
   "execution_count": 32,
   "id": "8738d93a-78cd-492a-ad7d-ba2b2de38aa1",
   "metadata": {},
   "outputs": [],
   "source": [
    "os.remove(file)"
   ]
  },
  {
   "cell_type": "markdown",
   "id": "6dd1825c-60df-45ad-8b49-8bb241a6e17b",
   "metadata": {},
   "source": [
    "### 다른 디렉토리의 파일을 가져오는 법\n",
    "- .: 현제 위치 조회\n",
    "- ..: 상위 디렉토리 조회"
   ]
  },
  {
   "cell_type": "code",
   "execution_count": 33,
   "id": "b53d8360-7872-412a-af65-3a8e9a894300",
   "metadata": {},
   "outputs": [
    {
     "ename": "FileNotFoundError",
     "evalue": "[Errno 2] No such file or directory: 'text3.txt'",
     "output_type": "error",
     "traceback": [
      "\u001b[1;31m---------------------------------------------------------------------------\u001b[0m",
      "\u001b[1;31mFileNotFoundError\u001b[0m                         Traceback (most recent call last)",
      "\u001b[1;32m~\\AppData\\Local\\Temp/ipykernel_8616/2123617767.py\u001b[0m in \u001b[0;36m<module>\u001b[1;34m\u001b[0m\n\u001b[0;32m      1\u001b[0m \u001b[0mfile\u001b[0m \u001b[1;33m=\u001b[0m \u001b[1;34m'text3.txt'\u001b[0m\u001b[1;33m\u001b[0m\u001b[1;33m\u001b[0m\u001b[0m\n\u001b[0;32m      2\u001b[0m \u001b[1;33m\u001b[0m\u001b[0m\n\u001b[1;32m----> 3\u001b[1;33m \u001b[1;32mwith\u001b[0m \u001b[0mopen\u001b[0m\u001b[1;33m(\u001b[0m\u001b[0mfile\u001b[0m\u001b[1;33m)\u001b[0m \u001b[1;32mas\u001b[0m \u001b[0mf\u001b[0m\u001b[1;33m:\u001b[0m\u001b[1;33m\u001b[0m\u001b[1;33m\u001b[0m\u001b[0m\n\u001b[0m\u001b[0;32m      4\u001b[0m     \u001b[0mf\u001b[0m\u001b[1;33m.\u001b[0m\u001b[0mread\u001b[0m\u001b[1;33m(\u001b[0m\u001b[1;33m)\u001b[0m\u001b[1;33m\u001b[0m\u001b[1;33m\u001b[0m\u001b[0m\n",
      "\u001b[1;31mFileNotFoundError\u001b[0m: [Errno 2] No such file or directory: 'text3.txt'"
     ]
    }
   ],
   "source": [
    "file = 'text3.txt'\n",
    "\n",
    "with open(file) as f:\n",
    "    f.read() # 같은 디렉토리에 없어서"
   ]
  },
  {
   "cell_type": "code",
   "execution_count": 37,
   "id": "62eaf874-f426-43e7-84ab-e96964322c23",
   "metadata": {},
   "outputs": [
    {
     "data": {
      "text/plain": [
       "'text3'"
      ]
     },
     "execution_count": 37,
     "metadata": {},
     "output_type": "execute_result"
    }
   ],
   "source": [
    "with open('../text3.txt', 'r') as f: # 상위 디렉토리 조회한 것\n",
    "    data = f.read()\n",
    "data"
   ]
  },
  {
   "cell_type": "markdown",
   "id": "fa5d7c29-ff91-46bb-99f6-152468c0f01b",
   "metadata": {},
   "source": [
    "### 다른 디렉토리의 파일 작성(수정)하기"
   ]
  },
  {
   "cell_type": "code",
   "execution_count": 39,
   "id": "07161403-2950-452d-baff-afafb260283e",
   "metadata": {},
   "outputs": [],
   "source": [
    "# mkdir()\n",
    "os.mkdir('test_folder') # 디렉토리 생성"
   ]
  },
  {
   "cell_type": "code",
   "execution_count": 41,
   "id": "d6b22b78-2e3d-4123-b735-f4065889c55e",
   "metadata": {},
   "outputs": [
    {
     "ename": "FileExistsError",
     "evalue": "[WinError 183] 파일이 이미 있으므로 만들 수 없습니다: 'test_folder'",
     "output_type": "error",
     "traceback": [
      "\u001b[1;31m---------------------------------------------------------------------------\u001b[0m",
      "\u001b[1;31mFileExistsError\u001b[0m                           Traceback (most recent call last)",
      "\u001b[1;32m~\\AppData\\Local\\Temp/ipykernel_8616/3465713459.py\u001b[0m in \u001b[0;36m<module>\u001b[1;34m\u001b[0m\n\u001b[1;32m----> 1\u001b[1;33m \u001b[0mos\u001b[0m\u001b[1;33m.\u001b[0m\u001b[0mmkdir\u001b[0m\u001b[1;33m(\u001b[0m\u001b[1;34m'test_folder'\u001b[0m\u001b[1;33m)\u001b[0m \u001b[1;31m# 이미 있는 파일명일 경우 새로 생성하는 것 불가함\u001b[0m\u001b[1;33m\u001b[0m\u001b[1;33m\u001b[0m\u001b[0m\n\u001b[0m",
      "\u001b[1;31mFileExistsError\u001b[0m: [WinError 183] 파일이 이미 있으므로 만들 수 없습니다: 'test_folder'"
     ]
    }
   ],
   "source": [
    "os.mkdir('test_folder') # 이미 있는 파일명일 경우 새로 생성하는 것 불가함"
   ]
  },
  {
   "cell_type": "code",
   "execution_count": 42,
   "id": "895f4066-7c78-4f9e-bf63-3b8f6a4e0e9c",
   "metadata": {},
   "outputs": [],
   "source": [
    "if not os.path.isdir('test_folder'):\n",
    "    os.mkdir('test_folder')"
   ]
  },
  {
   "cell_type": "code",
   "execution_count": 44,
   "id": "f8a2ef05-a080-46e0-8df5-3ab17bf005ae",
   "metadata": {},
   "outputs": [],
   "source": [
    "file = './test_folder/text4.txt'\n",
    "f = open(file, 'w', encoding='UTF8')\n",
    "f.write('abcd')\n",
    "f.close()"
   ]
  },
  {
   "cell_type": "code",
   "execution_count": 45,
   "id": "270e495a-13f4-4cf9-9e68-6f905dad532b",
   "metadata": {},
   "outputs": [
    {
     "data": {
      "text/plain": [
       "True"
      ]
     },
     "execution_count": 45,
     "metadata": {},
     "output_type": "execute_result"
    }
   ],
   "source": [
    "os.path.exists(file)"
   ]
  },
  {
   "cell_type": "code",
   "execution_count": 46,
   "id": "1fa261a4-503a-4d98-a376-dc1001416080",
   "metadata": {},
   "outputs": [
    {
     "data": {
      "text/plain": [
       "'abcd'"
      ]
     },
     "execution_count": 46,
     "metadata": {},
     "output_type": "execute_result"
    }
   ],
   "source": [
    "with open(file, 'r', encoding='UTF8') as f:\n",
    "    data = f.read()\n",
    "data"
   ]
  },
  {
   "cell_type": "code",
   "execution_count": 47,
   "id": "9cf25d32-409a-4a47-b35a-3b19dd84ad30",
   "metadata": {},
   "outputs": [
    {
     "ename": "OSError",
     "evalue": "[WinError 145] 디렉터리가 비어 있지 않습니다: 'test_folder'",
     "output_type": "error",
     "traceback": [
      "\u001b[1;31m---------------------------------------------------------------------------\u001b[0m",
      "\u001b[1;31mOSError\u001b[0m                                   Traceback (most recent call last)",
      "\u001b[1;32m~\\AppData\\Local\\Temp/ipykernel_8616/3741689949.py\u001b[0m in \u001b[0;36m<module>\u001b[1;34m\u001b[0m\n\u001b[0;32m      1\u001b[0m \u001b[1;31m# rmdir()\u001b[0m\u001b[1;33m\u001b[0m\u001b[1;33m\u001b[0m\u001b[0m\n\u001b[0;32m      2\u001b[0m \u001b[1;31m# 디렉토리를 제거하는 기능\u001b[0m\u001b[1;33m\u001b[0m\u001b[1;33m\u001b[0m\u001b[0m\n\u001b[1;32m----> 3\u001b[1;33m \u001b[0mos\u001b[0m\u001b[1;33m.\u001b[0m\u001b[0mrmdir\u001b[0m\u001b[1;33m(\u001b[0m\u001b[1;34m'test_folder'\u001b[0m\u001b[1;33m)\u001b[0m \u001b[1;31m# 디렉토리가 비어있지 않아 제거 되지 않음\u001b[0m\u001b[1;33m\u001b[0m\u001b[1;33m\u001b[0m\u001b[0m\n\u001b[0m",
      "\u001b[1;31mOSError\u001b[0m: [WinError 145] 디렉터리가 비어 있지 않습니다: 'test_folder'"
     ]
    }
   ],
   "source": [
    "# rmdir()\n",
    "# 디렉토리를 제거하는 기능\n",
    "os.rmdir('test_folder') # 디렉토리가 비어있지 않아 제거 되지 않음"
   ]
  },
  {
   "cell_type": "code",
   "execution_count": 48,
   "id": "f832ca54-7baf-4d27-bcb4-8de0eb9af3b5",
   "metadata": {},
   "outputs": [],
   "source": [
    "os.remove(file) # 먼저 파일을 제거하기\n",
    "os.rmdir('test_folder')"
   ]
  },
  {
   "cell_type": "code",
   "execution_count": 49,
   "id": "551d9ef8-05b9-418e-89df-32089871fff9",
   "metadata": {},
   "outputs": [
    {
     "data": {
      "text/plain": [
       "False"
      ]
     },
     "execution_count": 49,
     "metadata": {},
     "output_type": "execute_result"
    }
   ],
   "source": [
    "os.path.exists(file)"
   ]
  },
  {
   "cell_type": "code",
   "execution_count": 50,
   "id": "894f6ea8-9250-4bd2-80a4-4a32c5f1e983",
   "metadata": {},
   "outputs": [
    {
     "name": "stdout",
     "output_type": "stream",
     "text": [
      "True\n",
      "False\n"
     ]
    }
   ],
   "source": [
    "# 디렉토리가 비어있지 않아도 삭제하기\n",
    "import shutil\n",
    "\n",
    "os.mkdir('test_folder')\n",
    "file = './test_folder/text5.txt'\n",
    "f = open(file, 'w', encoding='UTF8')\n",
    "f.write('textfile')\n",
    "f.close()\n",
    "\n",
    "print(os.path.exists(file))\n",
    "\n",
    "shutil.rmtree('test_folder')\n",
    "print(os.path.isdir('test_folder')) "
   ]
  },
  {
   "cell_type": "code",
   "execution_count": 51,
   "id": "b7d8c92e-0725-4599-9d40-96126e4cdba8",
   "metadata": {},
   "outputs": [
    {
     "data": {
      "text/plain": [
       "'C:\\\\Users\\\\82109\\\\고급파이썬프로그래밍\\\\week_15'"
      ]
     },
     "execution_count": 51,
     "metadata": {},
     "output_type": "execute_result"
    }
   ],
   "source": [
    "os.getcwd() # 현재 디렉토리의 주소 확인"
   ]
  },
  {
   "cell_type": "code",
   "execution_count": 52,
   "id": "7c9cf0df-fd18-4af5-b889-3056e7334839",
   "metadata": {},
   "outputs": [],
   "source": [
    "os.chdir('..') # 작업 디렉토리 변경 -> ..: 상위 디렉토리로"
   ]
  },
  {
   "cell_type": "code",
   "execution_count": 53,
   "id": "b073811e-fc2e-47e3-be24-ef2bdf686384",
   "metadata": {},
   "outputs": [
    {
     "data": {
      "text/plain": [
       "'C:\\\\Users\\\\82109\\\\고급파이썬프로그래밍'"
      ]
     },
     "execution_count": 53,
     "metadata": {},
     "output_type": "execute_result"
    }
   ],
   "source": [
    "os.getcwd() # 상위 디렉토리로 이동했음 확인하기"
   ]
  },
  {
   "cell_type": "code",
   "execution_count": 54,
   "id": "2e98bf5d-76e4-48db-a430-582bc9d69776",
   "metadata": {},
   "outputs": [],
   "source": [
    "os.chdir('./week_15')"
   ]
  },
  {
   "cell_type": "code",
   "execution_count": 56,
   "id": "ee699d59-ea7b-4dbb-8ff8-825e9a41df56",
   "metadata": {},
   "outputs": [
    {
     "data": {
      "text/plain": [
       "'C:\\\\Users\\\\82109\\\\고급파이썬프로그래밍\\\\week_15'"
      ]
     },
     "execution_count": 56,
     "metadata": {},
     "output_type": "execute_result"
    }
   ],
   "source": [
    "os.getcwd() # 다시 원래 디렉토리로"
   ]
  },
  {
   "cell_type": "markdown",
   "id": "160a8f6c-d21d-41dc-b533-397012fe092d",
   "metadata": {},
   "source": [
    "### pikle\n",
    "- 객체를 파일로 외부에 저장, 불러들일 수 있는 라이브러리\n",
    "- 저장: pikle.dump(변수, 파일명)\n",
    "- 불러오기: pikle.load(파일)"
   ]
  },
  {
   "cell_type": "code",
   "execution_count": 58,
   "id": "77fc6fd8-8574-4968-86a4-03ac5c905047",
   "metadata": {},
   "outputs": [],
   "source": [
    "import pickle"
   ]
  },
  {
   "cell_type": "code",
   "execution_count": 60,
   "id": "7d17233f-b39b-4c79-bc77-743899a462ff",
   "metadata": {},
   "outputs": [
    {
     "data": {
      "text/plain": [
       "[0, 1, 2, 3, 4]"
      ]
     },
     "execution_count": 60,
     "metadata": {},
     "output_type": "execute_result"
    }
   ],
   "source": [
    "num = list(range(5))\n",
    "num"
   ]
  },
  {
   "cell_type": "code",
   "execution_count": 63,
   "id": "158e0208-79ca-4c25-92e4-f64f89fafe79",
   "metadata": {},
   "outputs": [],
   "source": [
    "f = open('test.pickle', 'wb') # 바이너리로 저장(열 수는 없음)\n",
    "pickle.dump(num, f)\n",
    "f.close()"
   ]
  },
  {
   "cell_type": "code",
   "execution_count": null,
   "id": "f1fa2aa7-f611-4e59-80f5-920f2e1edede",
   "metadata": {},
   "outputs": [],
   "source": [
    "with open('test.pickle', 'rb') as f:\n",
    "    number = pickle.load(f)\n",
    "number"
   ]
  },
  {
   "cell_type": "code",
   "execution_count": null,
   "id": "5f3e4b06-9fb8-4713-9b35-f4fe94c4aab6",
   "metadata": {},
   "outputs": [],
   "source": []
  }
 ],
 "metadata": {
  "kernelspec": {
   "display_name": "Python 3 (ipykernel)",
   "language": "python",
   "name": "python3"
  },
  "language_info": {
   "codemirror_mode": {
    "name": "ipython",
    "version": 3
   },
   "file_extension": ".py",
   "mimetype": "text/x-python",
   "name": "python",
   "nbconvert_exporter": "python",
   "pygments_lexer": "ipython3",
   "version": "3.9.7"
  }
 },
 "nbformat": 4,
 "nbformat_minor": 5
}
