{
 "cells": [
  {
   "cell_type": "markdown",
   "id": "a44e9f08-ce6e-4dfa-afa4-d2daf4280ed0",
   "metadata": {},
   "source": [
    "## CH2. Variables\n",
    "자료형 변환하기\n",
    "- int, str, float, bool"
   ]
  },
  {
   "cell_type": "code",
   "execution_count": 2,
   "id": "90577780-ba15-47ee-bcbd-be107f52cb09",
   "metadata": {},
   "outputs": [
    {
     "data": {
      "text/plain": [
       "int"
      ]
     },
     "execution_count": 2,
     "metadata": {},
     "output_type": "execute_result"
    }
   ],
   "source": [
    "a = 10\n",
    "type(a)"
   ]
  },
  {
   "cell_type": "code",
   "execution_count": 3,
   "id": "00c24db0-0844-4ccd-962c-28260a7b881d",
   "metadata": {},
   "outputs": [
    {
     "data": {
      "text/plain": [
       "10.0"
      ]
     },
     "execution_count": 3,
     "metadata": {},
     "output_type": "execute_result"
    }
   ],
   "source": [
    "float(a)"
   ]
  },
  {
   "cell_type": "code",
   "execution_count": 4,
   "id": "2424a7b9-53f1-4c1b-b259-666501c11aa4",
   "metadata": {},
   "outputs": [
    {
     "data": {
      "text/plain": [
       "'10'"
      ]
     },
     "execution_count": 4,
     "metadata": {},
     "output_type": "execute_result"
    }
   ],
   "source": [
    "str(a)"
   ]
  },
  {
   "cell_type": "code",
   "execution_count": 8,
   "id": "07b1a050-ba24-4782-95a1-b8706903a53c",
   "metadata": {},
   "outputs": [
    {
     "data": {
      "text/plain": [
       "True"
      ]
     },
     "execution_count": 8,
     "metadata": {},
     "output_type": "execute_result"
    }
   ],
   "source": [
    "#int -> bool\n",
    "bool(10)"
   ]
  },
  {
   "cell_type": "code",
   "execution_count": 9,
   "id": "0c1c2d10-20b3-4257-a9f4-1a5fc110bb4f",
   "metadata": {},
   "outputs": [
    {
     "data": {
      "text/plain": [
       "10"
      ]
     },
     "execution_count": 9,
     "metadata": {},
     "output_type": "execute_result"
    }
   ],
   "source": [
    "# float -> int: 10.6 => 정수형 변환시 소수점 이하 값 버린다\n",
    "int(10.9) "
   ]
  },
  {
   "cell_type": "code",
   "execution_count": 10,
   "id": "96a2cf34-61fd-4b43-94d0-b180baaf7a05",
   "metadata": {},
   "outputs": [
    {
     "name": "stdout",
     "output_type": "stream",
     "text": [
      "12\n",
      "11\n"
     ]
    }
   ],
   "source": [
    "x = 4.6\n",
    "y = 7.9\n",
    "\n",
    "print(int(x + y)) #4.6 + 7.9 = 12.xx -> 소수점 이하 버림\n",
    "print(int(x) + int(y)) #4+7"
   ]
  },
  {
   "cell_type": "code",
   "execution_count": 11,
   "id": "bb020f84-77dc-44fd-bea6-07558d299551",
   "metadata": {},
   "outputs": [
    {
     "ename": "ValueError",
     "evalue": "invalid literal for int() with base 10: '88.3'",
     "output_type": "error",
     "traceback": [
      "\u001b[1;31m---------------------------------------------------------------------------\u001b[0m",
      "\u001b[1;31mValueError\u001b[0m                                Traceback (most recent call last)",
      "\u001b[1;32m~\\AppData\\Local\\Temp/ipykernel_18296/545562718.py\u001b[0m in \u001b[0;36m<module>\u001b[1;34m\u001b[0m\n\u001b[0;32m      1\u001b[0m \u001b[1;31m# str -> int\u001b[0m\u001b[1;33m\u001b[0m\u001b[1;33m\u001b[0m\u001b[0m\n\u001b[0;32m      2\u001b[0m \u001b[0mp\u001b[0m \u001b[1;33m=\u001b[0m \u001b[1;34m'88.3'\u001b[0m\u001b[1;33m\u001b[0m\u001b[1;33m\u001b[0m\u001b[0m\n\u001b[1;32m----> 3\u001b[1;33m \u001b[0mint\u001b[0m\u001b[1;33m(\u001b[0m\u001b[0mp\u001b[0m\u001b[1;33m)\u001b[0m\u001b[1;33m\u001b[0m\u001b[1;33m\u001b[0m\u001b[0m\n\u001b[0m",
      "\u001b[1;31mValueError\u001b[0m: invalid literal for int() with base 10: '88.3'"
     ]
    }
   ],
   "source": [
    "# str -> int\n",
    "p = '88.3'\n",
    "int(p)"
   ]
  },
  {
   "cell_type": "code",
   "execution_count": 14,
   "id": "0e1fc6e6-dc1a-4b85-8717-39055b79f3d6",
   "metadata": {},
   "outputs": [
    {
     "data": {
      "text/plain": [
       "88.3"
      ]
     },
     "execution_count": 14,
     "metadata": {},
     "output_type": "execute_result"
    }
   ],
   "source": [
    "p = '88.3' #-> 꼴에 맞는 타입으로 바꿔줘야함\n",
    "float(p)"
   ]
  },
  {
   "cell_type": "markdown",
   "id": "632f76bf-1bc5-474c-956b-4429125c5077",
   "metadata": {},
   "source": [
    "꿀팁\n",
    "\n",
    "print()"
   ]
  },
  {
   "cell_type": "code",
   "execution_count": 16,
   "id": "a180f68d-9daa-4a70-bcdb-bcf6dba59ab3",
   "metadata": {},
   "outputs": [
    {
     "name": "stdout",
     "output_type": "stream",
     "text": [
      "orange apple tomato\n",
      "the next line\n"
     ]
    }
   ],
   "source": [
    "print('orange','apple', 'tomato') #default: 띄어쓰기, 줄바꾸기\n",
    "print(\"the next line\")"
   ]
  },
  {
   "cell_type": "code",
   "execution_count": 17,
   "id": "65683c2e-6471-45f1-8c47-1899184ecc3c",
   "metadata": {},
   "outputs": [
    {
     "name": "stdout",
     "output_type": "stream",
     "text": [
      "orangeappletomato\n",
      "orange apple tomato\n",
      "orange_apple_tomato\n",
      "\n"
     ]
    }
   ],
   "source": [
    "orange = 'orange'\n",
    "apple = 'apple'\n",
    "tomato = 'tomato'\n",
    "\n",
    "#1\n",
    "print(orange + apple + tomato) #+연결 가능, 원소들간의 공백 사라진다\n",
    "print(orange, apple, tomato, sep=' ', end='\\n') #default\n",
    "print(orange, apple, tomato, sep='_', end='\\n\\n')"
   ]
  },
  {
   "cell_type": "markdown",
   "id": "537e2904-52ae-4ddb-8a47-885af06d828f",
   "metadata": {
    "tags": []
   },
   "source": [
    "## input()\n",
    "- consol에서 사용자에게 값을 입력 받는 합수\n",
    "- 입출력 관련된\n",
    "- 입력 받는 값의 타입은 문자열(str)"
   ]
  },
  {
   "cell_type": "code",
   "execution_count": 96,
   "id": "876459a3-c626-4a51-9ad8-c97519d55f4b",
   "metadata": {},
   "outputs": [
    {
     "name": "stdin",
     "output_type": "stream",
     "text": [
      "What's your name? 4\n"
     ]
    },
    {
     "data": {
      "text/plain": [
       "'4'"
      ]
     },
     "execution_count": 96,
     "metadata": {},
     "output_type": "execute_result"
    }
   ],
   "source": [
    "input(\"What's your name?\")"
   ]
  },
  {
   "cell_type": "code",
   "execution_count": 19,
   "id": "775abac0-b667-4d8d-b594-0bb5b7bdac4c",
   "metadata": {},
   "outputs": [
    {
     "name": "stdin",
     "output_type": "stream",
     "text": [
      "What's your name? Lee\n"
     ]
    }
   ],
   "source": [
    "#1\n",
    "name = input(\"What's your name?\")"
   ]
  },
  {
   "cell_type": "code",
   "execution_count": 20,
   "id": "18ff8637-076b-47f3-a0c9-8c5f12cfef20",
   "metadata": {},
   "outputs": [
    {
     "data": {
      "text/plain": [
       "'Lee'"
      ]
     },
     "execution_count": 20,
     "metadata": {},
     "output_type": "execute_result"
    }
   ],
   "source": [
    "name"
   ]
  },
  {
   "cell_type": "code",
   "execution_count": 22,
   "id": "228c9ffb-7061-4000-96fa-d02db041207d",
   "metadata": {},
   "outputs": [
    {
     "name": "stdout",
     "output_type": "stream",
     "text": [
      "What's your name?\n"
     ]
    },
    {
     "name": "stdin",
     "output_type": "stream",
     "text": [
      " Song\n"
     ]
    }
   ],
   "source": [
    "#2.\n",
    "print(\"What's your name?\")\n",
    "name = input()"
   ]
  },
  {
   "cell_type": "code",
   "execution_count": 23,
   "id": "9eceb159-a47c-48c0-bfeb-2e1ef01afc43",
   "metadata": {},
   "outputs": [
    {
     "name": "stdout",
     "output_type": "stream",
     "text": [
      "Song\n"
     ]
    }
   ],
   "source": [
    "print(name)"
   ]
  },
  {
   "cell_type": "markdown",
   "id": "9b056022-952d-4a22-8d7e-9297eae5874d",
   "metadata": {},
   "source": [
    "### input을 str이 아닌 다른 타입으로 사용하고 싶을 때에는 형 변환을 미리 해준다"
   ]
  },
  {
   "cell_type": "code",
   "execution_count": 26,
   "id": "232aa100-b179-4265-a6e8-d6b21a94f573",
   "metadata": {},
   "outputs": [
    {
     "name": "stdin",
     "output_type": "stream",
     "text": [
      "How old are you? 20\n"
     ]
    }
   ],
   "source": [
    "age = int(input(\"How old are you?\"))"
   ]
  },
  {
   "cell_type": "code",
   "execution_count": 25,
   "id": "dca703ec-fe4d-46c5-89ea-9d82284e8115",
   "metadata": {},
   "outputs": [
    {
     "data": {
      "text/plain": [
       "str"
      ]
     },
     "execution_count": 25,
     "metadata": {},
     "output_type": "execute_result"
    }
   ],
   "source": [
    "type(age)"
   ]
  },
  {
   "cell_type": "code",
   "execution_count": 27,
   "id": "2bc0fc5e-a0d3-404d-9e1f-17c2f2e2e167",
   "metadata": {},
   "outputs": [
    {
     "name": "stdout",
     "output_type": "stream",
     "text": [
      "당신이 태어난 해는 2003\n"
     ]
    }
   ],
   "source": [
    "print('당신이 태어난 해는', 2022 - age + 1) #연산 가능해진다"
   ]
  },
  {
   "cell_type": "markdown",
   "id": "fa813f17-82e1-484a-85ff-07c629c64981",
   "metadata": {},
   "source": [
    "## printing"
   ]
  },
  {
   "cell_type": "code",
   "execution_count": 29,
   "id": "06e55675-4554-4e5a-bf40-4a305729ca43",
   "metadata": {},
   "outputs": [
    {
     "name": "stdout",
     "output_type": "stream",
     "text": [
      "당신이 태어난 해는 20년입니다!\n"
     ]
    }
   ],
   "source": [
    "print(f'당신이 태어난 해는 {age}년입니다!') #print(f'{<variable>}')"
   ]
  },
  {
   "cell_type": "markdown",
   "id": "cc80cddd-646f-420f-b8f4-7d33c631cf55",
   "metadata": {},
   "source": [
    "## Quiz 1\n",
    "- 택배 정보를 입력 받고 무게에 따른 값 산정하기\n",
    "    - 수취인 성명:\n",
    "    - 수취인 주소:\n",
    "    - 배송비: 3000원\n",
    "    - 물건 비용: <계산된 값>원\n",
    "    - 총 합계: <>원\n",
    "- 물건 비용은 무게(g) * 5\n",
    "- 입력 값 = 이름, 주소, 무게\n"
   ]
  },
  {
   "cell_type": "code",
   "execution_count": 38,
   "id": "23c94209-a676-41a3-93f5-ffa619ef23f3",
   "metadata": {},
   "outputs": [
    {
     "name": "stdin",
     "output_type": "stream",
     "text": [
      "이름을 입력하세요. 송이영\n",
      "주소를 입력하세요. 경기도 용인시\n",
      "무게를 입력하세요. 2000\n"
     ]
    },
    {
     "name": "stdout",
     "output_type": "stream",
     "text": [
      "수취인 성명: 송이영\n",
      "수취인 주소: 경기도 용인시\n",
      "배송비: 3000\n",
      "물건 비용: 10000원\n",
      "총 합계: 13000원\n"
     ]
    }
   ],
   "source": [
    "name = input(\"이름을 입력하세요.\")\n",
    "adress = input(\"주소를 입력하세요.\")\n",
    "weight = int(input(\"무게를 입력하세요.\"))\n",
    "del_cost = 3000\n",
    "cost = weight * 5\n",
    "\n",
    "print(f'수취인 성명: {name}')\n",
    "print(f'수취인 주소: {adress}')\n",
    "print(f'배송비: {del_cost}')\n",
    "print(f'물건 비용: {cost}원')\n",
    "print(f'총 합계: {3000 + (cost)}원')"
   ]
  },
  {
   "cell_type": "markdown",
   "id": "f18650ee-b542-4472-8ed8-52c6c01cb33b",
   "metadata": {
    "tags": []
   },
   "source": [
    "## chapter.3 Numbers\n",
    "- True/False\n",
    "- False인 값\n",
    "- if문 조건식 : \"만약 어떤 값이 True면...\" 여기서 많이 씀"
   ]
  },
  {
   "cell_type": "code",
   "execution_count": 39,
   "id": "026cc3a4-4e93-467a-a5e5-3b0de298052d",
   "metadata": {},
   "outputs": [
    {
     "data": {
      "text/plain": [
       "False"
      ]
     },
     "execution_count": 39,
     "metadata": {},
     "output_type": "execute_result"
    }
   ],
   "source": [
    "bool(0)"
   ]
  },
  {
   "cell_type": "code",
   "execution_count": 40,
   "id": "09a704cb-3e01-4fd5-9c8a-03a0f1c4c4c2",
   "metadata": {},
   "outputs": [
    {
     "data": {
      "text/plain": [
       "False"
      ]
     },
     "execution_count": 40,
     "metadata": {},
     "output_type": "execute_result"
    }
   ],
   "source": [
    "bool(None)"
   ]
  },
  {
   "cell_type": "markdown",
   "id": "7e38f712-8b1c-4b88-a605-2fb15e9442b1",
   "metadata": {},
   "source": [
    "## Integer\n",
    "- 분수나 소수가 아닌 정수\n",
    "- 음수는 '-'기호를 붙인다 -50\n",
    "- default = 양수\n",
    "- 숫자 앞에는 0을 쓰지 못한다. i.e. 09\n",
    "    -0bxx(10진수가 아닌)\n",
    "- 숫자 사이에 쉼표를 쓰면 오류: 10,000(ㅌ) -> 10_000 언더바로 이러야됨 숫자 사이의 언더바는 인식하지 않는다"
   ]
  },
  {
   "cell_type": "code",
   "execution_count": 42,
   "id": "e973f9bf-f0fd-4811-adb9-bdb491c11c3d",
   "metadata": {},
   "outputs": [
    {
     "data": {
      "text/plain": [
       "-1"
      ]
     },
     "execution_count": 42,
     "metadata": {},
     "output_type": "execute_result"
    }
   ],
   "source": [
    "a = -50\n",
    "b = 49\n",
    "a + b"
   ]
  },
  {
   "cell_type": "markdown",
   "id": "8ce781e2-15a9-46ae-bc76-557ce69fd46c",
   "metadata": {},
   "source": [
    "## 연산자| operater\n",
    "-  +, -, *, /\n",
    "- 피연산자|operand: 1, 2, ...\n",
    "- 수식|expression"
   ]
  },
  {
   "cell_type": "code",
   "execution_count": 44,
   "id": "ef8adadb-06ed-4914-8fe0-f55a60a25b45",
   "metadata": {},
   "outputs": [
    {
     "data": {
      "text/plain": [
       "6561"
      ]
     },
     "execution_count": 44,
     "metadata": {},
     "output_type": "execute_result"
    }
   ],
   "source": [
    "x = 9\n",
    "y = 4\n",
    "\n",
    "#연산\n",
    "x + y\n",
    "x - y\n",
    "x * y\n",
    "x / y #나눗셈 주의!\n",
    "x ** y #거듭제곱|exponential"
   ]
  },
  {
   "cell_type": "code",
   "execution_count": 45,
   "id": "6497ed26-70d1-4537-a3f5-529a3b272415",
   "metadata": {},
   "outputs": [
    {
     "data": {
      "text/plain": [
       "1"
      ]
     },
     "execution_count": 45,
     "metadata": {},
     "output_type": "execute_result"
    }
   ],
   "source": [
    "x / y #결과물\n",
    "x // y #몫\n",
    "x % y #나머지"
   ]
  },
  {
   "cell_type": "code",
   "execution_count": 46,
   "id": "e15d188e-0c6c-45f4-9835-1ea5b0ea26b2",
   "metadata": {},
   "outputs": [
    {
     "data": {
      "text/plain": [
       "(2, 1)"
      ]
     },
     "execution_count": 46,
     "metadata": {},
     "output_type": "execute_result"
    }
   ],
   "source": [
    "divmod(x, y) #몫, 나머지"
   ]
  },
  {
   "cell_type": "code",
   "execution_count": 47,
   "id": "0f63684b-b245-41b1-b35b-f7fe66bf9dac",
   "metadata": {},
   "outputs": [],
   "source": [
    "# division by zero 항상 유의하기!"
   ]
  },
  {
   "cell_type": "code",
   "execution_count": 49,
   "id": "197d11ee-c0f2-4d73-8619-cb957a4d7e80",
   "metadata": {},
   "outputs": [
    {
     "data": {
      "text/plain": [
       "20"
      ]
     },
     "execution_count": 49,
     "metadata": {},
     "output_type": "execute_result"
    }
   ],
   "source": [
    "1 + 9     +10 #숫자 사이의 공백 무시"
   ]
  },
  {
   "cell_type": "markdown",
   "id": "036d3408-4390-45f1-8a34-832c6199c486",
   "metadata": {
    "tags": []
   },
   "source": [
    "## 복합 대입 연산자|compound assighnment operater"
   ]
  },
  {
   "cell_type": "code",
   "execution_count": 54,
   "id": "c9a4d2cc-2445-49e3-b9c4-5e520f4c8150",
   "metadata": {},
   "outputs": [
    {
     "name": "stdout",
     "output_type": "stream",
     "text": [
      "5\n"
     ]
    }
   ],
   "source": [
    "x = 5\n",
    "x -3 \n",
    "print(x)"
   ]
  },
  {
   "cell_type": "code",
   "execution_count": 55,
   "id": "87acbc0f-7c77-40af-a60c-ae5d47c3bbc4",
   "metadata": {},
   "outputs": [
    {
     "name": "stdout",
     "output_type": "stream",
     "text": [
      "2\n"
     ]
    }
   ],
   "source": [
    "x = x-3\n",
    "print(x)\n",
    "\n",
    "#1. x - 3 계산\n",
    "#2. temp = x - 3\n",
    "#3. x = temp"
   ]
  },
  {
   "cell_type": "code",
   "execution_count": 56,
   "id": "8a914e7f-1521-4434-a03c-0d29d7f66340",
   "metadata": {},
   "outputs": [
    {
     "name": "stdout",
     "output_type": "stream",
     "text": [
      "-1\n"
     ]
    }
   ],
   "source": [
    "x -= 3\n",
    "print(x) #2 - 3"
   ]
  },
  {
   "cell_type": "code",
   "execution_count": 57,
   "id": "df407aa3-e739-48d1-a5db-f983f4e3bb3d",
   "metadata": {},
   "outputs": [],
   "source": [
    "x += 3\n",
    "x -= 3\n",
    "x *= 3\n",
    "x /= 3\n",
    "\n",
    "x += 1\n"
   ]
  },
  {
   "cell_type": "markdown",
   "id": "e55f160d-9e8b-4cc2-bdb3-56366b85214e",
   "metadata": {},
   "source": [
    "## Quiz 1.\n",
    "- 반지름을 입력 받아서 원의 면적 구하기"
   ]
  },
  {
   "cell_type": "code",
   "execution_count": 68,
   "id": "cca824a2-a92d-4a1a-9fae-327906a296fc",
   "metadata": {},
   "outputs": [
    {
     "name": "stdin",
     "output_type": "stream",
     "text": [
      " 5\n"
     ]
    },
    {
     "name": "stdout",
     "output_type": "stream",
     "text": [
      "78.5\n"
     ]
    }
   ],
   "source": [
    "radius = int(input())\n",
    "pi = 3.14\n",
    "area = pi * (radius ** 2)\n",
    "print(area)"
   ]
  },
  {
   "cell_type": "markdown",
   "id": "0fa525e8-f383-443f-87ff-ab5abfadab1c",
   "metadata": {},
   "source": [
    "## Quiz 2.\n",
    "- 숫자를 입력 받고 3의 배수인지 확인하기\n",
    "- 숫자를 입력 받고 홀수인지 확인하기"
   ]
  },
  {
   "cell_type": "code",
   "execution_count": 72,
   "id": "8ccf7136-2748-4d4c-bebb-ec1a0ce06fe0",
   "metadata": {},
   "outputs": [
    {
     "name": "stdin",
     "output_type": "stream",
     "text": [
      " 3\n"
     ]
    },
    {
     "data": {
      "text/plain": [
       "True"
      ]
     },
     "execution_count": 72,
     "metadata": {},
     "output_type": "execute_result"
    }
   ],
   "source": [
    "number = int(input())\n",
    "bool(number % 3 == 0)"
   ]
  },
  {
   "cell_type": "code",
   "execution_count": 73,
   "id": "982b6e7f-9216-4e3c-b202-ba0a26724283",
   "metadata": {},
   "outputs": [
    {
     "name": "stdin",
     "output_type": "stream",
     "text": [
      " 10\n"
     ]
    },
    {
     "data": {
      "text/plain": [
       "False"
      ]
     },
     "execution_count": 73,
     "metadata": {},
     "output_type": "execute_result"
    }
   ],
   "source": [
    "number_2 = int(input())\n",
    "bool(number_2 % 2 != 0)"
   ]
  },
  {
   "cell_type": "markdown",
   "id": "1a9ec647-0291-4841-b8d4-a84c1bb87290",
   "metadata": {},
   "source": [
    "### 지수 표현\n",
    "- 예: '1.0e-4'\n",
    "- e의 앞부분은 소수, 정수 둘다 됨\n",
    "- 뒷부분은 정수여야 함\n",
    "- 뒷부분이 음수면 소수점 자릿수를 의미함\n",
    "- e, E 차이 없음"
   ]
  },
  {
   "cell_type": "code",
   "execution_count": 74,
   "id": "d45f46a3-692c-4b80-81fa-f5aca39535db",
   "metadata": {},
   "outputs": [
    {
     "data": {
      "text/plain": [
       "10000.0"
      ]
     },
     "execution_count": 74,
     "metadata": {},
     "output_type": "execute_result"
    }
   ],
   "source": [
    "1.0e4"
   ]
  },
  {
   "cell_type": "code",
   "execution_count": 75,
   "id": "62f69f48-df37-4d5f-85f9-6140cf9db6d5",
   "metadata": {},
   "outputs": [
    {
     "data": {
      "text/plain": [
       "0.0001"
      ]
     },
     "execution_count": 75,
     "metadata": {},
     "output_type": "execute_result"
    }
   ],
   "source": [
    "1.0e-4"
   ]
  },
  {
   "cell_type": "code",
   "execution_count": 78,
   "id": "a0ffe103-18db-4195-bdef-35c615385611",
   "metadata": {},
   "outputs": [
    {
     "name": "stdout",
     "output_type": "stream",
     "text": [
      "0.0004005\n",
      "0.0004005\n"
     ]
    }
   ],
   "source": [
    "# 0.0004005\n",
    "print(4005e-7)\n",
    "print(4.005E-4)"
   ]
  },
  {
   "cell_type": "markdown",
   "id": "50f3fcf2-81cb-4012-b559-a92767b2e67a",
   "metadata": {},
   "source": [
    "## IF 조건문"
   ]
  },
  {
   "cell_type": "markdown",
   "id": "0d953588-bedb-4026-b462-9c37a0fd94b9",
   "metadata": {},
   "source": [
    "## 코드 짜는 팁\n",
    "- 주석 달기\n",
    "    -  '#' hash, sharp 기호 쓰기\n",
    "    -  '#' 시작 지점부터 라인 끝까지가 주석 처리됨, 라인 바뀌면 코드로 인식\n",
    "    - 주석이 매우 길 때 -> \"\"\" \"\"\"\"\n",
    "    - 문자열 안에 있는 sharp는 부호로 인식한다.\n",
    "    - 이유? 코드에 대한 설명은 최대한 하지 않는게 좋다, 의도를 나타내기 위해, 오류가 있다가나 할 때.....\n",
    "- 라인 유지하기\n",
    "    -들여쓰기 (default space 4개, 탭 이용)\n",
    "    - 논리 구조를 나타내기 때문에 굉장히 중요함\n",
    "    - 한 라인에 80자 정도(백슬래시로 라인을 끊어준다\\)\n",
    "    "
   ]
  },
  {
   "cell_type": "code",
   "execution_count": 80,
   "id": "e3cf0861-f990-4ed2-88f0-ff2630ca974c",
   "metadata": {},
   "outputs": [
    {
     "name": "stdout",
     "output_type": "stream",
     "text": [
      "3\n"
     ]
    }
   ],
   "source": [
    "a = 3 # 주석입니다\n",
    "\"\"\"\n",
    "주석1\n",
    "주석2\n",
    "주석3\n",
    "\"\"\"\n",
    "print(a)"
   ]
  },
  {
   "cell_type": "code",
   "execution_count": 83,
   "id": "2ec7178b-04b0-42e5-b8b0-1a562b1c385c",
   "metadata": {},
   "outputs": [
    {
     "name": "stdout",
     "output_type": "stream",
     "text": [
      "hey, there #\n"
     ]
    }
   ],
   "source": [
    "print('hey, there #') #문자열 안의 sharp"
   ]
  },
  {
   "cell_type": "markdown",
   "id": "32875a88-f7bf-40d8-941f-8d2ee3b38f40",
   "metadata": {},
   "source": [
    "## if\n",
    "if <조건식>:\n",
    "    <실행할 코드>"
   ]
  },
  {
   "cell_type": "code",
   "execution_count": 84,
   "id": "c1a66332-dd6d-4274-a93a-eb13e541abf4",
   "metadata": {},
   "outputs": [
    {
     "name": "stdout",
     "output_type": "stream",
     "text": [
      "두 수는 같지 않다\n"
     ]
    }
   ],
   "source": [
    "if 3 != 1:\n",
    "    print(\"두 수는 같지 않다\")"
   ]
  },
  {
   "cell_type": "markdown",
   "id": "7f999523-b29f-4040-9051-2be4156271ec",
   "metadata": {},
   "source": [
    "## - if-else\n",
    "if <조건식>:\n",
    "    <실행할 코드>\n",
    "else:\n",
    "    <실행할 코드2>"
   ]
  },
  {
   "cell_type": "code",
   "execution_count": 88,
   "id": "15a5e0bd-dd9e-4c0e-b2a6-54adae5b7cb7",
   "metadata": {},
   "outputs": [
    {
     "name": "stdout",
     "output_type": "stream",
     "text": [
      "두 수는 같지 않다\n"
     ]
    }
   ],
   "source": [
    "if 3 != 1:\n",
    "    print(\"두 수는 같지 않다\")\n",
    "else:\n",
    "    print(\"두 수가 같다.\")"
   ]
  },
  {
   "cell_type": "code",
   "execution_count": 89,
   "id": "284d5032-ce04-4888-a806-254071715595",
   "metadata": {},
   "outputs": [],
   "source": [
    "## if-elif-else \n"
   ]
  },
  {
   "cell_type": "code",
   "execution_count": 91,
   "id": "01122f58-4479-4002-b1a2-77e366f28805",
   "metadata": {},
   "outputs": [
    {
     "name": "stdout",
     "output_type": "stream",
     "text": [
      "3보다 크다\n"
     ]
    }
   ],
   "source": [
    "a = 4\n",
    "if a < 3:\n",
    "    print(\"3보다 작다\")\n",
    "elif a == 3:\n",
    "    print(\"3이다\")\n",
    "else:\n",
    "    print(\"3보다 크다\")"
   ]
  },
  {
   "cell_type": "code",
   "execution_count": 95,
   "id": "50278aef-fc11-4b6a-89e6-c4b47e0c3351",
   "metadata": {},
   "outputs": [],
   "source": [
    "a = 4\n",
    "if a < 3:\n",
    "    print(\"3보다 작다\")\n",
    "if a == 3:\n",
    "    print(\"3이다\")\n",
    "if a > 4:\n",
    "    print(\"3보다 크다\")\n",
    "    #한줄 한줄 다 따로 판별, 4는 3개 모두에 다 해당이 안되기 때문에 아무것도 출력 안됨)"
   ]
  },
  {
   "cell_type": "markdown",
   "id": "667eeb65-13f7-48b6-92eb-7026f07d6816",
   "metadata": {
    "tags": []
   },
   "source": [
    "## 비교연산자\n",
    "- x < y\n",
    "- x > y\n",
    "- x >= y\n",
    "- x <= y \n",
    "- x == y\n",
    "- x != y\n",
    "- x is y (값, 메모리 주소)\n",
    "- x is not y"
   ]
  },
  {
   "cell_type": "markdown",
   "id": "7487b5e4-57c0-4b94-abba-4072942d3978",
   "metadata": {},
   "source": [
    "## Quiz\n",
    "- 1. 시험 점수를 입력 받고, 80점 이상이면 True, 아니면 False 반환하기\n",
    "- 2. 시험 점수를 입력 받고, 95이상 A+, 90이상 A, 85이상 B+, 나머지 F로 출력하세요."
   ]
  },
  {
   "cell_type": "code",
   "execution_count": 106,
   "id": "30a87cbc-92f9-4e3e-93df-8e0d61559dbd",
   "metadata": {},
   "outputs": [
    {
     "name": "stdin",
     "output_type": "stream",
     "text": [
      " 60\n"
     ]
    },
    {
     "name": "stdout",
     "output_type": "stream",
     "text": [
      "False\n"
     ]
    }
   ],
   "source": [
    "test_score = int(input())\n",
    "\n",
    "if test_score >= 80:\n",
    "    print(\"True\")\n",
    "else:\n",
    "    print(\"False\")"
   ]
  },
  {
   "cell_type": "code",
   "execution_count": 107,
   "id": "ae54315e-e39d-4127-b9d4-163dc2584dba",
   "metadata": {},
   "outputs": [
    {
     "name": "stdin",
     "output_type": "stream",
     "text": [
      "시험 점수를 입력하세요 80\n"
     ]
    },
    {
     "name": "stdout",
     "output_type": "stream",
     "text": [
      "F 입니다.\n"
     ]
    }
   ],
   "source": [
    "test_score_2 = int(input(\"시험 점수를 입력하세요\"))\n",
    "\n",
    "if test_score_2 >= 95:\n",
    "    print(\"A+ 입니다.\")\n",
    "elif test_score_2 >= 90:\n",
    "    print(\"A 입니다.\")\n",
    "elif test_score_2 >= 85:\n",
    "    print(\"B+ 입니다.\")\n",
    "else:\n",
    "    print(\"F 입니다.\")"
   ]
  },
  {
   "cell_type": "code",
   "execution_count": null,
   "id": "063bcd40-7850-4e76-98d4-ab073983c589",
   "metadata": {},
   "outputs": [],
   "source": []
  }
 ],
 "metadata": {
  "kernelspec": {
   "display_name": "Python 3 (ipykernel)",
   "language": "python",
   "name": "python3"
  },
  "language_info": {
   "codemirror_mode": {
    "name": "ipython",
    "version": 3
   },
   "file_extension": ".py",
   "mimetype": "text/x-python",
   "name": "python",
   "nbconvert_exporter": "python",
   "pygments_lexer": "ipython3",
   "version": "3.9.7"
  }
 },
 "nbformat": 4,
 "nbformat_minor": 5
}
