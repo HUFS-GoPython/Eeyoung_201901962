{
 "cells": [
  {
   "cell_type": "markdown",
   "id": "11505efb-dd4b-4b4a-b5dd-ac0fd920bffd",
   "metadata": {},
   "source": [
    "### week14\n"
   ]
  },
  {
   "cell_type": "markdown",
   "id": "134cb4ef-517d-4d5f-97b5-1459acee9f31",
   "metadata": {},
   "source": [
    "- 중첩함수\n",
    "    - 캡슐화 목적\n",
    "        - 변수 범위를 제한할 수 있다.\n",
    "        - 책임, 관리 명확해짐\n",
    "- 제너레이터\n",
    "    \n",
    "- 재귀함수"
   ]
  },
  {
   "cell_type": "code",
   "execution_count": 4,
   "id": "2e1e9c18-99d7-47b3-ae9b-9e1b0977efa7",
   "metadata": {},
   "outputs": [
    {
     "data": {
      "text/plain": [
       "4"
      ]
     },
     "execution_count": 4,
     "metadata": {},
     "output_type": "execute_result"
    }
   ],
   "source": [
    "def outer(a, b):\n",
    "    def inner(c, d):\n",
    "        return c + d\n",
    "    return inner(a, b)\n",
    "\n",
    "outer(2, 2)"
   ]
  },
  {
   "cell_type": "code",
   "execution_count": 5,
   "id": "a63756a1-dfa3-47fd-803a-fca33536b518",
   "metadata": {},
   "outputs": [
    {
     "ename": "NameError",
     "evalue": "name 'inner' is not defined",
     "output_type": "error",
     "traceback": [
      "\u001b[1;31m---------------------------------------------------------------------------\u001b[0m",
      "\u001b[1;31mNameError\u001b[0m                                 Traceback (most recent call last)",
      "\u001b[1;32m~\\AppData\\Local\\Temp/ipykernel_10396/485666427.py\u001b[0m in \u001b[0;36m<module>\u001b[1;34m\u001b[0m\n\u001b[1;32m----> 1\u001b[1;33m \u001b[0minner\u001b[0m\u001b[1;33m(\u001b[0m\u001b[1;36m2\u001b[0m\u001b[1;33m,\u001b[0m \u001b[1;36m2\u001b[0m\u001b[1;33m)\u001b[0m \u001b[1;31m# error => 선언한 적 없다.\u001b[0m\u001b[1;33m\u001b[0m\u001b[1;33m\u001b[0m\u001b[0m\n\u001b[0m",
      "\u001b[1;31mNameError\u001b[0m: name 'inner' is not defined"
     ]
    }
   ],
   "source": [
    "inner(2, 2) # error => 내부 함수 호출하면 '선언한 적 없다.' 캡슐화가 된다는 증거 "
   ]
  },
  {
   "cell_type": "code",
   "execution_count": 7,
   "id": "e8b0d55d-ecc6-46a2-b031-8fa34865087e",
   "metadata": {},
   "outputs": [],
   "source": [
    "def knights(saying):\n",
    "    def inner(quote):\n",
    "        return f'we are the knights who say: {quote}'\n",
    "    return inner(saying)\n",
    "\n",
    "case1 = knights('Ni!')"
   ]
  },
  {
   "cell_type": "code",
   "execution_count": 8,
   "id": "66d0ba73-2a76-41db-9b4f-11564c10c701",
   "metadata": {},
   "outputs": [
    {
     "data": {
      "text/plain": [
       "'we are the knights who say: Ni!'"
      ]
     },
     "execution_count": 8,
     "metadata": {},
     "output_type": "execute_result"
    }
   ],
   "source": [
    "case1"
   ]
  },
  {
   "cell_type": "markdown",
   "id": "3929f484-2547-4010-8ad3-b34d5e25532e",
   "metadata": {},
   "source": [
    "#### 클로저\n",
    "- 코드를 묶는 기술\n",
    "- 호출 전까지 메모리를 사용하지 않기에 효율적인 메모리 사용이 가능. 함수 호출 시에만 사용이 가능\n",
    "- 자신을 둘러싼 scope와 상태 값을 기억하는 함수"
   ]
  },
  {
   "cell_type": "code",
   "execution_count": 14,
   "id": "30fb4b9c-1211-4b8f-ae24-ba9caafe0ca5",
   "metadata": {},
   "outputs": [
    {
     "data": {
      "text/plain": [
       "<function __main__.multiply.<locals>.inner(y)>"
      ]
     },
     "execution_count": 14,
     "metadata": {},
     "output_type": "execute_result"
    }
   ],
   "source": [
    "def multiply(x): # 클로저: x를 기억한다.\n",
    "    def inner(y):\n",
    "        return x * y\n",
    "    return inner # 괄호를 쓰지 않아서 함수가 돌아가지 않음\n",
    "\n",
    "multiply(3) # 이 때 반환값은 함수"
   ]
  },
  {
   "cell_type": "code",
   "execution_count": 15,
   "id": "4387494f-d40d-4313-9eee-118e6e78ed3a",
   "metadata": {},
   "outputs": [],
   "source": [
    "m5 = multiply(5) # x = 5\n",
    "m6 = multiply(6) # x = 6 이 때는 "
   ]
  },
  {
   "cell_type": "code",
   "execution_count": 16,
   "id": "c38f826d-5a35-4366-953b-3aa3f5d3d26f",
   "metadata": {},
   "outputs": [
    {
     "data": {
      "text/plain": [
       "30"
      ]
     },
     "execution_count": 16,
     "metadata": {},
     "output_type": "execute_result"
    }
   ],
   "source": [
    "m5(6)"
   ]
  },
  {
   "cell_type": "code",
   "execution_count": 17,
   "id": "d3d7610b-b54f-4edb-af0f-f9c939435336",
   "metadata": {},
   "outputs": [],
   "source": [
    "del(multiply)"
   ]
  },
  {
   "cell_type": "code",
   "execution_count": 18,
   "id": "e83c908b-a4c3-45d0-b6d7-1bf73e371c1a",
   "metadata": {},
   "outputs": [
    {
     "ename": "NameError",
     "evalue": "name 'multiply' is not defined",
     "output_type": "error",
     "traceback": [
      "\u001b[1;31m---------------------------------------------------------------------------\u001b[0m",
      "\u001b[1;31mNameError\u001b[0m                                 Traceback (most recent call last)",
      "\u001b[1;32m~\\AppData\\Local\\Temp/ipykernel_10396/330517852.py\u001b[0m in \u001b[0;36m<module>\u001b[1;34m\u001b[0m\n\u001b[1;32m----> 1\u001b[1;33m \u001b[0mmultiply\u001b[0m\u001b[1;33m\u001b[0m\u001b[1;33m\u001b[0m\u001b[0m\n\u001b[0m",
      "\u001b[1;31mNameError\u001b[0m: name 'multiply' is not defined"
     ]
    }
   ],
   "source": [
    "multiply"
   ]
  },
  {
   "cell_type": "code",
   "execution_count": 19,
   "id": "4a831b90-fd24-4ea9-8afa-add0b80248b0",
   "metadata": {},
   "outputs": [
    {
     "data": {
      "text/plain": [
       "50"
      ]
     },
     "execution_count": 19,
     "metadata": {},
     "output_type": "execute_result"
    }
   ],
   "source": [
    "# 변수에 저장한 값은 그대로 남아 있음\n",
    "m5(10)"
   ]
  },
  {
   "cell_type": "markdown",
   "id": "3c008e7d-8020-457d-b9a2-851b0c9871c9",
   "metadata": {},
   "source": [
    "### 데코레이터\n",
    "- 함수를 선언하고 기능을 덮어 함수에 쓸 수 있다.\n",
    "- 메인 함수에 또 다른 함수를 데코레이터로 선언하여 사용하는 것이 가능하다. \n",
    "- 목적\n",
    "    - 재사용 용이, 가독성이 좋음, 직관성이 강함 "
   ]
  },
  {
   "cell_type": "code",
   "execution_count": 24,
   "id": "98158fc4-5977-40e4-a580-0e9ad854f648",
   "metadata": {},
   "outputs": [],
   "source": [
    "def document_it(func):\n",
    "    def new_func(*args, **kargs):\n",
    "        print('arguments: ', args)\n",
    "        print('key arguments: ', kargs)\n",
    "        return func(*args, **kargs)\n",
    "    return new_func\n",
    "\n",
    "@document_it\n",
    "def add(a, b):\n",
    "    return a + b\n",
    "\n",
    "@document_it\n",
    "def subtract(a, b):\n",
    "    return a - b\n",
    "\n"
   ]
  },
  {
   "cell_type": "code",
   "execution_count": 26,
   "id": "ca3333f3-902e-4cb1-9493-fb6b7c59399f",
   "metadata": {},
   "outputs": [
    {
     "name": "stdout",
     "output_type": "stream",
     "text": [
      "arguments:  (1, 3)\n",
      "key arguments:  {}\n"
     ]
    },
    {
     "data": {
      "text/plain": [
       "4"
      ]
     },
     "execution_count": 26,
     "metadata": {},
     "output_type": "execute_result"
    }
   ],
   "source": [
    "add(1, 3)"
   ]
  },
  {
   "cell_type": "markdown",
   "id": "19b60a77-d0de-4cbd-869c-c544f1340d2b",
   "metadata": {},
   "source": [
    "#### add를 활용한 중첩함수 만들기\n",
    "- 결과값의 제곱 값을 반환하는 클로저 함수 만들기"
   ]
  },
  {
   "cell_type": "code",
   "execution_count": 55,
   "id": "fd29d29f-581b-4522-84b2-ab521bc9cf6b",
   "metadata": {},
   "outputs": [],
   "source": [
    "def square(func): # 인자는 func이어야함\n",
    "    def new_func(*args): # 새로운 매개변수 받음 \n",
    "        result = func(*args) # 이렇게 받아야 자유로움\n",
    "        return result * result\n",
    "    return new_func\n",
    "\n",
    "@square # square(add(a, b))\n",
    "def add(a, b):\n",
    "    return a + b"
   ]
  },
  {
   "cell_type": "code",
   "execution_count": 56,
   "id": "d863fdbc-eb68-4fb0-b04d-85b7888d24ee",
   "metadata": {},
   "outputs": [
    {
     "data": {
      "text/plain": [
       "49"
      ]
     },
     "execution_count": 56,
     "metadata": {},
     "output_type": "execute_result"
    }
   ],
   "source": [
    "add(3, 4)"
   ]
  },
  {
   "cell_type": "code",
   "execution_count": 57,
   "id": "14f0e251-0454-4d0f-92c5-927192cc70a9",
   "metadata": {},
   "outputs": [],
   "source": [
    "# 전역\n",
    "a = 4\n",
    "def square(func): # 인자는 func이어야함\n",
    "    def new_func(*args): # 새로운 매개변수 받음 \n",
    "        result = func(*args) # 이렇게 받아야 자유로움\n",
    "        return result * result\n",
    "    return new_func"
   ]
  },
  {
   "cell_type": "code",
   "execution_count": 63,
   "id": "b6b7474a-ed1e-4724-ac99-90355570c54a",
   "metadata": {},
   "outputs": [
    {
     "data": {
      "text/plain": [
       "1000"
      ]
     },
     "execution_count": 63,
     "metadata": {},
     "output_type": "execute_result"
    }
   ],
   "source": [
    "z = 3\n",
    "def outer(x):\n",
    "    y = 4\n",
    "    def inner(): #inner 선언 했지만 inner 타지 않았음\n",
    "        x = 1000 # 1000\n",
    "        return x\n",
    "    return inner() # inner을 return 하면 1000\n",
    " \n",
    "outer(10) "
   ]
  },
  {
   "cell_type": "markdown",
   "id": "061d5764-e478-414d-9932-3faa16f2d9b2",
   "metadata": {},
   "source": [
    "#### scope: global, local, nonlocal\n",
    "- 내부 함수는 외부 함수의 인자를 참조만 할 수 있다 = 읽기만 가능\n",
    "- nonlocal 예약어를 활용한다"
   ]
  },
  {
   "cell_type": "code",
   "execution_count": 68,
   "id": "ba7bb8dd-4792-4c02-825c-fda783b92f27",
   "metadata": {},
   "outputs": [],
   "source": [
    "# 전역 변수 위치\n",
    "global_a = \" Here is global\"\n",
    "\n",
    "def inside_function():\n",
    "    print(\"Here is local\")\n",
    "    def inner():\n",
    "        print(\"deeper\")"
   ]
  },
  {
   "cell_type": "code",
   "execution_count": 69,
   "id": "3ad3a477-2ca1-4dff-87ff-946cec054c6d",
   "metadata": {},
   "outputs": [
    {
     "data": {
      "text/plain": [
       "[7, 5, 13, 25, 50, 100, 200]"
      ]
     },
     "execution_count": 69,
     "metadata": {},
     "output_type": "execute_result"
    }
   ],
   "source": [
    "# 지양해야 할 코드\n",
    "def my_func(nums: list):\n",
    "    # 가변인자 -> 리턴 없이도 리턴 얻어 반환함\n",
    "    # 문서화를 통해 사용자가 알 수 있게 해야함\n",
    "    nums.append(sum(nums))\n",
    "    \n",
    "a = [7, 5, 13]\n",
    "my_func(a)\n",
    "my_func(a)\n",
    "my_func(a)\n",
    "my_func(a)\n",
    "#한 100번 하면 형태 예측 불가능해짐\n",
    "a"
   ]
  },
  {
   "cell_type": "markdown",
   "id": "5e65f5e5-f37c-4628-b160-722236d2eb34",
   "metadata": {},
   "source": [
    "### 실습\n",
    "1. 함수: 차 속도, 제한 속도를 비교해서 true, false 반환\n",
    "2. 데코레이터 함수\n",
    "- 만약 제한 속도를 초과하였다면 얼마나 초과했는지 프린트하는 함수\n",
    "- 예: 100, 80\n",
    "- 20km/h 초과하였습니다."
   ]
  },
  {
   "cell_type": "code",
   "execution_count": 74,
   "id": "0778d417-d766-40bc-82a7-9b866fbf971c",
   "metadata": {},
   "outputs": [
    {
     "data": {
      "text/plain": [
       "' 초과속도: 20 km/h'"
      ]
     },
     "execution_count": 74,
     "metadata": {},
     "output_type": "execute_result"
    }
   ],
   "source": [
    "def report_speed(func):\n",
    "    def inner(speed, limit):\n",
    "        if func(speed, limit):\n",
    "            if func(speed, limit):\n",
    "                return f' 초과속도: {speed - limit} km/h'\n",
    "            else:\n",
    "                return f' 속도를 준수하였습니다 '\n",
    "    return inner\n",
    "\n",
    "@report_speed\n",
    "def is_speeding(speed, limit):\n",
    "    # 과속 시 True\n",
    "    return speed>limit # 불리언\n",
    "\n",
    "is_speeding(100,80)"
   ]
  },
  {
   "cell_type": "markdown",
   "id": "c385ca1f-b091-4a0f-9af7-c23b77654a47",
   "metadata": {},
   "source": [
    "### 제너레이터\n",
    "- 가장 큰 특징은 한번 쓰면 없어짐 = 메모리 효율성 증대에 용이\n",
    "- return 대신 yield를 사용하고 순회하여 리턴을 반환해줌\n",
    "    - 때문에 단순 호출하면 안되고 for문 사용하여 yeild해줌\n",
    "- 순회의 리턴값을 하나씩 반환해줌\n",
    "- 시퀀스를 생성하는 객체"
   ]
  },
  {
   "cell_type": "code",
   "execution_count": 79,
   "id": "371a66d4-1c03-4e3a-870b-447f6f174cc9",
   "metadata": {},
   "outputs": [
    {
     "data": {
      "text/plain": [
       "<generator object func_1 at 0x0000025B364A5EB0>"
      ]
     },
     "execution_count": 79,
     "metadata": {},
     "output_type": "execute_result"
    }
   ],
   "source": [
    "def func_1():\n",
    "    for i in range(5):\n",
    "        yield i\n",
    "\n",
    "func_1()"
   ]
  },
  {
   "cell_type": "code",
   "execution_count": 78,
   "id": "8286526f-508d-48c8-b430-4b6e4fcaaf4c",
   "metadata": {},
   "outputs": [
    {
     "name": "stdout",
     "output_type": "stream",
     "text": [
      "0\n",
      "1\n",
      "2\n",
      "3\n",
      "4\n"
     ]
    }
   ],
   "source": [
    "ex_f = func_1()\n",
    "for i in ex_f:\n",
    "    print(i)"
   ]
  },
  {
   "cell_type": "code",
   "execution_count": 80,
   "id": "c1fd9651-fa25-4880-8289-54f5f51e932d",
   "metadata": {},
   "outputs": [],
   "source": [
    "for i in ex_f:\n",
    "    print(i)"
   ]
  },
  {
   "cell_type": "code",
   "execution_count": 84,
   "id": "327d07ce-9bb1-408b-b8e9-31ea5874c8ae",
   "metadata": {},
   "outputs": [],
   "source": [
    "fruits = '망고,사과,배,체리'.split(',')\n",
    "\n",
    "def buy(fruits_list:list):\n",
    "    for fruit in fruits_list:\n",
    "        yield fruit\n",
    "        \n",
    "fruit_list = buy(fruits)"
   ]
  },
  {
   "cell_type": "code",
   "execution_count": 87,
   "id": "29f91f76-cc4d-49bf-b755-9b53eb3aded0",
   "metadata": {},
   "outputs": [],
   "source": [
    "for i in fruit_list:\n",
    "    print(i)"
   ]
  },
  {
   "cell_type": "code",
   "execution_count": 88,
   "id": "7d663227-e2b9-4ecd-bf69-782913e5b7cc",
   "metadata": {},
   "outputs": [
    {
     "name": "stdout",
     "output_type": "stream",
     "text": [
      "망고\n",
      "사과\n",
      "배\n",
      "체리\n"
     ]
    }
   ],
   "source": [
    "for i in buy(fruits):\n",
    "    print(i)"
   ]
  },
  {
   "cell_type": "markdown",
   "id": "976e9fb8-a4c6-431a-a22f-cb17c008091e",
   "metadata": {},
   "source": [
    "### 실습 - range 함수 구현하기.\n",
    "- range 사용 금지"
   ]
  },
  {
   "cell_type": "code",
   "execution_count": 90,
   "id": "f1f23798-2a76-4b44-b52a-afcdc0dbee62",
   "metadata": {},
   "outputs": [],
   "source": [
    "def my_range(start, end, step = 1):\n",
    "    while start < end:\n",
    "        yield start\n",
    "        start += step"
   ]
  },
  {
   "cell_type": "code",
   "execution_count": 91,
   "id": "acebdd0c-acfc-4fd1-b4a9-da94d9a6f624",
   "metadata": {},
   "outputs": [
    {
     "data": {
      "text/plain": [
       "[0, 1, 2, 3, 4, 5, 6, 7, 8, 9]"
      ]
     },
     "execution_count": 91,
     "metadata": {},
     "output_type": "execute_result"
    }
   ],
   "source": [
    "[i for i in range(10)]"
   ]
  },
  {
   "cell_type": "code",
   "execution_count": 94,
   "id": "a108ffdf-7a6a-4a22-990b-df9be01da360",
   "metadata": {},
   "outputs": [
    {
     "name": "stdout",
     "output_type": "stream",
     "text": [
      "1\n",
      "3\n",
      "5\n",
      "7\n",
      "9\n"
     ]
    }
   ],
   "source": [
    "for i in my_range(1,10,2):\n",
    "    print(i)"
   ]
  },
  {
   "cell_type": "code",
   "execution_count": 100,
   "id": "24fcb50f-c4b5-4b03-a0bf-2e48a8dc0a9e",
   "metadata": {},
   "outputs": [],
   "source": [
    "# 컴프리헨션으로 제너레이터 만들기\n",
    "# 괄호로 만들어주면 됨!\n",
    "ranger = (i for i in range(2, 12))"
   ]
  },
  {
   "cell_type": "code",
   "execution_count": 101,
   "id": "36975113-4fea-46ad-bb7d-f49d52bbbeb4",
   "metadata": {},
   "outputs": [
    {
     "name": "stdout",
     "output_type": "stream",
     "text": [
      "K2\n",
      "K3\n",
      "K4\n",
      "K5\n",
      "K6\n",
      "K7\n",
      "K8\n",
      "K9\n",
      "K10\n",
      "K11\n"
     ]
    }
   ],
   "source": [
    "for i in ranger:\n",
    "    print(f'K{i}')"
   ]
  },
  {
   "cell_type": "code",
   "execution_count": 102,
   "id": "f073ad98-b6e8-44c0-b480-9aa8a73725e6",
   "metadata": {},
   "outputs": [],
   "source": [
    "for i in ranger:\n",
    "    print(f'K{i}')\n",
    "    \n",
    "# 두번은 사용 불가함"
   ]
  },
  {
   "cell_type": "markdown",
   "id": "9c87ca25-4b60-4835-981e-b4982a500766",
   "metadata": {},
   "source": [
    "### 재귀 함수\n",
    "- 자기 자신을 호출하는 함수\n",
    "- 재귀가 너무 깊어지면 예외 발생하는 것에 주의하기\n",
    "- 주로 모든 차원을 플랫팅 시킬 때 사용"
   ]
  },
  {
   "cell_type": "code",
   "execution_count": 1,
   "id": "10cb0c14-f6de-4314-ab78-837b4b091082",
   "metadata": {},
   "outputs": [
    {
     "name": "stdout",
     "output_type": "stream",
     "text": [
      "False\n"
     ]
    },
    {
     "data": {
      "text/plain": [
       "True"
      ]
     },
     "execution_count": 1,
     "metadata": {},
     "output_type": "execute_result"
    }
   ],
   "source": [
    "print(isinstance('word', int))\n",
    "isinstance('word', str)"
   ]
  },
  {
   "cell_type": "code",
   "execution_count": 2,
   "id": "bf825126-c294-40ec-bbf2-d6a36b94d60e",
   "metadata": {},
   "outputs": [
    {
     "name": "stdout",
     "output_type": "stream",
     "text": [
      "1 2 2 3 4 1 2 "
     ]
    }
   ],
   "source": [
    "def flatten(sent):\n",
    "    for word in sent:\n",
    "        if isinstance(word, list):\n",
    "            for sub_word in flatten(word):\n",
    "                yield sub_word\n",
    "        else:\n",
    "            yield word\n",
    "            \n",
    "a = [1, 2, [2, 3, 4], [[[1, 2]]]]\n",
    "\n",
    "for i in flatten(a):\n",
    "    print(i, end=' ')"
   ]
  },
  {
   "cell_type": "markdown",
   "id": "4c849432-676a-44b4-a522-e9b76364cfa3",
   "metadata": {},
   "source": [
    "#### 예외 처리| exception handling\n",
    "- 프로그램 동작 중 예외가 발생했을 때 대처하기 위함\n",
    "- 사용자에게 예외를 알리고 원하는 조치를 설정한다.\n",
    "- 프로그램이 정상적으로 종료가 될 수 있음\n",
    "\n",
    "##### 주로 일어나는 예외\n",
    "- index error: 인덱스 벗어날 때\n",
    "- value error: 값이 맞지 않을 때\n",
    "- name error: 선언해주지 않은 변수나 잘못된 이름의 변수를 불러올 때"
   ]
  },
  {
   "cell_type": "code",
   "execution_count": 4,
   "id": "651f4173-7598-4078-ac5d-9789c8ff25ef",
   "metadata": {},
   "outputs": [
    {
     "name": "stdout",
     "output_type": "stream",
     "text": [
      "변수명이 잘못되었습니다\n"
     ]
    }
   ],
   "source": [
    "try:\n",
    "    DoOo + 1\n",
    "\n",
    "except NameError: # 예외 시 행할 행동\n",
    "    print(\"변수명이 잘못되었습니다\")\n",
    "    # 정상 종료 오류X"
   ]
  },
  {
   "cell_type": "code",
   "execution_count": 5,
   "id": "88d696a0-e492-4f95-8e1a-9d07b63be36f",
   "metadata": {},
   "outputs": [
    {
     "name": "stdout",
     "output_type": "stream",
     "text": [
      "0으로 나눌 수 없다\n"
     ]
    }
   ],
   "source": [
    "# 유의해야할 경우, 원하는 경우만 하고 싶을 때\n",
    "\n",
    "try:\n",
    "    \n",
    "    for i in range(4):\n",
    "        print(4/i)\n",
    "    \n",
    "except ZeroDivisionError:\n",
    "    print(\"0으로 나눌 수 없다\")\n",
    "    "
   ]
  },
  {
   "cell_type": "code",
   "execution_count": 6,
   "id": "bb36e5eb-b924-4bc3-ae9d-c8b0a0dac91c",
   "metadata": {},
   "outputs": [
    {
     "name": "stdout",
     "output_type": "stream",
     "text": [
      "0으로 나눌 수 없다\n",
      "4.0\n",
      "2.0\n",
      "1.3333333333333333\n"
     ]
    }
   ],
   "source": [
    "for i in range(4):\n",
    "    try:\n",
    "        print(4/i)\n",
    "    \n",
    "    \n",
    "    except ZeroDivisionError:\n",
    "    # 예외 시!~\n",
    "        print(\"0으로 나눌 수 없다\")"
   ]
  },
  {
   "cell_type": "code",
   "execution_count": 7,
   "id": "127df44f-e3d1-4074-9874-9421bdced4a0",
   "metadata": {},
   "outputs": [
    {
     "name": "stdin",
     "output_type": "stream",
     "text": [
      "인덱스를 입력해주세요>> 0\n"
     ]
    },
    {
     "name": "stdout",
     "output_type": "stream",
     "text": [
      "O\n"
     ]
    },
    {
     "name": "stdin",
     "output_type": "stream",
     "text": [
      "인덱스를 입력해주세요>> ㅂ\n"
     ]
    },
    {
     "name": "stdout",
     "output_type": "stream",
     "text": [
      "invalid literal for int() with base 10: 'ㅂ'\n"
     ]
    },
    {
     "name": "stdin",
     "output_type": "stream",
     "text": [
      "인덱스를 입력해주세요>> q\n"
     ]
    }
   ],
   "source": [
    "word = 'Oh hi!'\n",
    "\n",
    "while True:\n",
    "    index = input('인덱스를 입력해주세요>>')\n",
    "    if index == 'q':\n",
    "        break\n",
    "    \n",
    "    try:\n",
    "        index = int(index) #\n",
    "        print(word[index])\n",
    "        \n",
    "    except ValueError as error1: \n",
    "        print(error1) #에러 메세지\n",
    "    except IndexError as error2:\n",
    "        print(error2)"
   ]
  },
  {
   "cell_type": "markdown",
   "id": "dcce19b3-3f58-4c53-9f1d-324811918785",
   "metadata": {},
   "source": [
    "#### 예외 일으키기\n",
    "- 원하는 순간에서 프로그램이 강제 종료 되도록 설정해줄 수 있음\n",
    "- raise, assert\n",
    "- assert는 많이 씀, if eles 필요없이 assertion으로 막아주고 싶을 떄 사용\n",
    "    - assert는 True 보장\n",
    "- raise 예외타입(메시지) 형식으로 사용\n",
    "- assert <True조건>, <False일 때 메세지>"
   ]
  },
  {
   "cell_type": "code",
   "execution_count": 9,
   "id": "2ddd63cb-0337-41b9-8e68-96c8491f1011",
   "metadata": {},
   "outputs": [
    {
     "name": "stdin",
     "output_type": "stream",
     "text": [
      "alphabet input:  3\n"
     ]
    },
    {
     "ename": "ValueError",
     "evalue": "Input is not an alphabet",
     "output_type": "error",
     "traceback": [
      "\u001b[1;31m---------------------------------------------------------------------------\u001b[0m",
      "\u001b[1;31mValueError\u001b[0m                                Traceback (most recent call last)",
      "\u001b[1;32m~\\AppData\\Local\\Temp/ipykernel_10932/584422554.py\u001b[0m in \u001b[0;36m<module>\u001b[1;34m\u001b[0m\n\u001b[0;32m      2\u001b[0m     \u001b[0malphabet\u001b[0m \u001b[1;33m=\u001b[0m \u001b[0minput\u001b[0m\u001b[1;33m(\u001b[0m\u001b[1;34m'alphabet input: '\u001b[0m\u001b[1;33m)\u001b[0m\u001b[1;33m\u001b[0m\u001b[1;33m\u001b[0m\u001b[0m\n\u001b[0;32m      3\u001b[0m     \u001b[1;32mif\u001b[0m \u001b[1;32mnot\u001b[0m \u001b[0malphabet\u001b[0m\u001b[1;33m.\u001b[0m\u001b[0misalpha\u001b[0m\u001b[1;33m(\u001b[0m\u001b[1;33m)\u001b[0m\u001b[1;33m:\u001b[0m\u001b[1;33m\u001b[0m\u001b[1;33m\u001b[0m\u001b[0m\n\u001b[1;32m----> 4\u001b[1;33m         \u001b[1;32mraise\u001b[0m \u001b[0mValueError\u001b[0m\u001b[1;33m(\u001b[0m\u001b[1;34m'Input is not an alphabet'\u001b[0m\u001b[1;33m)\u001b[0m\u001b[1;33m\u001b[0m\u001b[1;33m\u001b[0m\u001b[0m\n\u001b[0m",
      "\u001b[1;31mValueError\u001b[0m: Input is not an alphabet"
     ]
    }
   ],
   "source": [
    "while True:\n",
    "    alphabet = input('alphabet input: ')\n",
    "    if not alphabet.isalpha():\n",
    "        raise ValueError('Input is not an alphabet')"
   ]
  },
  {
   "cell_type": "code",
   "execution_count": 10,
   "id": "38c7dc76-6935-4e09-b67a-21d1a6ca41dc",
   "metadata": {},
   "outputs": [
    {
     "ename": "AssertionError",
     "evalue": "문자열 아님",
     "output_type": "error",
     "traceback": [
      "\u001b[1;31m---------------------------------------------------------------------------\u001b[0m",
      "\u001b[1;31mAssertionError\u001b[0m                            Traceback (most recent call last)",
      "\u001b[1;32m~\\AppData\\Local\\Temp/ipykernel_10932/2755244831.py\u001b[0m in \u001b[0;36m<module>\u001b[1;34m\u001b[0m\n\u001b[0;32m      3\u001b[0m     \u001b[1;32mreturn\u001b[0m \u001b[0minput_string\u001b[0m\u001b[1;33m\u001b[0m\u001b[1;33m\u001b[0m\u001b[0m\n\u001b[0;32m      4\u001b[0m \u001b[1;33m\u001b[0m\u001b[0m\n\u001b[1;32m----> 5\u001b[1;33m \u001b[0mget_string\u001b[0m\u001b[1;33m(\u001b[0m\u001b[1;36m10\u001b[0m\u001b[1;33m)\u001b[0m\u001b[1;33m\u001b[0m\u001b[1;33m\u001b[0m\u001b[0m\n\u001b[0m",
      "\u001b[1;32m~\\AppData\\Local\\Temp/ipykernel_10932/2755244831.py\u001b[0m in \u001b[0;36mget_string\u001b[1;34m(input_string)\u001b[0m\n\u001b[0;32m      1\u001b[0m \u001b[1;32mdef\u001b[0m \u001b[0mget_string\u001b[0m\u001b[1;33m(\u001b[0m\u001b[0minput_string\u001b[0m\u001b[1;33m)\u001b[0m\u001b[1;33m:\u001b[0m\u001b[1;33m\u001b[0m\u001b[1;33m\u001b[0m\u001b[0m\n\u001b[1;32m----> 2\u001b[1;33m     \u001b[1;32massert\u001b[0m \u001b[0misinstance\u001b[0m\u001b[1;33m(\u001b[0m\u001b[0minput_string\u001b[0m\u001b[1;33m,\u001b[0m \u001b[0mstr\u001b[0m\u001b[1;33m)\u001b[0m\u001b[1;33m,\u001b[0m \u001b[1;34m'문자열 아님'\u001b[0m\u001b[1;33m\u001b[0m\u001b[1;33m\u001b[0m\u001b[0m\n\u001b[0m\u001b[0;32m      3\u001b[0m     \u001b[1;32mreturn\u001b[0m \u001b[0minput_string\u001b[0m\u001b[1;33m\u001b[0m\u001b[1;33m\u001b[0m\u001b[0m\n\u001b[0;32m      4\u001b[0m \u001b[1;33m\u001b[0m\u001b[0m\n\u001b[0;32m      5\u001b[0m \u001b[0mget_string\u001b[0m\u001b[1;33m(\u001b[0m\u001b[1;36m10\u001b[0m\u001b[1;33m)\u001b[0m\u001b[1;33m\u001b[0m\u001b[1;33m\u001b[0m\u001b[0m\n",
      "\u001b[1;31mAssertionError\u001b[0m: 문자열 아님"
     ]
    }
   ],
   "source": [
    "def get_string(input_string):\n",
    "    assert isinstance(input_string, str), '문자열 아님'\n",
    "    return input_string\n",
    "\n",
    "get_string(10)\n"
   ]
  },
  {
   "cell_type": "markdown",
   "id": "ca3e4194-88d3-441e-b5ea-8aaf70098ba3",
   "metadata": {},
   "source": [
    "#### 사용자 정의 예외 타입\n",
    "- 예외 클래스 선언 후 exception 클래스 상속받음"
   ]
  },
  {
   "cell_type": "code",
   "execution_count": 11,
   "id": "d0a88ede-651c-45d7-8dea-cb0e0278ac34",
   "metadata": {},
   "outputs": [
    {
     "name": "stdout",
     "output_type": "stream",
     "text": [
      "Error has detected\n"
     ]
    }
   ],
   "source": [
    "class MyException(Exception):\n",
    "    print('Error has detected')"
   ]
  },
  {
   "cell_type": "code",
   "execution_count": 12,
   "id": "c592826c-ebf5-4204-836b-634ed64cd792",
   "metadata": {},
   "outputs": [
    {
     "name": "stdin",
     "output_type": "stream",
     "text": [
      "which menu would you like?  me\n"
     ]
    },
    {
     "ename": "MyException",
     "evalue": "",
     "output_type": "error",
     "traceback": [
      "\u001b[1;31m---------------------------------------------------------------------------\u001b[0m",
      "\u001b[1;31mMyException\u001b[0m                               Traceback (most recent call last)",
      "\u001b[1;32m~\\AppData\\Local\\Temp/ipykernel_10932/3591670524.py\u001b[0m in \u001b[0;36m<module>\u001b[1;34m\u001b[0m\n\u001b[0;32m      3\u001b[0m \u001b[0morder\u001b[0m \u001b[1;33m=\u001b[0m \u001b[0minput\u001b[0m\u001b[1;33m(\u001b[0m\u001b[1;34m'which menu would you like? '\u001b[0m\u001b[1;33m)\u001b[0m\u001b[1;33m\u001b[0m\u001b[1;33m\u001b[0m\u001b[0m\n\u001b[0;32m      4\u001b[0m \u001b[1;32mif\u001b[0m \u001b[0morder\u001b[0m \u001b[1;32mnot\u001b[0m \u001b[1;32min\u001b[0m \u001b[0mmenu\u001b[0m\u001b[1;33m:\u001b[0m\u001b[1;33m\u001b[0m\u001b[1;33m\u001b[0m\u001b[0m\n\u001b[1;32m----> 5\u001b[1;33m     \u001b[1;32mraise\u001b[0m \u001b[0mMyException\u001b[0m\u001b[1;33m\u001b[0m\u001b[1;33m\u001b[0m\u001b[0m\n\u001b[0m",
      "\u001b[1;31mMyException\u001b[0m: "
     ]
    }
   ],
   "source": [
    "menu = ['burger', 'pizza', 'fried chicken']\n",
    "\n",
    "order = input('which menu would you like? ')\n",
    "if order not in menu:\n",
    "    raise MyException"
   ]
  },
  {
   "cell_type": "code",
   "execution_count": 13,
   "id": "e9687dbc-1a7c-4b04-995d-0816a7e5bc74",
   "metadata": {},
   "outputs": [],
   "source": [
    "class LowerCaseException(Exception):\n",
    "    def __init__(self):\n",
    "        super().__init__('Error has detected: no lower case')"
   ]
  },
  {
   "cell_type": "code",
   "execution_count": 14,
   "id": "649971e3-f201-4a22-aeba-9b89cf9eb59c",
   "metadata": {},
   "outputs": [],
   "source": [
    "cars = ['kia', 'hyundai', 'BMW']"
   ]
  },
  {
   "cell_type": "code",
   "execution_count": 15,
   "id": "94badebf-7616-4755-b1ad-b5d4becbaf44",
   "metadata": {},
   "outputs": [
    {
     "ename": "LowerCaseException",
     "evalue": "Error has detected: no lower case",
     "output_type": "error",
     "traceback": [
      "\u001b[1;31m---------------------------------------------------------------------------\u001b[0m",
      "\u001b[1;31mLowerCaseException\u001b[0m                        Traceback (most recent call last)",
      "\u001b[1;32m~\\AppData\\Local\\Temp/ipykernel_10932/1662843799.py\u001b[0m in \u001b[0;36m<module>\u001b[1;34m\u001b[0m\n\u001b[0;32m      1\u001b[0m \u001b[1;32mfor\u001b[0m \u001b[0mcar\u001b[0m \u001b[1;32min\u001b[0m \u001b[0mcars\u001b[0m\u001b[1;33m:\u001b[0m\u001b[1;33m\u001b[0m\u001b[1;33m\u001b[0m\u001b[0m\n\u001b[0;32m      2\u001b[0m     \u001b[1;32mif\u001b[0m \u001b[0mcar\u001b[0m\u001b[1;33m.\u001b[0m\u001b[0mislower\u001b[0m\u001b[1;33m(\u001b[0m\u001b[1;33m)\u001b[0m\u001b[1;33m:\u001b[0m\u001b[1;33m\u001b[0m\u001b[1;33m\u001b[0m\u001b[0m\n\u001b[1;32m----> 3\u001b[1;33m         \u001b[1;32mraise\u001b[0m \u001b[0mLowerCaseException\u001b[0m\u001b[1;33m\u001b[0m\u001b[1;33m\u001b[0m\u001b[0m\n\u001b[0m\u001b[0;32m      4\u001b[0m \u001b[1;33m\u001b[0m\u001b[0m\n\u001b[0;32m      5\u001b[0m     \u001b[1;32melse\u001b[0m\u001b[1;33m:\u001b[0m\u001b[1;33m\u001b[0m\u001b[1;33m\u001b[0m\u001b[0m\n",
      "\u001b[1;31mLowerCaseException\u001b[0m: Error has detected: no lower case"
     ]
    }
   ],
   "source": [
    "for car in cars:\n",
    "    if car.islower():\n",
    "        raise LowerCaseException\n",
    "        \n",
    "    else:\n",
    "        print(car)"
   ]
  },
  {
   "cell_type": "code",
   "execution_count": null,
   "id": "dece8c5e-745a-40c1-9ec9-8e04c5e2a6a7",
   "metadata": {},
   "outputs": [],
   "source": []
  }
 ],
 "metadata": {
  "kernelspec": {
   "display_name": "Python 3 (ipykernel)",
   "language": "python",
   "name": "python3"
  },
  "language_info": {
   "codemirror_mode": {
    "name": "ipython",
    "version": 3
   },
   "file_extension": ".py",
   "mimetype": "text/x-python",
   "name": "python",
   "nbconvert_exporter": "python",
   "pygments_lexer": "ipython3",
   "version": "3.9.7"
  }
 },
 "nbformat": 4,
 "nbformat_minor": 5
}
