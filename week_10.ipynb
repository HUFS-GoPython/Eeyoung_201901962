{
 "cells": [
  {
   "cell_type": "markdown",
   "id": "c5629180-b4c8-46fc-9a2c-b7b2cfd64e9a",
   "metadata": {},
   "source": [
    "## Object & Class\n",
    "- 개체? 실재적인 물건, 개념\n",
    "- 속성, 행동을 가지는 개념\n",
    "- 자동차 \n",
    "    - 속성: 엔진, 브랜드, 가격, 색상, 이름,...\n",
    "    - 행동: 나가다, 정지하다, 좌회전, 우회전\n",
    "- 고양이\n",
    "    - 속성: 종, 이름, 컬러, 몸무게, 성별, ...\n",
    "    - 행동: 찾다, 뛰다, 걷다, 째려보다,...\n",
    "- 사전\n",
    "    - 속성: 글자 수, 시작 글자, 출현 빈도수,..\n",
    "    - 행동: 추가하다, 제외하다,...\n",
    "- 관련 짓는 방법\n",
    "    - 사람 상점 물건\n",
    "    - 이름, 돈, 재고, 이익, 고객명단, 브랜드, 이름, 가격\n",
    "    - 사다, 회원등록, 팔다, 수익계산\n",
    "객체 사용하는 이유: 코드 재사용 수월"
   ]
  },
  {
   "cell_type": "markdown",
   "id": "0b4484a4-eceb-4089-9dad-ab006a71af03",
   "metadata": {},
   "source": [
    "### 클래스\n",
    "- 객체가 가져야 할 기본 정보를 담은 코드\n",
    "- 설계도, 틀, 프레임워크\n",
    "- 붕어빵의 틀\n",
    "- 붕어빵 == 인스턴스\n",
    "- Class Car:\n",
    "    -클래스명은 카멜표기법을 쓴다"
   ]
  },
  {
   "cell_type": "code",
   "execution_count": 3,
   "id": "f25909c3-a9db-4a1a-997f-74816f7be000",
   "metadata": {},
   "outputs": [
    {
     "data": {
      "text/plain": [
       "<__main__.Car at 0x1f74b2c7370>"
      ]
     },
     "execution_count": 3,
     "metadata": {},
     "output_type": "execute_result"
    }
   ],
   "source": [
    "class Car:\n",
    "    pass\n",
    "car1 = Car()\n",
    "car1"
   ]
  },
  {
   "cell_type": "code",
   "execution_count": 4,
   "id": "23abbf2f-1bbb-4a66-8b84-547cc980e437",
   "metadata": {},
   "outputs": [],
   "source": [
    "car2 = Car()"
   ]
  },
  {
   "cell_type": "code",
   "execution_count": 5,
   "id": "34a942e7-e95d-4287-9d96-71ddc01aef8f",
   "metadata": {},
   "outputs": [
    {
     "data": {
      "text/plain": [
       "<__main__.Car at 0x1f74aecafa0>"
      ]
     },
     "execution_count": 5,
     "metadata": {},
     "output_type": "execute_result"
    }
   ],
   "source": [
    "car2"
   ]
  },
  {
   "cell_type": "code",
   "execution_count": 6,
   "id": "df77bc95-86f0-4062-9b60-125bf550bc26",
   "metadata": {},
   "outputs": [],
   "source": [
    "car1.brand = 'mercedes'\n",
    "car2.brand = 'kia'"
   ]
  },
  {
   "cell_type": "code",
   "execution_count": 7,
   "id": "1d0fbec9-6ee8-461d-bf57-da513e5bac29",
   "metadata": {},
   "outputs": [
    {
     "name": "stdout",
     "output_type": "stream",
     "text": [
      "mercedes\n",
      "kia\n"
     ]
    }
   ],
   "source": [
    "for car in [car1, car2]:\n",
    "    print(car.brand)"
   ]
  },
  {
   "cell_type": "code",
   "execution_count": 8,
   "id": "c5c248f6-628c-423e-9612-77ea0ba3b484",
   "metadata": {},
   "outputs": [],
   "source": [
    "class Car:\n",
    "    brand = 'mercedes'\n",
    "    \n",
    "car3 = Car()"
   ]
  },
  {
   "cell_type": "code",
   "execution_count": 9,
   "id": "24b79d08-7545-4adc-af96-729f6740861a",
   "metadata": {},
   "outputs": [
    {
     "data": {
      "text/plain": [
       "'mercedes'"
      ]
     },
     "execution_count": 9,
     "metadata": {},
     "output_type": "execute_result"
    }
   ],
   "source": [
    "car3.brand"
   ]
  },
  {
   "cell_type": "code",
   "execution_count": 11,
   "id": "58483a7b-40db-487f-a006-d6e2b219c49f",
   "metadata": {},
   "outputs": [],
   "source": [
    "# 속성 따로 설정하기\n",
    "class Car:\n",
    "    def __init__(self, brand): #속성 초기화하는 함수(self == my_car)\n",
    "        self.brand = brand"
   ]
  },
  {
   "cell_type": "code",
   "execution_count": 12,
   "id": "17613ccd-0b5a-45e6-a953-39d306111141",
   "metadata": {},
   "outputs": [
    {
     "data": {
      "text/plain": [
       "'toyota'"
      ]
     },
     "execution_count": 12,
     "metadata": {},
     "output_type": "execute_result"
    }
   ],
   "source": [
    "car4 = Car(brand='toyota')\n",
    "car4.brand"
   ]
  },
  {
   "cell_type": "code",
   "execution_count": 13,
   "id": "f4bb1724-f3e4-471f-9c89-be8f0ccae128",
   "metadata": {},
   "outputs": [],
   "source": [
    "# color, model 속성 초기화하기\n",
    "# 인스턴스 만들기"
   ]
  },
  {
   "cell_type": "code",
   "execution_count": 43,
   "id": "c0b22f05-1f59-4df4-b666-2b6016903582",
   "metadata": {},
   "outputs": [],
   "source": [
    "# 다양한 속성을 원할 때\n",
    "class Car:\n",
    "    def __init__(self, brand, model=None, color='orange'): # 속성을 초기화하는 함수 (self == my car)\n",
    "        self.brand = brand #self == instance\n",
    "        # self.brand = 어떤 객체가 만들어지더라도 가져갈 브랜드명\n",
    "        # brand = 객체 상성 시 설정되는 브랜드면 (처음에 들어오는 값)\n",
    "        self.model = model\n",
    "        self.color = color\n",
    "        \n",
    "        # model 기본적으로는 안 받아도 되게 설정하기\n",
    "    \n",
    "    def drive(self): # 운전하는 상태\n",
    "        print(f'내 차 {self.brand}가 움직인다.')\n",
    "    \n",
    "    def stop(self): # 멈춤\n",
    "        print('차가 멈춘다.')\n",
    "        \n",
    "    def change_color(self, new_color='orange'): # 색 바꿈\n",
    "        self.color = new_color\n",
    "        \n",
    "my_morning = Car('kia', 'black', 'morning')"
   ]
  },
  {
   "cell_type": "code",
   "execution_count": 44,
   "id": "fcd0f0a4-ed6f-4b97-adb9-7153bf27a6b8",
   "metadata": {},
   "outputs": [
    {
     "data": {
      "text/plain": [
       "'morning'"
      ]
     },
     "execution_count": 44,
     "metadata": {},
     "output_type": "execute_result"
    }
   ],
   "source": [
    "my_morning.color"
   ]
  },
  {
   "cell_type": "code",
   "execution_count": 45,
   "id": "08772d6d-54fa-4538-9d5b-d2b72da00a7d",
   "metadata": {},
   "outputs": [
    {
     "data": {
      "text/plain": [
       "'black'"
      ]
     },
     "execution_count": 45,
     "metadata": {},
     "output_type": "execute_result"
    }
   ],
   "source": [
    "my_morning.model"
   ]
  },
  {
   "cell_type": "code",
   "execution_count": 46,
   "id": "31a02ea6-6e96-4490-a26d-645347bd3825",
   "metadata": {},
   "outputs": [
    {
     "name": "stdout",
     "output_type": "stream",
     "text": [
      "차가 멈춘다.\n"
     ]
    }
   ],
   "source": [
    "my_morning.stop()"
   ]
  },
  {
   "cell_type": "code",
   "execution_count": 47,
   "id": "5521f08e-8e20-4a63-9247-8e54a1032a81",
   "metadata": {},
   "outputs": [
    {
     "name": "stdout",
     "output_type": "stream",
     "text": [
      "내 차 kia가 움직인다.\n"
     ]
    }
   ],
   "source": [
    "my_morning.drive()"
   ]
  },
  {
   "cell_type": "code",
   "execution_count": 48,
   "id": "050744fd-17ff-42ed-9537-0d299745a0f0",
   "metadata": {},
   "outputs": [],
   "source": [
    "my_morning.change_color()"
   ]
  },
  {
   "cell_type": "code",
   "execution_count": 49,
   "id": "babe31ef-b607-4623-9d01-7d83026c76ac",
   "metadata": {},
   "outputs": [
    {
     "data": {
      "text/plain": [
       "'orange'"
      ]
     },
     "execution_count": 49,
     "metadata": {},
     "output_type": "execute_result"
    }
   ],
   "source": [
    "my_morning.color"
   ]
  },
  {
   "cell_type": "code",
   "execution_count": 55,
   "id": "f6986ae2-545e-43e8-9307-1b82a2fb9436",
   "metadata": {},
   "outputs": [
    {
     "data": {
      "text/plain": [
       "'sorento'"
      ]
     },
     "execution_count": 55,
     "metadata": {},
     "output_type": "execute_result"
    }
   ],
   "source": [
    "my_sorento = Car('kia', 'sorento')\n",
    "my_sorento.color\n",
    "my_sorento.model"
   ]
  },
  {
   "cell_type": "markdown",
   "id": "a816215a-4677-479f-9578-31f8988a9abf",
   "metadata": {},
   "source": [
    "### getter, setter\n",
    "- 캡슐화, 정보 은닉을 위한 코드\n",
    "- 클래스 외부에서 변수 접근을 어렵게\n",
    "- java, C에서의 public -> private\n"
   ]
  },
  {
   "cell_type": "code",
   "execution_count": 57,
   "id": "c74617be-5183-4773-bf06-47959ad0d56c",
   "metadata": {},
   "outputs": [],
   "source": [
    "#1. 틀에서 변수를 바꾸는 것\n",
    "\n",
    "#2. 인스턴스에서 변수를 바꾸는 것"
   ]
  },
  {
   "cell_type": "code",
   "execution_count": 58,
   "id": "c5a9f9d3-a860-419e-8a56-8a12c2239b12",
   "metadata": {},
   "outputs": [],
   "source": [
    "class Fruit:\n",
    "    color = 'red'"
   ]
  },
  {
   "cell_type": "code",
   "execution_count": 59,
   "id": "93f6b275-839a-442d-bbc8-32bf430bc31f",
   "metadata": {},
   "outputs": [
    {
     "data": {
      "text/plain": [
       "'red'"
      ]
     },
     "execution_count": 59,
     "metadata": {},
     "output_type": "execute_result"
    }
   ],
   "source": [
    "apple = Fruit()\n",
    "apple.color"
   ]
  },
  {
   "cell_type": "code",
   "execution_count": 60,
   "id": "e18c72a3-2bba-4e61-9f3d-8557a4d876f1",
   "metadata": {},
   "outputs": [],
   "source": [
    "Fruit.color = 'purple'"
   ]
  },
  {
   "cell_type": "code",
   "execution_count": 61,
   "id": "8d066bfd-a61e-4c1f-8d33-3be0bb3fde06",
   "metadata": {},
   "outputs": [
    {
     "data": {
      "text/plain": [
       "'purple'"
      ]
     },
     "execution_count": 61,
     "metadata": {},
     "output_type": "execute_result"
    }
   ],
   "source": [
    "orange = Fruit()\n",
    "orange.color"
   ]
  },
  {
   "cell_type": "code",
   "execution_count": 66,
   "id": "527ee4e5-8c13-42da-9e1e-508f1ba2f412",
   "metadata": {},
   "outputs": [],
   "source": [
    "# 캡슐화 1\n",
    "class Car:\n",
    "    def __init__(self, input_brand): # 속성을 초기화하는 함수 (self == my car)\n",
    "        self.brand = input_brand \n",
    "        \n",
    "        \n",
    "    def get_brand(self):\n",
    "        # 원래 변수명에 접근하도록\n",
    "        print('from the getter')\n",
    "        return self.brand\n",
    "    \n",
    "    def set_brand(self, input_brand):\n",
    "        # 변수명을 바꾸는 작업\n",
    "        print('from the setter')\n",
    "        self.brand = input_brand\n",
    "        "
   ]
  },
  {
   "cell_type": "code",
   "execution_count": 67,
   "id": "6c415093-5374-40d8-92ba-bba435003f4c",
   "metadata": {},
   "outputs": [
    {
     "data": {
      "text/plain": [
       "'toyota'"
      ]
     },
     "execution_count": 67,
     "metadata": {},
     "output_type": "execute_result"
    }
   ],
   "source": [
    "ex = Car('toyota')\n",
    "ex.brand"
   ]
  },
  {
   "cell_type": "code",
   "execution_count": 68,
   "id": "9d781c7d-5c8d-41a1-a686-d0a74b36fa04",
   "metadata": {},
   "outputs": [
    {
     "name": "stdout",
     "output_type": "stream",
     "text": [
      "from the getter\n"
     ]
    },
    {
     "data": {
      "text/plain": [
       "'toyota'"
      ]
     },
     "execution_count": 68,
     "metadata": {},
     "output_type": "execute_result"
    }
   ],
   "source": [
    "ex.get_brand()"
   ]
  },
  {
   "cell_type": "code",
   "execution_count": 69,
   "id": "cb487bb7-190f-46c4-bad2-83699d4d5f66",
   "metadata": {},
   "outputs": [
    {
     "name": "stdout",
     "output_type": "stream",
     "text": [
      "from the setter\n"
     ]
    }
   ],
   "source": [
    "ex.set_brand('mazuda')"
   ]
  },
  {
   "cell_type": "code",
   "execution_count": 70,
   "id": "e0bfb21c-028f-496c-9592-4b774b19fedd",
   "metadata": {},
   "outputs": [
    {
     "data": {
      "text/plain": [
       "'mazuda'"
      ]
     },
     "execution_count": 70,
     "metadata": {},
     "output_type": "execute_result"
    }
   ],
   "source": [
    "ex.brand"
   ]
  },
  {
   "cell_type": "code",
   "execution_count": 71,
   "id": "94baaafc-721c-48c3-a830-97ec2af6f682",
   "metadata": {},
   "outputs": [
    {
     "name": "stdout",
     "output_type": "stream",
     "text": [
      "from the getter\n"
     ]
    },
    {
     "data": {
      "text/plain": [
       "'mazuda'"
      ]
     },
     "execution_count": 71,
     "metadata": {},
     "output_type": "execute_result"
    }
   ],
   "source": [
    "ex.get_brand()"
   ]
  },
  {
   "cell_type": "code",
   "execution_count": 72,
   "id": "ae455a26-c88f-4bff-a50d-62bd5e64f561",
   "metadata": {},
   "outputs": [],
   "source": [
    "car.brand = 'bmw'"
   ]
  },
  {
   "cell_type": "code",
   "execution_count": 73,
   "id": "b119303b-51a8-4e49-8083-794294c4e544",
   "metadata": {},
   "outputs": [
    {
     "data": {
      "text/plain": [
       "'bmw'"
      ]
     },
     "execution_count": 73,
     "metadata": {},
     "output_type": "execute_result"
    }
   ],
   "source": [
    "car.brand"
   ]
  },
  {
   "cell_type": "code",
   "execution_count": 74,
   "id": "b312aa57-39ad-426e-9204-2c04012d161e",
   "metadata": {},
   "outputs": [
    {
     "data": {
      "text/plain": [
       "'kia'"
      ]
     },
     "execution_count": 74,
     "metadata": {},
     "output_type": "execute_result"
    }
   ],
   "source": [
    "# 2 : property 함수 사용\n",
    "\n",
    "class Car:\n",
    "    def __init__(self, input_brand):\n",
    "        self.hidden_brand = input_brand\n",
    "    \n",
    "    def get_brand(self):\n",
    "        return self.hidden_brand\n",
    "    \n",
    "    def set_brand(self, input_brand):\n",
    "        self.hidden_brand = input_brand\n",
    "    \n",
    "    brand = property(get_brand, set_brand)\n",
    "\n",
    "c = Car('kia')\n",
    "c.brand"
   ]
  },
  {
   "cell_type": "code",
   "execution_count": null,
   "id": "6503e2a5-4761-422e-8e68-a8fefa36a42c",
   "metadata": {},
   "outputs": [],
   "source": []
  },
  {
   "cell_type": "code",
   "execution_count": null,
   "id": "c941168f-2efd-442a-8b3e-3cd474bb92af",
   "metadata": {},
   "outputs": [],
   "source": [
    "# 실습\n",
    "- 객체: 메모장(노트), 메모\n",
    "- 변수: 제목, 페이지 번호, 메모 글귀\n",
    "- 메서드: 추가, 삭제, 페이지 번호 쓰기, 지우기\n",
    "- getter, setter 메모장 제목에 설정하기\n",
    "- '메모' 객체에 글귀를 추가한다\n",
    "- '메모장' 객체에 글귀를 추가한다\n",
    "- 페이지 번호가 늘어난다\n",
    "- 메모를 삭제하면 페이지 번호가 줄어들로\n",
    "- 페이지가 300을 넘으면 메모 추가 못하게 막기\n",
    "- 페이지 번호로 메모 찾기"
   ]
  },
  {
   "cell_type": "code",
   "execution_count": 76,
   "id": "41a00748-909e-4243-9105-c6a3e4dcaeb3",
   "metadata": {},
   "outputs": [
    {
     "ename": "IndentationError",
     "evalue": "expected an indented block (Temp/ipykernel_17024/1811000852.py, line 1)",
     "output_type": "error",
     "traceback": [
      "\u001b[1;36m  File \u001b[1;32m\"C:\\Users\\82109\\AppData\\Local\\Temp/ipykernel_17024/1811000852.py\"\u001b[1;36m, line \u001b[1;32m1\u001b[0m\n\u001b[1;33m    class memo:\u001b[0m\n\u001b[1;37m               ^\u001b[0m\n\u001b[1;31mIndentationError\u001b[0m\u001b[1;31m:\u001b[0m expected an indented block\n"
     ]
    }
   ],
   "source": [
    "class Notebook:\n",
    "    def __init__(self, title, page_number, writing):\n",
    "        self.title = title\n",
    "        self.page_number = page_number\n",
    "        self.writing = writing\n",
    "    \n",
    "    def add(self):\n",
    "        new = input()\n",
    "        self.writing + \" \" + new\n",
    "    \n",
    "    def delete(self):\n",
    "        pass\n",
    "    \n",
    "    def write_page_number(self):\n",
    "        pass\n",
    "    \n",
    "    def delet_page_number(self):\n",
    "        pass"
   ]
  },
  {
   "cell_type": "code",
   "execution_count": null,
   "id": "eb4e7e07-8cc0-4457-9bee-159755d989f3",
   "metadata": {},
   "outputs": [],
   "source": []
  }
 ],
 "metadata": {
  "kernelspec": {
   "display_name": "Python 3 (ipykernel)",
   "language": "python",
   "name": "python3"
  },
  "language_info": {
   "codemirror_mode": {
    "name": "ipython",
    "version": 3
   },
   "file_extension": ".py",
   "mimetype": "text/x-python",
   "name": "python",
   "nbconvert_exporter": "python",
   "pygments_lexer": "ipython3",
   "version": "3.9.7"
  }
 },
 "nbformat": 4,
 "nbformat_minor": 5
}
