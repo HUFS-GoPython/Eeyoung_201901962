{
 "cells": [
  {
   "cell_type": "markdown",
   "id": "0f262ccb-87d2-486c-a86c-54702c5b8b5d",
   "metadata": {},
   "source": [
    "## week_09"
   ]
  },
  {
   "cell_type": "markdown",
   "id": "cbd8209f-8f13-435e-aab6-61a28bf8123d",
   "metadata": {},
   "source": [
    "## ch.08 Dictionary"
   ]
  },
  {
   "cell_type": "markdown",
   "id": "b74655ba-d25e-435c-a79c-5d054546f615",
   "metadata": {},
   "source": [
    "### Dictionary\n",
    "- 키 : 값 의 형태로 구성(사전과 유사)\n",
    "- 키, 값을 통해 정보를 탐색\n",
    "- 키, 값은 고유해야함\n",
    "- 순서가 없음 => offset 없음\n",
    "- 가변 객체(수정, 추가, 삭제 가능)\n",
    "- 타입 : dict, dict()\n",
    "- 생성: {k1: v1, k2: v2...}\n",
    "- value에는 리스트, 튜플, 딕셔너리도 들어갈 수 있음"
   ]
  },
  {
   "cell_type": "code",
   "execution_count": 1,
   "id": "3f5b6cb6-6d41-47da-912b-dda2b9add00d",
   "metadata": {},
   "outputs": [
    {
     "data": {
      "text/plain": [
       "1"
      ]
     },
     "execution_count": 1,
     "metadata": {},
     "output_type": "execute_result"
    }
   ],
   "source": [
    "a = [1, 2, 3]\n",
    "a[0] #리스트는 순서있음 딕셔너리는 없음"
   ]
  },
  {
   "cell_type": "code",
   "execution_count": 3,
   "id": "d02d2495-4b81-44f8-88ad-d75eb7492627",
   "metadata": {},
   "outputs": [
    {
     "data": {
      "text/plain": [
       "{}"
      ]
     },
     "execution_count": 3,
     "metadata": {},
     "output_type": "execute_result"
    }
   ],
   "source": [
    "empty = dict()\n",
    "empty = {}\n",
    "empty"
   ]
  },
  {
   "cell_type": "code",
   "execution_count": 4,
   "id": "e73bb9a1-b803-48cb-8746-da7a1c795ae0",
   "metadata": {},
   "outputs": [],
   "source": [
    "a = [1, 2, 3]\n",
    "a = {}"
   ]
  },
  {
   "cell_type": "code",
   "execution_count": 5,
   "id": "1cd350d6-0657-48d9-8ddf-b8450c5a833a",
   "metadata": {},
   "outputs": [
    {
     "data": {
      "text/plain": [
       "{'first': 'while', 'middle': 'E', 'last': 'coyote'}"
      ]
     },
     "execution_count": 5,
     "metadata": {},
     "output_type": "execute_result"
    }
   ],
   "source": [
    "customer = {\"first\" : \"while\", \"middle\": \"E\", \"last\": \"coyote\"}\n",
    "customer"
   ]
  },
  {
   "cell_type": "code",
   "execution_count": 6,
   "id": "e3a00c8f-a588-4dcf-be2e-22fa903c598a",
   "metadata": {},
   "outputs": [
    {
     "data": {
      "text/plain": [
       "{'일영': '202201 경영학과', '이영': '202202 중국어과', '삼영': '202203 수학과'}"
      ]
     },
     "execution_count": 6,
     "metadata": {},
     "output_type": "execute_result"
    }
   ],
   "source": [
    "# 출석부 딕셔너리를 만들기\n",
    "#이름, 학번, 학과\n",
    "#제임스 202201 경영학과\n",
    "\n",
    "student_dic = {'일영': '202201 경영학과', '이영': '202202 중국어과', '삼영': '202203 수학과'}\n",
    "student_dic"
   ]
  },
  {
   "cell_type": "code",
   "execution_count": 7,
   "id": "05b5af75-d03f-4436-b0d3-64519c98126e",
   "metadata": {},
   "outputs": [
    {
     "data": {
      "text/plain": [
       "{1: 2, 3: 4, 5: 6}"
      ]
     },
     "execution_count": 7,
     "metadata": {},
     "output_type": "execute_result"
    }
   ],
   "source": [
    "ex1 = [[1,2], [3,4], [5,6]]\n",
    "dict(ex1)"
   ]
  },
  {
   "cell_type": "code",
   "execution_count": 8,
   "id": "18ef984a-403c-4bfb-8033-694fdc4b60b4",
   "metadata": {},
   "outputs": [
    {
     "data": {
      "text/plain": [
       "{1: 2, 3: 4, 5: 6}"
      ]
     },
     "execution_count": 8,
     "metadata": {},
     "output_type": "execute_result"
    }
   ],
   "source": [
    "ex2 = [(1,2), (3,4), (5,6)]\n",
    "dict(ex2)"
   ]
  },
  {
   "cell_type": "code",
   "execution_count": 9,
   "id": "ea007a7b-004b-441e-abbf-f400bd93bba5",
   "metadata": {},
   "outputs": [
    {
     "data": {
      "text/plain": [
       "{'a': 'b', 'b': 'c', 'c': 'd'}"
      ]
     },
     "execution_count": 9,
     "metadata": {},
     "output_type": "execute_result"
    }
   ],
   "source": [
    "ex3 = ['ab', 'bc', 'cd']\n",
    "dict(ex3)"
   ]
  },
  {
   "cell_type": "code",
   "execution_count": 10,
   "id": "dea29f40-0b05-40e3-a4e9-6ab4b217a063",
   "metadata": {},
   "outputs": [],
   "source": [
    "ex4 = ['abdd', 'bcdd', 'cdddd']\n",
    "# dict(ex4) 이런 경우에는 안됨"
   ]
  },
  {
   "cell_type": "markdown",
   "id": "797db4b7-5d26-4ee0-b71b-c0d5f9987e54",
   "metadata": {},
   "source": [
    "### 항목조회 & 변경\n",
    "- 키로 항목을 찾아 값을 할당\n",
    "- 이미 존재하는 키이면 값 변경\n",
    "- 키가 없다면 새로 생성"
   ]
  },
  {
   "cell_type": "code",
   "execution_count": 11,
   "id": "b8a41e65-95ae-43d5-a706-406bda360d42",
   "metadata": {},
   "outputs": [],
   "source": [
    "pythons = {\n",
    "      'Chapman': 'Graham',\n",
    "      'Cleese': 'John',\n",
    "      'Idle': 'Eric',\n",
    "      'Jones': 'Terry',\n",
    "      'Palin': 'Michael'\n",
    "}"
   ]
  },
  {
   "cell_type": "code",
   "execution_count": 12,
   "id": "f69244a5-748b-4ac3-b687-40f4b641e841",
   "metadata": {},
   "outputs": [
    {
     "data": {
      "text/plain": [
       "'Eric'"
      ]
     },
     "execution_count": 12,
     "metadata": {},
     "output_type": "execute_result"
    }
   ],
   "source": [
    "#idle\n",
    "pythons['Idle']"
   ]
  },
  {
   "cell_type": "code",
   "execution_count": 13,
   "id": "8f8ad764-c3a4-4f71-8d2f-a8c1f5c15c04",
   "metadata": {},
   "outputs": [
    {
     "ename": "KeyError",
     "evalue": "0",
     "output_type": "error",
     "traceback": [
      "\u001b[1;31m---------------------------------------------------------------------------\u001b[0m",
      "\u001b[1;31mKeyError\u001b[0m                                  Traceback (most recent call last)",
      "\u001b[1;32m~\\AppData\\Local\\Temp/ipykernel_19948/2669803858.py\u001b[0m in \u001b[0;36m<module>\u001b[1;34m\u001b[0m\n\u001b[1;32m----> 1\u001b[1;33m \u001b[0mpythons\u001b[0m\u001b[1;33m[\u001b[0m\u001b[1;36m0\u001b[0m\u001b[1;33m]\u001b[0m \u001b[1;31m#index 안 됨\u001b[0m\u001b[1;33m\u001b[0m\u001b[1;33m\u001b[0m\u001b[0m\n\u001b[0m",
      "\u001b[1;31mKeyError\u001b[0m: 0"
     ]
    }
   ],
   "source": [
    "pythons[0] #index 안 됨"
   ]
  },
  {
   "cell_type": "code",
   "execution_count": null,
   "id": "bcc702d4-e9db-4fa7-acb2-9188c7ae8bad",
   "metadata": {},
   "outputs": [],
   "source": [
    "pythons['Idle'] = 'Erica' #있으면 변경 없으면 추가\n",
    "pythons"
   ]
  },
  {
   "cell_type": "code",
   "execution_count": 14,
   "id": "f57b8215-60ab-4595-a98a-ba83ca60867b",
   "metadata": {},
   "outputs": [
    {
     "data": {
      "text/plain": [
       "{'Chapman': 'Graham',\n",
       " 'Cleese': 'John',\n",
       " 'Idle': 'Eric',\n",
       " 'Jones': 'Terry',\n",
       " 'Palin': 'Michael',\n",
       " 'Kim': 'Laura'}"
      ]
     },
     "execution_count": 14,
     "metadata": {},
     "output_type": "execute_result"
    }
   ],
   "source": [
    "pythons['Kim']='Laura'\n",
    "pythons"
   ]
  },
  {
   "cell_type": "code",
   "execution_count": 15,
   "id": "feafbdd5-fbe0-4af5-8f87-5b5da07c959d",
   "metadata": {},
   "outputs": [
    {
     "ename": "NameError",
     "evalue": "name 'pytons' is not defined",
     "output_type": "error",
     "traceback": [
      "\u001b[1;31m---------------------------------------------------------------------------\u001b[0m",
      "\u001b[1;31mNameError\u001b[0m                                 Traceback (most recent call last)",
      "\u001b[1;32m~\\AppData\\Local\\Temp/ipykernel_19948/4286901895.py\u001b[0m in \u001b[0;36m<module>\u001b[1;34m\u001b[0m\n\u001b[1;32m----> 1\u001b[1;33m \u001b[0mpytons\u001b[0m\u001b[1;33m[\u001b[0m\u001b[1;34m'Lee'\u001b[0m\u001b[1;33m]\u001b[0m \u001b[1;31m#없으면 오류\u001b[0m\u001b[1;33m\u001b[0m\u001b[1;33m\u001b[0m\u001b[0m\n\u001b[0m",
      "\u001b[1;31mNameError\u001b[0m: name 'pytons' is not defined"
     ]
    }
   ],
   "source": [
    "pytons['Lee'] #없으면 오류"
   ]
  },
  {
   "cell_type": "code",
   "execution_count": 16,
   "id": "183c852c-b738-44a8-ac9e-54feffbf48e2",
   "metadata": {},
   "outputs": [
    {
     "data": {
      "text/plain": [
       "False"
      ]
     },
     "execution_count": 16,
     "metadata": {},
     "output_type": "execute_result"
    }
   ],
   "source": [
    "'Lee' in pythons"
   ]
  },
  {
   "cell_type": "code",
   "execution_count": 17,
   "id": "90e81a15-c5d7-4b37-8f29-c60b2ecc3577",
   "metadata": {},
   "outputs": [],
   "source": [
    "pythons.get('Lee') # 없으면 None 리턴"
   ]
  },
  {
   "cell_type": "code",
   "execution_count": 18,
   "id": "efdc0d8f-c65b-4e72-9ba9-33f0888ae48a",
   "metadata": {},
   "outputs": [
    {
     "data": {
      "text/plain": [
       "'Laura'"
      ]
     },
     "execution_count": 18,
     "metadata": {},
     "output_type": "execute_result"
    }
   ],
   "source": [
    "pythons.get('Kim',0)"
   ]
  },
  {
   "cell_type": "code",
   "execution_count": 19,
   "id": "595b17a2-b731-49c3-8f06-08b5f8f831ba",
   "metadata": {},
   "outputs": [
    {
     "data": {
      "text/plain": [
       "0"
      ]
     },
     "execution_count": 19,
     "metadata": {},
     "output_type": "execute_result"
    }
   ],
   "source": [
    "pythons.get('Choi',0)"
   ]
  },
  {
   "cell_type": "markdown",
   "id": "6e9b2f3b-5450-4175-ae06-951702dee384",
   "metadata": {},
   "source": [
    "### keys(), values(), items()\n",
    "- keys: key 반환\n",
    "- values: value 반환\n",
    "- items: 튜플형식 key, value 반환 (eky, value)"
   ]
  },
  {
   "cell_type": "code",
   "execution_count": null,
   "id": "5e725260-b2b1-4f2c-8b01-f34567a4d4f5",
   "metadata": {},
   "outputs": [],
   "source": [
    "list(pythons.keys()) # 리스트 사용하고 싶을경우 list 로 묶음"
   ]
  },
  {
   "cell_type": "code",
   "execution_count": null,
   "id": "6d9799aa-799a-4ab6-abfc-0c7a7242ed98",
   "metadata": {},
   "outputs": [],
   "source": [
    "pythons.values()"
   ]
  },
  {
   "cell_type": "code",
   "execution_count": null,
   "id": "d3be7573-fad6-4e62-aff0-34e66836913a",
   "metadata": {},
   "outputs": [],
   "source": [
    "pythons.items()"
   ]
  },
  {
   "cell_type": "code",
   "execution_count": null,
   "id": "4843f17c-6c5a-4d06-9f3a-71db3c1c745d",
   "metadata": {},
   "outputs": [],
   "source": [
    "[x for x in pythons.items()]"
   ]
  },
  {
   "cell_type": "code",
   "execution_count": 15,
   "id": "966cc2e6-f896-4ed3-85b8-594ff065de66",
   "metadata": {},
   "outputs": [],
   "source": [
    "animal = 'cat snake monkey ant spider'.split()\n",
    "legs = [4, 0, 2, 4, 8]\n",
    "animal_legs = {}\n",
    "for a in animal:\n",
    "    animal_legs[a] = legs[animal.index(a)]"
   ]
  },
  {
   "cell_type": "code",
   "execution_count": 16,
   "id": "06613b25-23bf-4b50-a380-38bc93d240c2",
   "metadata": {},
   "outputs": [
    {
     "data": {
      "text/plain": [
       "{'cat': 4, 'snake': 0, 'monkey': 2, 'ant': 4, 'spider': 8}"
      ]
     },
     "execution_count": 16,
     "metadata": {},
     "output_type": "execute_result"
    }
   ],
   "source": [
    "animal_legs"
   ]
  },
  {
   "cell_type": "code",
   "execution_count": 17,
   "id": "175a2722-1bf0-454e-91d1-75359d251ed7",
   "metadata": {},
   "outputs": [
    {
     "data": {
      "text/plain": [
       "{'cat': 4, 'snake': 0, 'monkey': 2, 'ant': 4, 'spider': 8}"
      ]
     },
     "execution_count": 17,
     "metadata": {},
     "output_type": "execute_result"
    }
   ],
   "source": [
    "animal_dic = {}\n",
    "for k, v in zip(animal, legs):\n",
    "    animal_dic[k] = v\n",
    "animal_dic"
   ]
  },
  {
   "cell_type": "code",
   "execution_count": 20,
   "id": "81cf6f5d-0303-475a-abf0-76c160284b50",
   "metadata": {},
   "outputs": [
    {
     "data": {
      "text/plain": [
       "[('C', 6), ('C', 4), ('I', 4), ('J', 5), ('P', 7), ('K', 5)]"
      ]
     },
     "execution_count": 20,
     "metadata": {},
     "output_type": "execute_result"
    }
   ],
   "source": [
    "# pythons 에서 성: 이름 => 리스트컴프리핸션\n",
    "[(x[0], len(y)) for x, y in pythons.items()]"
   ]
  },
  {
   "cell_type": "markdown",
   "id": "32bfadc3-5c7d-4ebf-b8c7-f95eeb533186",
   "metadata": {},
   "source": [
    "#### 값 수정, 삭제, 복제"
   ]
  },
  {
   "cell_type": "code",
   "execution_count": 25,
   "id": "5a28d189-039b-431f-9ea6-83aa09bd81d5",
   "metadata": {},
   "outputs": [],
   "source": [
    "pythons = {'Chapman': 'Graham'}\n"
   ]
  },
  {
   "cell_type": "code",
   "execution_count": 27,
   "id": "a9526f49-67c1-4ae4-87f6-2163d1172bfe",
   "metadata": {},
   "outputs": [],
   "source": [
    "others = {\n",
    "    'Marx': 'Groucho',\n",
    "    'Howord': 'Moe'\n",
    "}\n",
    "pythons.update(others)"
   ]
  },
  {
   "cell_type": "code",
   "execution_count": 28,
   "id": "8a2389c0-fa73-4d63-a00b-4c6537ebc14d",
   "metadata": {},
   "outputs": [
    {
     "data": {
      "text/plain": [
       "{'Chapman': 'Graham', 'Marx': 'Groucho', 'Howord': 'Moe'}"
      ]
     },
     "execution_count": 28,
     "metadata": {},
     "output_type": "execute_result"
    }
   ],
   "source": [
    "pythons"
   ]
  },
  {
   "cell_type": "code",
   "execution_count": 30,
   "id": "ba5e8178-bd01-420c-930b-a52fc1383d36",
   "metadata": {},
   "outputs": [],
   "source": [
    "# 삭제1\n",
    "del pythons['Chapman']"
   ]
  },
  {
   "cell_type": "code",
   "execution_count": 31,
   "id": "9f7acc3a-bf87-4028-bd97-cf032108171c",
   "metadata": {},
   "outputs": [
    {
     "data": {
      "text/plain": [
       "{'Marx': 'Groucho', 'Howord': 'Moe'}"
      ]
     },
     "execution_count": 31,
     "metadata": {},
     "output_type": "execute_result"
    }
   ],
   "source": [
    "pythons"
   ]
  },
  {
   "cell_type": "code",
   "execution_count": 32,
   "id": "4323cab8-0e55-4427-9df6-b0c0480e65b5",
   "metadata": {},
   "outputs": [
    {
     "data": {
      "text/plain": [
       "'Groucho'"
      ]
     },
     "execution_count": 32,
     "metadata": {},
     "output_type": "execute_result"
    }
   ],
   "source": [
    "# 삭제2\n",
    "pythons.pop('Marx', 0)"
   ]
  },
  {
   "cell_type": "code",
   "execution_count": 21,
   "id": "03a03d33-b3b8-4a49-9f49-6700f6e9c1d8",
   "metadata": {},
   "outputs": [
    {
     "data": {
      "text/plain": [
       "{}"
      ]
     },
     "execution_count": 21,
     "metadata": {},
     "output_type": "execute_result"
    }
   ],
   "source": [
    "pythons.clear()# 초기화\n",
    "pythons={} # 초기화\n",
    "\n",
    "pythons"
   ]
  },
  {
   "cell_type": "markdown",
   "id": "fabea9d9-6157-4ec4-a826-432bc6b452b0",
   "metadata": {},
   "source": [
    "## 8. copy\n",
    "01. 할당\n",
    "02. 얕은 복사\n",
    "03. 깊은 복사"
   ]
  },
  {
   "cell_type": "code",
   "execution_count": 35,
   "id": "a53a7033-c0a4-46fb-9588-857df51f9cf0",
   "metadata": {},
   "outputs": [
    {
     "data": {
      "text/plain": [
       "({1: 10, 2: 3, 3: 4}, {1: 10, 2: 3, 3: 4})"
      ]
     },
     "execution_count": 35,
     "metadata": {},
     "output_type": "execute_result"
    }
   ],
   "source": [
    "a = {1:2, 2:3, 3:4}\n",
    "b = a\n",
    "a[1] = 10\n",
    "a, b # b도 바뀐다"
   ]
  },
  {
   "cell_type": "code",
   "execution_count": 36,
   "id": "11df32c5-8eb0-4a82-834d-217330d28d08",
   "metadata": {},
   "outputs": [
    {
     "data": {
      "text/plain": [
       "({1: 100, 2: 3, 3: 4}, {1: 10, 2: 3, 3: 4})"
      ]
     },
     "execution_count": 36,
     "metadata": {},
     "output_type": "execute_result"
    }
   ],
   "source": [
    "b = a.copy()\n",
    "a[1] = 100\n",
    "a, b "
   ]
  },
  {
   "cell_type": "code",
   "execution_count": 41,
   "id": "2b84e595-6e4a-4427-a3dc-38ad700912f0",
   "metadata": {},
   "outputs": [
    {
     "data": {
      "text/plain": [
       "({1: 9, 2: 3, 3: 4}, {1: 100, 2: 3, 3: 4})"
      ]
     },
     "execution_count": 41,
     "metadata": {},
     "output_type": "execute_result"
    }
   ],
   "source": [
    "import copy\n",
    "b = copy.deepcopy(a)\n",
    "a[1] = 9\n",
    "a, b"
   ]
  },
  {
   "cell_type": "markdown",
   "id": "00671158-9df5-4084-ab1a-12b98f593f2e",
   "metadata": {},
   "source": [
    "### ex\n",
    "- 두 개 리스트를 딕셔너리로 만든다\n",
    "- 명왕성: pluto 추가\n",
    "- '성'으로 끝나지 않는 단어 삭제하기\n",
    "- sorted 1) key 2) english"
   ]
  },
  {
   "cell_type": "code",
   "execution_count": 42,
   "id": "168177fb-a817-4ee1-b0fd-4f93ea7154fa",
   "metadata": {},
   "outputs": [],
   "source": [
    "solar_kor = '태양 수성 금성 지구 화성 목성 토성 천왕성 해왕성'.split()\n",
    "solar_eng = 'sum mercury venus earth mars jupiter saturn uranus neptune'.split()"
   ]
  },
  {
   "cell_type": "code",
   "execution_count": 54,
   "id": "ff92b842-68a3-4b8c-8826-937afb72c7c6",
   "metadata": {},
   "outputs": [
    {
     "name": "stdout",
     "output_type": "stream",
     "text": [
      "[('금성', 'venus'), ('명왕성', 'pluto'), ('목성', 'jupiter'), ('수성', 'mercury'), ('천왕성', 'uranus'), ('토성', 'saturn'), ('해왕성', 'neptune'), ('화성', 'mars')]\n"
     ]
    }
   ],
   "source": [
    "solar_dic = {}\n",
    "for i in range(len(solar_kor)):\n",
    "    solar_dic[solar_kor[i]] = solar_eng[i]\n",
    "solar_dic['명왕성'] = 'pluto'\n",
    "solar_dic.keys()\n",
    "not_sung = [s for s in solar_dic.keys() if s[-1] != '성']\n",
    "for s in not_sung:\n",
    "    del solar_dic[s]\n",
    "print(sorted(solar_dic.items()))\n"
   ]
  },
  {
   "cell_type": "code",
   "execution_count": 57,
   "id": "e1967643-4466-4e57-a4f8-5af77cf548c3",
   "metadata": {},
   "outputs": [
    {
     "data": {
      "text/plain": [
       "{'o': 4, 'e': 1, 'a': 2, 'i': 1}"
      ]
     },
     "execution_count": 57,
     "metadata": {},
     "output_type": "execute_result"
    }
   ],
   "source": [
    "vowels = 'aeiou'\n",
    "word = 'onomatopoeia'\n",
    "\n",
    "{ch: word.count(ch) for ch in set(word) if ch in vowels}"
   ]
  },
  {
   "cell_type": "markdown",
   "id": "1c17e065-e2d6-4a27-b7f5-a4b37f6082f3",
   "metadata": {},
   "source": [
    "## Set\n",
    "- 딕셔너리의 키만 모아놓음 => 중복 없음!\n",
    "- 수학의 집합 개념 => 교집합, 합집합, 차집합,...\n",
    "- 데이터 자료, 순서 없고, 인덱싱 없고"
   ]
  },
  {
   "cell_type": "code",
   "execution_count": 22,
   "id": "6c12b498-d1da-41c2-a578-507fc41ac6b6",
   "metadata": {},
   "outputs": [
    {
     "data": {
      "text/plain": [
       "(set(), {})"
      ]
     },
     "execution_count": 22,
     "metadata": {},
     "output_type": "execute_result"
    }
   ],
   "source": [
    "empty = set()\n",
    "empty1 = {} #dict\n",
    "empty, empty1"
   ]
  },
  {
   "cell_type": "code",
   "execution_count": 23,
   "id": "4503712f-ad4d-42c4-80cf-72d1d58c7b1f",
   "metadata": {},
   "outputs": [
    {
     "data": {
      "text/plain": [
       "set"
      ]
     },
     "execution_count": 23,
     "metadata": {},
     "output_type": "execute_result"
    }
   ],
   "source": [
    "a = {1,2,3}\n",
    "type(a) #key 와 value 가 없으므로 set\n"
   ]
  },
  {
   "cell_type": "code",
   "execution_count": 24,
   "id": "a8e7676c-ec53-471c-a7df-2ae189253328",
   "metadata": {},
   "outputs": [
    {
     "data": {
      "text/plain": [
       "{1, 2, 3}"
      ]
     },
     "execution_count": 24,
     "metadata": {},
     "output_type": "execute_result"
    }
   ],
   "source": [
    "b= set([1, 2, 3, 3, 3, 3])\n",
    "b"
   ]
  },
  {
   "cell_type": "code",
   "execution_count": 25,
   "id": "20b73cd5-2e3c-4095-98a4-a07c62a4725a",
   "metadata": {},
   "outputs": [
    {
     "data": {
      "text/plain": [
       "{1, 2, 3, 4}"
      ]
     },
     "execution_count": 25,
     "metadata": {},
     "output_type": "execute_result"
    }
   ],
   "source": [
    "# 추가하기\n",
    "a.add(4)\n",
    "a"
   ]
  },
  {
   "cell_type": "code",
   "execution_count": 26,
   "id": "82415eaa-5ef4-4ef4-bf7b-56d7c0652035",
   "metadata": {},
   "outputs": [
    {
     "data": {
      "text/plain": [
       "{1, 2, 3}"
      ]
     },
     "execution_count": 26,
     "metadata": {},
     "output_type": "execute_result"
    }
   ],
   "source": [
    "#삭제\n",
    "a.remove(4)\n",
    "a"
   ]
  },
  {
   "cell_type": "code",
   "execution_count": 27,
   "id": "7f21a612-5b20-4a74-aacf-802e89397762",
   "metadata": {},
   "outputs": [
    {
     "data": {
      "text/plain": [
       "{1, 2}"
      ]
     },
     "execution_count": 27,
     "metadata": {},
     "output_type": "execute_result"
    }
   ],
   "source": [
    "a.discard(3)\n",
    "a"
   ]
  },
  {
   "cell_type": "code",
   "execution_count": 28,
   "id": "ad617e4e-dc71-45c5-850f-a82d910fd112",
   "metadata": {},
   "outputs": [
    {
     "name": "stdout",
     "output_type": "stream",
     "text": [
      "martini\n",
      "black russian\n",
      "white russian\n",
      "screwdriver\n"
     ]
    },
    {
     "data": {
      "text/plain": [
       "{'black russian', 'martini', 'screwdriver', 'white russian'}"
      ]
     },
     "execution_count": 28,
     "metadata": {},
     "output_type": "execute_result"
    }
   ],
   "source": [
    "drinks = {\n",
    "    'martini': {'vodka', 'vermouth'},\n",
    "    'black russian': {'vodka', 'kahlua'},\n",
    "    'white russian': {'vodka', 'kahlua', 'vodka'},\n",
    "    'mahattan': {'rye', 'vermouth', 'bitters'},\n",
    "    'screwdriver': {'orange juice', 'vodka'}\n",
    "}\n",
    "\n",
    "# vodka가 있는 키 골라내기 (출력)\n",
    "for k, v in drinks.items():\n",
    "    if 'vodka' in v:\n",
    "        print(k)\n",
    "\n",
    "#2. 보드카는 있늗네 크림이나 버무스가 있으면 프리트하지 않기\n",
    "{k for k, v in drinks.items() if 'vodka' in v and 'cream' not in v or 'vermouth' not in v}"
   ]
  },
  {
   "cell_type": "code",
   "execution_count": 29,
   "id": "f68ff365-0ca6-48c7-880c-b95a4c0c603f",
   "metadata": {},
   "outputs": [
    {
     "data": {
      "text/plain": [
       "{4}"
      ]
     },
     "execution_count": 29,
     "metadata": {},
     "output_type": "execute_result"
    }
   ],
   "source": [
    "a = {1, 2, 3}\n",
    "b = {2, 3, 4}\n",
    "\n",
    "# 교집합: intersection\n",
    "a.intersection(b) # a & b\n",
    "\n",
    "# 합집합: uinon\n",
    "a.union(b) # a | b\n",
    "\n",
    "# 차집합: difference\n",
    "a.difference(b) # a - b\n",
    "b - a\n",
    "{4}"
   ]
  },
  {
   "cell_type": "code",
   "execution_count": 30,
   "id": "87c8f001-dbdc-4604-ad78-cd8e93c339a5",
   "metadata": {},
   "outputs": [
    {
     "data": {
      "text/plain": [
       "{1, 2, 3}"
      ]
     },
     "execution_count": 30,
     "metadata": {},
     "output_type": "execute_result"
    }
   ],
   "source": [
    "# comprehension\n",
    "{s for s in a}"
   ]
  },
  {
   "cell_type": "code",
   "execution_count": 31,
   "id": "a334e8a9-bb10-456e-a34c-130834c9fcf5",
   "metadata": {},
   "outputs": [
    {
     "data": {
      "text/plain": [
       "frozenset({1, 2, 3})"
      ]
     },
     "execution_count": 31,
     "metadata": {},
     "output_type": "execute_result"
    }
   ],
   "source": [
    "# frozenset\n",
    "fs = frozenset([1, 2, 3])\n",
    "fs"
   ]
  },
  {
   "cell_type": "code",
   "execution_count": null,
   "id": "931f4e22-486a-498b-93e6-6ee9b0ac9318",
   "metadata": {},
   "outputs": [],
   "source": []
  }
 ],
 "metadata": {
  "kernelspec": {
   "display_name": "Python 3 (ipykernel)",
   "language": "python",
   "name": "python3"
  },
  "language_info": {
   "codemirror_mode": {
    "name": "ipython",
    "version": 3
   },
   "file_extension": ".py",
   "mimetype": "text/x-python",
   "name": "python",
   "nbconvert_exporter": "python",
   "pygments_lexer": "ipython3",
   "version": "3.9.7"
  }
 },
 "nbformat": 4,
 "nbformat_minor": 5
}
