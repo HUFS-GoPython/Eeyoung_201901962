{
 "cells": [
  {
   "cell_type": "markdown",
   "id": "82baee16-9d25-4d63-aa26-80a25e4ea3df",
   "metadata": {},
   "source": [
    "## 고급파이썬프로그래밍"
   ]
  },
  {
   "cell_type": "markdown",
   "id": "e0d884ef-1406-4714-8fe8-f1f3bed3f2d2",
   "metadata": {},
   "source": [
    "### 프로그래밍이란?\n",
    "- programming : 프로그래밍 언어를 사용하여 프로그램을 개발하는 것\n",
    "- program  일련의 작업을 자동화하는 것.\n",
    "- python: 프로그래밍 언어 중 하나, 인간이 컴퓨터에게 작업을 명령하기 위해 사용하는 컴퓨터가 이해할 수 있는 언어"
   ]
  },
  {
   "cell_type": "markdown",
   "id": "10710f5c-25a7-4dd0-ad40-877713138bde",
   "metadata": {},
   "source": [
    "## chapter2. Data: Types, Values, Variables, and Names"
   ]
  },
  {
   "cell_type": "code",
   "execution_count": 2,
   "id": "1f5afa03-29ad-44b7-a9bc-5dc98dd16d88",
   "metadata": {},
   "outputs": [],
   "source": [
    "a = 2"
   ]
  },
  {
   "cell_type": "markdown",
   "id": "90950ed9-debc-440e-bccc-820c9c8d6f70",
   "metadata": {
    "tags": []
   },
   "source": [
    "- markdowm = m+\n",
    "- 변수 | variable (i.e. a): 특정 값을 저장하는 공간\n",
    "- 값 | value: 2\n",
    "- 자료형 | type: 2가 어떤 타입인가? 데이터의 형태, integer(int타입)\n",
    "- 할당하다 | assign: 2를 a에 넣는 과정"
   ]
  },
  {
   "cell_type": "code",
   "execution_count": 4,
   "id": "6e81f283-5307-440d-a96d-7886927ffb2e",
   "metadata": {},
   "outputs": [
    {
     "name": "stdout",
     "output_type": "stream",
     "text": [
      "2\n"
     ]
    }
   ],
   "source": [
    "print(a)"
   ]
  },
  {
   "cell_type": "markdown",
   "id": "4123a059-dcb4-44e5-9ee8-228365b0ee6f",
   "metadata": {
    "tags": []
   },
   "source": [
    "### 변수의 타입\n",
    "- boolean 불리언: True, False('bool')\n",
    "- integer 정수 ('int')\n",
    "- floating point number 부동소수점: 1.0, 2.0, 0.45, ... ('float')\n",
    "- string 문자열: \"apple\" ('str')"
   ]
  },
  {
   "cell_type": "code",
   "execution_count": 4,
   "id": "d5e5bf39-907a-4c4f-bdb6-4c91da69a073",
   "metadata": {},
   "outputs": [
    {
     "name": "stdout",
     "output_type": "stream",
     "text": [
      "4\n"
     ]
    }
   ],
   "source": [
    "num = 4\n",
    "print(num)"
   ]
  },
  {
   "cell_type": "code",
   "execution_count": 5,
   "id": "f06fb817-4a5c-4819-a4f2-25cc08ede494",
   "metadata": {},
   "outputs": [
    {
     "data": {
      "text/plain": [
       "int"
      ]
     },
     "execution_count": 5,
     "metadata": {},
     "output_type": "execute_result"
    }
   ],
   "source": [
    "type(num)"
   ]
  },
  {
   "cell_type": "code",
   "execution_count": 6,
   "id": "d2dfbfc4-24ff-41dd-b169-d126f543357c",
   "metadata": {},
   "outputs": [
    {
     "data": {
      "text/plain": [
       "bool"
      ]
     },
     "execution_count": 6,
     "metadata": {},
     "output_type": "execute_result"
    }
   ],
   "source": [
    "type(a==2)"
   ]
  },
  {
   "cell_type": "code",
   "execution_count": 7,
   "id": "ed39277d-85ee-4dd9-b5bf-03846fe8bd54",
   "metadata": {},
   "outputs": [
    {
     "name": "stdout",
     "output_type": "stream",
     "text": [
      "my name\n"
     ]
    }
   ],
   "source": [
    "name = 'my name'\n",
    "print(name)"
   ]
  },
  {
   "cell_type": "code",
   "execution_count": 8,
   "id": "25132c87-d325-4b70-ae57-14d928ad5997",
   "metadata": {},
   "outputs": [
    {
     "data": {
      "text/plain": [
       "str"
      ]
     },
     "execution_count": 8,
     "metadata": {},
     "output_type": "execute_result"
    }
   ],
   "source": [
    "type(name)"
   ]
  },
  {
   "cell_type": "code",
   "execution_count": 9,
   "id": "d247d6bc-55d6-40af-9fd1-b86c0f98e4b9",
   "metadata": {},
   "outputs": [
    {
     "name": "stdout",
     "output_type": "stream",
     "text": [
      "I'am Sam.\n",
      "I'am Sam.\n"
     ]
    }
   ],
   "source": [
    "#single quote 안에 single quote를 문자로 인식하는 방법\n",
    "# 'I'am Sam.'\n",
    "\n",
    "#1. \\사용\n",
    "print('I\\'am Sam.')\n",
    "#2. \" 사용\n",
    "print(\"I'am Sam.\")"
   ]
  },
  {
   "cell_type": "markdown",
   "id": "061ce7f6-3354-4858-8d2a-02c4bd632991",
   "metadata": {},
   "source": [
    "### 변수명 정하기\n",
    "- 소문자, 대문자, 숫자, 언더바(_) 사용\n",
    "    -예: 'name', 'my_name', 'name3'\n",
    "    - 불가능한 예: 'my-name', '3name'\n",
    "- 변수명으로 사용할 수 없는 케이스\n",
    "    1. 숫자로 시작할 수 없다.\n",
    "    2. 예약어는 사용할 수 없다.\n",
    "- 주의할 점(특별한 용도가 있어서 일반적으로 사용하지 않는 변수명 타입)\n",
    "    1. 언더바로 시작하는 변수명\n",
    "        예: _name\n",
    "    2. 언더바가 2개 있는 변수명\n",
    "        예: _name_\n",
    "    3. 대문자로 시작하는 변수명\n",
    "        예: Car\n",
    "    4. 전체가 대문자인 변수명\n",
    "        예: CAR\n",
    "    변수명을 설정하는 것이 중요!\n",
    "    변수명을 성의없게 지정해서 "
   ]
  },
  {
   "cell_type": "code",
   "execution_count": 11,
   "id": "755ac83e-a4be-456a-bde5-ac1183083f19",
   "metadata": {},
   "outputs": [
    {
     "ename": "SyntaxError",
     "evalue": "invalid syntax (Temp/ipykernel_7976/195060797.py, line 1)",
     "output_type": "error",
     "traceback": [
      "\u001b[1;36m  File \u001b[1;32m\"C:\\Users\\82109\\AppData\\Local\\Temp/ipykernel_7976/195060797.py\"\u001b[1;36m, line \u001b[1;32m1\u001b[0m\n\u001b[1;33m    3name = 'myname'\u001b[0m\n\u001b[1;37m     ^\u001b[0m\n\u001b[1;31mSyntaxError\u001b[0m\u001b[1;31m:\u001b[0m invalid syntax\n"
     ]
    }
   ],
   "source": [
    "3name = 'myname' "
   ]
  },
  {
   "cell_type": "code",
   "execution_count": 12,
   "id": "b61315c8-b03c-4a69-bf98-1b9d67e071f3",
   "metadata": {},
   "outputs": [],
   "source": [
    "name = 'myname'"
   ]
  },
  {
   "cell_type": "code",
   "execution_count": 13,
   "id": "7da6ff00-07a3-4c7d-a119-e47334cbf329",
   "metadata": {},
   "outputs": [
    {
     "ename": "SyntaxError",
     "evalue": "invalid syntax (Temp/ipykernel_7976/2142866996.py, line 1)",
     "output_type": "error",
     "traceback": [
      "\u001b[1;36m  File \u001b[1;32m\"C:\\Users\\82109\\AppData\\Local\\Temp/ipykernel_7976/2142866996.py\"\u001b[1;36m, line \u001b[1;32m1\u001b[0m\n\u001b[1;33m    def = 'myname'\u001b[0m\n\u001b[1;37m        ^\u001b[0m\n\u001b[1;31mSyntaxError\u001b[0m\u001b[1;31m:\u001b[0m invalid syntax\n"
     ]
    }
   ],
   "source": [
    "def = 'myname'"
   ]
  },
  {
   "cell_type": "code",
   "execution_count": 14,
   "id": "25b13e45-7087-4b93-a664-f5cb9aa464d6",
   "metadata": {},
   "outputs": [],
   "source": [
    "car = 'hyndai'"
   ]
  },
  {
   "cell_type": "markdown",
   "id": "e15220ee-3d1d-4e49-b0ae-40b028c6af50",
   "metadata": {},
   "source": [
    "## 할당\n",
    "- = 기호를 사용한다.\n",
    "- 수학에서는 '양변이 같다'라는 의미로 사용되지만, 프로그래밍에서는 '할당하다'라는 의미가 추가된다.\n",
    "- 오른쪽의 값을 왼쪽에 할당한다"
   ]
  },
  {
   "cell_type": "code",
   "execution_count": null,
   "id": "42ee3465-d395-4d6d-878d-acb93c84e35e",
   "metadata": {},
   "outputs": [],
   "source": []
  }
 ],
 "metadata": {
  "kernelspec": {
   "display_name": "Python 3 (ipykernel)",
   "language": "python",
   "name": "python3"
  },
  "language_info": {
   "codemirror_mode": {
    "name": "ipython",
    "version": 3
   },
   "file_extension": ".py",
   "mimetype": "text/x-python",
   "name": "python",
   "nbconvert_exporter": "python",
   "pygments_lexer": "ipython3",
   "version": "3.9.7"
  }
 },
 "nbformat": 4,
 "nbformat_minor": 5
}
