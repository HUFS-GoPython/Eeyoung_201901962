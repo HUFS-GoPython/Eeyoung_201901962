{
 "cells": [
  {
   "cell_type": "markdown",
   "id": "a619cbc5-4537-40e8-b73c-9fb7273325b8",
   "metadata": {},
   "source": [
    "## week 7\n",
    "### 함수"
   ]
  },
  {
   "cell_type": "markdown",
   "id": "0d7fb0cc-47ad-4b4e-a4c3-79e7d9c6e6cd",
   "metadata": {},
   "source": [
    "#### 1. 정의\n",
    "    - 코드의 덩어리, 묶음\n",
    "    - 코드의 재사용이 주된 목적(한 줄로 코드를 편리하게 재사용할 수 있음)\n",
    "    - 정의하기(define) -> 호출하기(call)\n",
    "    - 구조 정의하기\n",
    "        def 함수이름(매개변수1, 2, 3 ...)(define):\n",
    "            수행문1\n",
    "            수행문2\n",
    "            ....\n",
    "            return 출력값\n",
    "        <호출하기>\n",
    "        함수이름(인수1, 2, 3,...)\n",
    "        \n",
    "    - '인터페이스'를 직관적으로 설계하면 함수 내부의 구조를 알지 못해도 함수를 편리하게 사용가능\n",
    "    - 우리가 알고 있는 함수 y = x + 2\n",
    "        - x가 매개변수, y가 출력값\n",
    "2. 이름 짓는 법\n",
    "    - 소문자 사용\n",
    "    - 카멜 표기법 가능\n",
    "        - nameFunction - 첫글자는 소문자, 이어지는 단어는 대문자로 시작(주로 java에서 사용)\n",
    "    - 파이썬은 스네이크 표기법을 더 선호\n",
    "        - name_function - 글자는 모두 소문자, 띄어쓰기가 필요하다면 언더바\n",
    "    - 동사 + 명사의 형태\n",
    "        - print_out, save_model, split_text\n",
    "    - 줄임말 쓰지 말기(calc와 같이 보편적이면 가능)\n",
    "    - 함수명은 다른 사람이 쉽게 기능을 파악할 수 있도록 간단하고 명료하게\n",
    "    "
   ]
  },
  {
   "cell_type": "code",
   "execution_count": 1,
   "id": "6ac79ec5-4973-419e-9e74-d6543df7a1b8",
   "metadata": {},
   "outputs": [
    {
     "data": {
      "text/plain": [
       "'\\ndef split():\\n    ~~~\\n    return\\n'"
      ]
     },
     "execution_count": 1,
     "metadata": {},
     "output_type": "execute_result"
    }
   ],
   "source": [
    "# 파이썬 내장함수도 이러한 형식을 취함\n",
    "\n",
    "'''\n",
    "def split():\n",
    "    ~~~\n",
    "    return\n",
    "'''"
   ]
  },
  {
   "cell_type": "code",
   "execution_count": 2,
   "id": "baaa5e72-87fd-47d7-9cc9-ff1292699b47",
   "metadata": {},
   "outputs": [
    {
     "name": "stdout",
     "output_type": "stream",
     "text": [
      "quack\n"
     ]
    }
   ],
   "source": [
    "#입력과 반환값이 모두 없는 함수\n",
    "def make_a_sound():\n",
    "    print('quack')\n",
    "    \n",
    "make_a_sound()"
   ]
  },
  {
   "cell_type": "code",
   "execution_count": 3,
   "id": "7aec81cf-2ebf-47ce-b1c9-69f26e624ea3",
   "metadata": {},
   "outputs": [
    {
     "name": "stdout",
     "output_type": "stream",
     "text": [
      "True\n"
     ]
    }
   ],
   "source": [
    "# 입력 없고 반환값 있는 함수\n",
    "def agree():\n",
    "    return True\n",
    "\n",
    "if agree():\n",
    "    print('True')\n",
    "else:\n",
    "    print('False')"
   ]
  },
  {
   "cell_type": "code",
   "execution_count": 4,
   "id": "bbc0cf7d-f465-4e97-a2b0-7ed50a785afd",
   "metadata": {},
   "outputs": [
    {
     "name": "stdout",
     "output_type": "stream",
     "text": [
      "hello hello\n"
     ]
    }
   ],
   "source": [
    "# 입력 있고 반환값 없는 함수\n",
    "def echo(anything):\n",
    "    print('{0} {0}'.format(anything))\n",
    "\n",
    "echo('hello')"
   ]
  },
  {
   "cell_type": "code",
   "execution_count": 5,
   "id": "20468e37-720c-41b7-bc1c-a90c9a7018c8",
   "metadata": {},
   "outputs": [
    {
     "name": "stdout",
     "output_type": "stream",
     "text": [
      "hello hello\n",
      "None\n"
     ]
    }
   ],
   "source": [
    "echo = echo('hello')\n",
    "print(echo)"
   ]
  },
  {
   "cell_type": "code",
   "execution_count": 9,
   "id": "c0bb7b81-c54a-487a-97ea-8f2b0a9a0a81",
   "metadata": {},
   "outputs": [
    {
     "name": "stdout",
     "output_type": "stream",
     "text": [
      "hello hello\n"
     ]
    }
   ],
   "source": [
    "# 입력과 반환이 모두 있는 함수\n",
    "def echo(anything):\n",
    "    return '{0} {0}'.format(anything)\n",
    "\n",
    "echo = echo('hello')\n",
    "print(echo)"
   ]
  },
  {
   "cell_type": "code",
   "execution_count": null,
   "id": "72ec0fe9-8852-4629-8ce3-be5fdd4b8671",
   "metadata": {},
   "outputs": [],
   "source": [
    "1. 인수와 매개변수\n",
    "    - 매개변수: 함수를 정의할 때 사용\n",
    "        - 인터페이스 내(함수 내부)에서만 유효한 변수\n",
    "    - 인수: 호출할 때 사용\n",
    "    - 함수 호출 시 인수에 할당된 값이 매개변수에 복제됨\n",
    "        - line(인수) = 'hello'\n",
    "        - anything(매개변수) = line\n",
    "        - anything은 사라짐\n",
    "    - 위치 인수\n",
    "        - positional argument\n",
    "        - 값을 순서대로 상응하는 매개변수에 복사하는 값\n",
    "    - 키워드 인수 \n",
    "        - keyword argument\n",
    "        - 매개변수에 상응하는 이름을 인수에 저장\n",
    "        - 위치는 달라도됨\n",
    "    - 디폴트 인수\n",
    "        - default aurgument\n",
    "        - 정의할 때 매개변수의 기본값을 설정\n",
    "        - 호출 시 인수가 없으면 기본값 적용\n",
    "        "
   ]
  },
  {
   "cell_type": "code",
   "execution_count": 10,
   "id": "92f25f65-ce60-4d83-bf00-4cd8bbd7f284",
   "metadata": {},
   "outputs": [
    {
     "name": "stdout",
     "output_type": "stream",
     "text": [
      "even\n"
     ]
    }
   ],
   "source": [
    "def check_number(number):\n",
    "    if number%2 == 0:\n",
    "        return 'even'\n",
    "    else:\n",
    "        return 'odd'\n",
    "    \n",
    "n = 4\n",
    "print(check_number(n))"
   ]
  },
  {
   "cell_type": "code",
   "execution_count": 11,
   "id": "5d9abb25-e05f-4494-8565-373baebbc66a",
   "metadata": {},
   "outputs": [
    {
     "ename": "NameError",
     "evalue": "name 'number' is not defined",
     "output_type": "error",
     "traceback": [
      "\u001b[1;31m---------------------------------------------------------------------------\u001b[0m",
      "\u001b[1;31mNameError\u001b[0m                                 Traceback (most recent call last)",
      "\u001b[1;32m~\\AppData\\Local\\Temp/ipykernel_11156/3707508766.py\u001b[0m in \u001b[0;36m<module>\u001b[1;34m\u001b[0m\n\u001b[1;32m----> 1\u001b[1;33m \u001b[0mnumber\u001b[0m\u001b[1;33m\u001b[0m\u001b[1;33m\u001b[0m\u001b[0m\n\u001b[0m",
      "\u001b[1;31mNameError\u001b[0m: name 'number' is not defined"
     ]
    }
   ],
   "source": [
    "number # 매개변수는 함수 내에서만 유효함고 밖에서는 사용불가"
   ]
  },
  {
   "cell_type": "code",
   "execution_count": 12,
   "id": "fe1d3614-fcca-445e-a5a0-40e9882e110a",
   "metadata": {},
   "outputs": [
    {
     "name": "stdout",
     "output_type": "stream",
     "text": [
      "even\n",
      "odd\n",
      "even\n"
     ]
    }
   ],
   "source": [
    "number = [2, 11, 4]\n",
    "for n in number:\n",
    "    print(check_number(n))"
   ]
  },
  {
   "cell_type": "code",
   "execution_count": 15,
   "id": "92f169e2-8d3d-4149-9251-ef7c090c2129",
   "metadata": {},
   "outputs": [
    {
     "data": {
      "text/plain": [
       "{'wine': 'rioja', 'entree': 'cake', 'dessert': 'egg'}"
      ]
     },
     "execution_count": 15,
     "metadata": {},
     "output_type": "execute_result"
    }
   ],
   "source": [
    "# 위치 인수\n",
    "# 인수를 순서대로 매개변수에 복사함\n",
    "def menu(wine, entree, dessert):\n",
    "    return {'wine':wine, 'entree':entree, 'dessert':dessert}\n",
    "\n",
    "menu('rioja', 'cake', 'egg')"
   ]
  },
  {
   "cell_type": "code",
   "execution_count": 16,
   "id": "38f45aa0-2d50-4a8c-ad85-47a7bac3b609",
   "metadata": {},
   "outputs": [
    {
     "data": {
      "text/plain": [
       "{'wine': 'rioja', 'entree': 'egg', 'dessert': 'pancake'}"
      ]
     },
     "execution_count": 16,
     "metadata": {},
     "output_type": "execute_result"
    }
   ],
   "source": [
    "#키워드 인수\n",
    "#어떤 인수가 어떤 매개변수에 복사될 것인지 지정\n",
    "menu(entree='egg', wine='rioja', dessert='pancake')"
   ]
  },
  {
   "cell_type": "code",
   "execution_count": 17,
   "id": "775cd8be-f5bb-4a95-90d5-a0375bc117d8",
   "metadata": {},
   "outputs": [
    {
     "data": {
      "text/plain": [
       "{'wine': 'egg', 'entree': 'rioja', 'dessert': 'pancake'}"
      ]
     },
     "execution_count": 17,
     "metadata": {},
     "output_type": "execute_result"
    }
   ],
   "source": [
    "menu('egg', 'rioja', dessert='pancake')"
   ]
  },
  {
   "cell_type": "code",
   "execution_count": 18,
   "id": "0ec84b3c-54f5-4f5a-8ac0-e6296274dede",
   "metadata": {},
   "outputs": [
    {
     "data": {
      "text/plain": [
       "{'wine': 'rioja', 'entree': 'cake', 'dessert': 'scone'}"
      ]
     },
     "execution_count": 18,
     "metadata": {},
     "output_type": "execute_result"
    }
   ],
   "source": [
    "#디폴트 인수\n",
    "#인수가 없을 경우 미리 설정된 디폴트 값을 적용함\n",
    "#매개변수에 기본값을 정의할 때 해당 변수는 반드시 가장 마지막에 있어야함\n",
    "def menu2(wine, entree, dessert='scone'): #dessert에 값이 없을 경우 기본값인 scone을 적용\n",
    "    return {'wine':wine, 'entree':entree, 'dessert':dessert}\n",
    "\n",
    "menu2('rioja', 'cake')"
   ]
  },
  {
   "cell_type": "code",
   "execution_count": 19,
   "id": "994783e9-9ca6-45c7-9f01-f12e4c0862e6",
   "metadata": {},
   "outputs": [
    {
     "data": {
      "text/plain": [
       "{'wine': 'rioja', 'entree': 'cake', 'dessert': 'egg'}"
      ]
     },
     "execution_count": 19,
     "metadata": {},
     "output_type": "execute_result"
    }
   ],
   "source": [
    "menu2('rioja', 'cake', 'egg') #값이 있을 때는 해당 값을 적용"
   ]
  },
  {
   "cell_type": "markdown",
   "id": "85b323bd-0e31-475d-bb94-9b694f50a20e",
   "metadata": {},
   "source": [
    "#### 연습\n",
    "- 나이 -> 연도\n",
    "    def fx():\n",
    "        입력값 = 나이\n",
    "        반환값 = 출생년도\n",
    "    - input 입력 받아서 함수 사용해서 출력하기"
   ]
  },
  {
   "cell_type": "code",
   "execution_count": 20,
   "id": "cc68d4aa-fba8-465a-bba9-d1b06bcc5565",
   "metadata": {},
   "outputs": [
    {
     "name": "stdin",
     "output_type": "stream",
     "text": [
      " 4\n"
     ]
    },
    {
     "data": {
      "text/plain": [
       "2019"
      ]
     },
     "execution_count": 20,
     "metadata": {},
     "output_type": "execute_result"
    }
   ],
   "source": [
    "\n",
    "def calc_birth_year(years_old):\n",
    "    this_year = 2022\n",
    "    born_year = this_year - years_old + 1\n",
    "    return born_year\n",
    "\n",
    "age = int(input())\n",
    "calc_birth_year(age)\n",
    "    "
   ]
  },
  {
   "cell_type": "markdown",
   "id": "8d3ad933-60ba-48ef-8c69-b72881b98840",
   "metadata": {},
   "source": [
    "#### 연습 \n",
    "- 사각형 너비 구하기\n",
    "    - 입력: 두 변 길이\n",
    "    - 반환: str '- cm'\n"
   ]
  },
  {
   "cell_type": "code",
   "execution_count": 21,
   "id": "a2ffe217-bc69-4a8b-9904-2086597a2c09",
   "metadata": {},
   "outputs": [
    {
     "name": "stdin",
     "output_type": "stream",
     "text": [
      " 5\n",
      " 5\n"
     ]
    },
    {
     "data": {
      "text/plain": [
       "'25.0cm'"
      ]
     },
     "execution_count": 21,
     "metadata": {},
     "output_type": "execute_result"
    }
   ],
   "source": [
    "def calc_square_area(side1, side2):\n",
    "    area = side1 * side2\n",
    "    return f'{area}cm'\n",
    "    \n",
    "square1 = float(input())\n",
    "square2 = float(input())\n",
    "calc_square_area(square1, square2)"
   ]
  },
  {
   "cell_type": "code",
   "execution_count": null,
   "id": "3d961f19-6a52-4383-9872-cb4378150d69",
   "metadata": {},
   "outputs": [],
   "source": [
    "### 함수 호출\n",
    "    - 정의된 부분이 메모리에 업로드 되지만 실행은 안 된다.\n",
    "    - 실행은 함수 호출 시 수행\n",
    "    - 값을 넘기는 방식: 참조에 의한 호출(call by reference) 메모리 주소\n",
    "    - 메모리 주소가 복사되기 때문에 가변객체가 매개변수로 들어갈 때 주의할 것\n",
    "    "
   ]
  },
  {
   "cell_type": "code",
   "execution_count": 22,
   "id": "b67cdebd-472a-46ee-9ec5-e83daf1c24e0",
   "metadata": {},
   "outputs": [
    {
     "name": "stdout",
     "output_type": "stream",
     "text": [
      "2\n",
      "3\n",
      "1\n",
      "4\n"
     ]
    }
   ],
   "source": [
    "#함수가 포함된 코드의 실행 순서 2-> 3-> 1-> 4\n",
    "def calc_area(length, width): #정의\n",
    "    print('1')\n",
    "    return length, width\n",
    "\n",
    "print('2')\n",
    "garo = 2\n",
    "sero = 43\n",
    "print('3')\n",
    "calc_area(garo, sero) #호출\n",
    "print('4')"
   ]
  },
  {
   "cell_type": "code",
   "execution_count": 23,
   "id": "5ef87d59-b7b5-453d-8966-f12b9597afab",
   "metadata": {},
   "outputs": [
    {
     "name": "stdout",
     "output_type": "stream",
     "text": [
      "['a']\n",
      "['a', 'b']\n"
     ]
    }
   ],
   "source": [
    "def buggy(arg, result = []):\n",
    "    reult = [] #여기서 비우지 않으면 계속 쌓임\n",
    "    result.append(arg)\n",
    "    print(result)\n",
    "\n",
    "buggy('a')\n",
    "buggy('b')"
   ]
  },
  {
   "cell_type": "code",
   "execution_count": null,
   "id": "9b3d2ce8-18e1-44c1-9a5d-91c062573da9",
   "metadata": {},
   "outputs": [],
   "source": [
    "def buggy2(arg, result=[]):\n",
    "    result = [] #list를 초기화하려면 본격적으로 실행하기 전 비우는 과정이 필요\n",
    "    result.append(arg)\n",
    "    print(result)\n",
    "    \n",
    "buggy2('a')\n",
    "buggy2('b')"
   ]
  },
  {
   "cell_type": "code",
   "execution_count": 24,
   "id": "03503943-b72d-4d97-b324-b4bfb0a5779c",
   "metadata": {},
   "outputs": [
    {
     "name": "stdout",
     "output_type": "stream",
     "text": [
      "[2, 3] eggs\n",
      "[0, 1] ham\n"
     ]
    }
   ],
   "source": [
    "def spam(eggs):\n",
    "    eggs.append(1)\n",
    "    eggs = [2, 3]\n",
    "    print(eggs, 'eggs')\n",
    "\n",
    "ham = [0]\n",
    "spam(ham)\n",
    "print(ham, 'ham')"
   ]
  },
  {
   "cell_type": "code",
   "execution_count": 23,
   "id": "174910fe-41a2-4fac-8517-c573d1988aaa",
   "metadata": {},
   "outputs": [
    {
     "name": "stdout",
     "output_type": "stream",
     "text": [
      "a\n"
     ]
    }
   ],
   "source": [
    "thing = None\n",
    "if thing is None:\n",
    "    print('a')\n",
    "elif thing:\n",
    "    print('b')\n",
    "else:\n",
    "    print('c')"
   ]
  },
  {
   "cell_type": "code",
   "execution_count": 33,
   "id": "67722c8c-f8d0-443a-a0b3-c926e0dfc58e",
   "metadata": {},
   "outputs": [
    {
     "data": {
      "text/plain": [
       "[2, 5]"
      ]
     },
     "execution_count": 33,
     "metadata": {},
     "output_type": "execute_result"
    }
   ],
   "source": [
    "# result가 None이면 빈 리스트를, 그렇지 않을 경우 result를 그대로 사용하는 함수\n",
    "def nonbuggy(arg, result = None):\n",
    "    if result is None:\n",
    "        result = []\n",
    "        result.append(arg)\n",
    "        return result\n",
    "    else:\n",
    "        result.append(arg)\n",
    "        return result\n",
    "list_a = []\n",
    "nonbuggy(1)\n",
    "nonbuggy(2, list_a)\n",
    "nonbuggy(5, list_a)"
   ]
  },
  {
   "cell_type": "code",
   "execution_count": 34,
   "id": "212569eb-7be9-47b7-bb45-fc90e9bd0a22",
   "metadata": {},
   "outputs": [
    {
     "ename": "NameError",
     "evalue": "name 'result' is not defined",
     "output_type": "error",
     "traceback": [
      "\u001b[1;31m---------------------------------------------------------------------------\u001b[0m",
      "\u001b[1;31mNameError\u001b[0m                                 Traceback (most recent call last)",
      "\u001b[1;32m~\\AppData\\Local\\Temp/ipykernel_9728/1049141082.py\u001b[0m in \u001b[0;36m<module>\u001b[1;34m\u001b[0m\n\u001b[1;32m----> 1\u001b[1;33m \u001b[0mresult\u001b[0m\u001b[1;33m\u001b[0m\u001b[1;33m\u001b[0m\u001b[0m\n\u001b[0m",
      "\u001b[1;31mNameError\u001b[0m: name 'result' is not defined"
     ]
    }
   ],
   "source": [
    "result"
   ]
  },
  {
   "cell_type": "markdown",
   "id": "85e6c11a-45b6-4274-bc2c-0f3d715f5cce",
   "metadata": {},
   "source": [
    "#### 전역분수 vs 지역변수\n",
    "- 지역변수: 함수 내에서만 사용 가능\n",
    "- 전역변수: 프로그램 전체에서 사용 가능"
   ]
  },
  {
   "cell_type": "code",
   "execution_count": 42,
   "id": "bac710cd-960d-480c-af5f-6f1beeb35b1b",
   "metadata": {},
   "outputs": [
    {
     "name": "stdout",
     "output_type": "stream",
     "text": [
      "london\n",
      "london\n",
      "seoul\n"
     ]
    }
   ],
   "source": [
    "def fx():\n",
    "    \"\"\"\n",
    "    doc string: 함수에 대한 설명\n",
    "    매개변수에 대한 설명, 타입, 함수의 의도\n",
    "    \"\"\"\n",
    "    global city\n",
    "    city = 'london'\n",
    "    print(city)\n",
    "city = 'paris'\n",
    "fx()\n",
    "print(city)\n",
    "city = 'seoul'\n",
    "print(city)"
   ]
  },
  {
   "cell_type": "code",
   "execution_count": 40,
   "id": "73dc4970-9c3a-4520-be33-e5c58f73e7bb",
   "metadata": {},
   "outputs": [
    {
     "name": "stdout",
     "output_type": "stream",
     "text": [
      "Help on function fx in module __main__:\n",
      "\n",
      "fx()\n",
      "    doc string: 함수에 대한 설명\n",
      "    매개변수에 대한 설명, 타입, 함수의 의도\n",
      "\n"
     ]
    }
   ],
   "source": [
    "# 독스트링\n",
    "help(fx)"
   ]
  },
  {
   "cell_type": "code",
   "execution_count": 25,
   "id": "5f4a3087-ab72-46a2-9ef0-a7def9f68fe1",
   "metadata": {},
   "outputs": [
    {
     "name": "stdout",
     "output_type": "stream",
     "text": [
      "in london\n",
      "out london\n"
     ]
    }
   ],
   "source": [
    "def fx2():\n",
    "    global city #city를 전역변수로 선언해주면 프로그램 전체에서 사용 가능\n",
    "    city = 'london'\n",
    "    print('in', city)\n",
    "\n",
    "city = 'paris'\n",
    "fx2()\n",
    "print('out', city)"
   ]
  },
  {
   "cell_type": "code",
   "execution_count": 26,
   "id": "3795fb9d-986d-4371-aed0-b0adfeb2daf1",
   "metadata": {},
   "outputs": [
    {
     "name": "stdout",
     "output_type": "stream",
     "text": [
      "london\n",
      "london\n"
     ]
    }
   ],
   "source": [
    "#docstring\n",
    "def fx3():\n",
    "    '''\n",
    "    doc string: 함수에 대한 설명\n",
    "    매개변수에 대한 설명, 타입, 함수의 의도\n",
    "    '''\n",
    "    global city\n",
    "    city = 'london'\n",
    "    print(city)\n",
    "\n",
    "city = 'paris'\n",
    "fx3()\n",
    "print(city)"
   ]
  },
  {
   "cell_type": "code",
   "execution_count": 27,
   "id": "af2243b2-c9c5-44de-86a2-63f3bab185e2",
   "metadata": {},
   "outputs": [
    {
     "name": "stdout",
     "output_type": "stream",
     "text": [
      "Help on function fx3 in module __main__:\n",
      "\n",
      "fx3()\n",
      "    doc string: 함수에 대한 설명\n",
      "    매개변수에 대한 설명, 타입, 함수의 의도\n",
      "\n"
     ]
    }
   ],
   "source": [
    "#docstring 확인\n",
    "#help(<함수명>)\n",
    "help(fx3)"
   ]
  },
  {
   "cell_type": "code",
   "execution_count": 28,
   "id": "0e082812-840e-45c0-ac10-3e2374970726",
   "metadata": {},
   "outputs": [
    {
     "data": {
      "text/plain": [
       "'\\n    doc string: 함수에 대한 설명\\n    매개변수에 대한 설명, 타입, 함수의 의도\\n    '"
      ]
     },
     "execution_count": 28,
     "metadata": {},
     "output_type": "execute_result"
    }
   ],
   "source": [
    "#docstring이 문자열로 반환됨(변수에 저장할 수 있음)\n",
    "fx3.__doc__"
   ]
  },
  {
   "cell_type": "code",
   "execution_count": null,
   "id": "8769302a-c7a0-4591-b23e-80483e196a2a",
   "metadata": {},
   "outputs": [],
   "source": []
  }
 ],
 "metadata": {
  "kernelspec": {
   "display_name": "Python 3 (ipykernel)",
   "language": "python",
   "name": "python3"
  },
  "language_info": {
   "codemirror_mode": {
    "name": "ipython",
    "version": 3
   },
   "file_extension": ".py",
   "mimetype": "text/x-python",
   "name": "python",
   "nbconvert_exporter": "python",
   "pygments_lexer": "ipython3",
   "version": "3.9.7"
  }
 },
 "nbformat": 4,
 "nbformat_minor": 5
}
