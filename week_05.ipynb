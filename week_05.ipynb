{
 "cells": [
  {
   "cell_type": "markdown",
   "id": "9e7a2085-ff4b-4074-bf18-dce078094654",
   "metadata": {},
   "source": [
    "#### Quiz2 text2에서 ch로 끝나는 단어를 조건에 맞춰 출력하기\n",
    "- 중복 없애기\n",
    "- 첫 글자와 ch 남기고 가운데는 모두 -로 가려라\n",
    "- 정렬: 문자 길이로 정렬하기\n"
   ]
  },
  {
   "cell_type": "code",
   "execution_count": 10,
   "id": "385d793f-fa36-4080-ba30-ee10e5f9f445",
   "metadata": {},
   "outputs": [],
   "source": [
    "from nltk.book import *"
   ]
  },
  {
   "cell_type": "code",
   "execution_count": 15,
   "id": "c4c45083-6864-4f7b-9b8b-4d29f9a9cd84",
   "metadata": {},
   "outputs": [
    {
     "name": "stdout",
     "output_type": "stream",
     "text": [
      "['i-ch', 'e-ch', 's-ch', 'M-ch', 'r-ch', 'S-ch', 'm-ch', 'E-ch', 'b--ch', 'r--ch', 'w--ch', 't--ch', 't--ch', 'm--ch', 'M--ch', 'c--ch', 'f--ch', 'W--ch', 'c--ch', 'p--ch', 'w--ch', 'a---ch', 's---ch', 'b---ch', 'ch--ch', 's---ch', 'b---ch', 'e---ch', 's---ch', 's----ch', 's----ch', 's----ch', 'r-----ch', 'd-----ch', 'a-----ch', 'd-----ch']\n"
     ]
    }
   ],
   "source": [
    "ch_list = sorted(set([w for w in text2 if w.endswith(\"ch\")]), key=len)\n",
    "blist = [w[0] + \"-\" * (len(w)-3) + \"ch\" if w[:2] != \"ch\" else w[:2] + \"-\" * (len(w)-4) + \"ch\" for w in ch_list]\n",
    "print(blist)"
   ]
  },
  {
   "cell_type": "markdown",
   "id": "77d72d25-f28a-4e74-8239-a20aeb1ee68b",
   "metadata": {
    "tags": []
   },
   "source": [
    "## 반복문\n",
    "- for, while\n",
    "\n",
    "### while\n",
    "- 어떤 조건이 만족할 때까지 블록 수행\n",
    "- 해당 조건이 거짓이면 수행을 멈춘다\n",
    "    - 언제 빠져나오는지 정확히 알아야 한다\n",
    "- for + if\n",
    "\n",
    "#### for vs while\n",
    "- for loop: 반복 횟수 정확히 알고, 반복 횟수 변하지 않을 때\n",
    "    - 예: 전체 학생 성적 산출\n",
    "- while loop: 반복 횟수 정확하지 않고 어떤 조건을 만족시킬 때 프로그램 종료하고 싶다면 사용\n",
    "    - 예: 가위바위보를 이기면 종료"
   ]
  },
  {
   "cell_type": "code",
   "execution_count": 2,
   "id": "41110066-295b-4e41-9db4-985ecc88899e",
   "metadata": {},
   "outputs": [
    {
     "name": "stdout",
     "output_type": "stream",
     "text": [
      "0\n",
      "1\n",
      "2\n",
      "3\n",
      "4\n",
      "5\n",
      "6\n",
      "7\n",
      "8\n",
      "9\n"
     ]
    }
   ],
   "source": [
    "for i in range(10):\n",
    "    print(i)"
   ]
  },
  {
   "cell_type": "code",
   "execution_count": null,
   "id": "bc893d9b-64d9-4421-89ec-ac19c833aff7",
   "metadata": {},
   "outputs": [],
   "source": [
    "for word in text1.tokens:\n",
    "    print(word)"
   ]
  },
  {
   "cell_type": "code",
   "execution_count": 9,
   "id": "0afcf31b-5370-453e-afc6-d60255f64b12",
   "metadata": {},
   "outputs": [
    {
     "name": "stdout",
     "output_type": "stream",
     "text": [
      "0\n",
      "1\n",
      "2\n",
      "3\n",
      "4\n"
     ]
    },
    {
     "data": {
      "text/plain": [
       "5"
      ]
     },
     "execution_count": 9,
     "metadata": {},
     "output_type": "execute_result"
    }
   ],
   "source": [
    "j = 0\n",
    "while j < 5: # 0, 1, 2, 3, 4,\n",
    "    print(j) # 0, 1, 2, 3, 4\n",
    "    j += 1 # 1, 2, 3, 4, 5\n",
    "j"
   ]
  },
  {
   "cell_type": "code",
   "execution_count": 8,
   "id": "b8f91f55-0e62-43eb-a856-8c62d313b203",
   "metadata": {},
   "outputs": [
    {
     "name": "stdout",
     "output_type": "stream",
     "text": [
      "a\n",
      "b\n",
      "c\n"
     ]
    }
   ],
   "source": [
    "characters = ['a', 'b', 'c']\n",
    "for ch in characters:\n",
    "    print(ch)"
   ]
  },
  {
   "cell_type": "code",
   "execution_count": 6,
   "id": "f7ef37b4-39fd-4898-bcf9-2f920db91bf7",
   "metadata": {},
   "outputs": [
    {
     "name": "stdout",
     "output_type": "stream",
     "text": [
      "a\n",
      "b\n",
      "c\n"
     ]
    }
   ],
   "source": [
    "characters = ['a', 'b', 'c']\n",
    "cnt = 0\n",
    "while cnt < len(characters):\n",
    "    print(characters[cnt])\n",
    "    cnt += 1\n"
   ]
  },
  {
   "cell_type": "markdown",
   "id": "9563c479-1424-4729-bfa3-350466d5af0a",
   "metadata": {},
   "source": [
    "### 반복문의 제어\n",
    "- 의도치 않게 코드를 종료시킬 수 있기 때문에 되도록 사용하지 않는다\n",
    "\n",
    "- break: 논리적으로 반복을 종료시키는 방법, break 시점을 잘 알아야함\n",
    "- else: 어떤 조건이 \"완전히\" 끝났을 때 한번 더 실행하는 블록, break로 끝난 것과 구분할 수 있다\n",
    "- continue: 특정 조건을 건너뛰고 다음 조건을 수행함\n"
   ]
  },
  {
   "cell_type": "code",
   "execution_count": 17,
   "id": "341c2882-9039-412c-87e0-b1fdba336c65",
   "metadata": {},
   "outputs": [
    {
     "name": "stdout",
     "output_type": "stream",
     "text": [
      "1\n",
      "2\n",
      "3\n"
     ]
    }
   ],
   "source": [
    "j = 0\n",
    "while j < 5:\n",
    "    j += 1\n",
    "    if j == 4: break\n",
    "    print(j)"
   ]
  },
  {
   "cell_type": "code",
   "execution_count": 23,
   "id": "6939216e-c4f0-4a72-937c-cdb38e2fbb66",
   "metadata": {},
   "outputs": [
    {
     "name": "stdout",
     "output_type": "stream",
     "text": [
      "0\n",
      "1\n",
      "2\n",
      "3\n",
      "4\n",
      "5\n",
      "6\n",
      "7\n",
      "8\n",
      "9\n",
      "10\n",
      "11\n",
      "12\n",
      "13\n",
      "14\n",
      "15\n"
     ]
    }
   ],
   "source": [
    "for i in range(18):\n",
    "    if i == 16:\n",
    "        break # i가 16이 넘어가면 end 안찍고 break됨\n",
    "    print(i)  \n",
    "else:\n",
    "    print(\"ended\")"
   ]
  },
  {
   "cell_type": "code",
   "execution_count": null,
   "id": "0ab23f1c-0e37-4e67-8b1e-33ff5d9d95de",
   "metadata": {},
   "outputs": [],
   "source": [
    "### 구구단\n",
    "- 1. for, while 선택한 뒤, n단을 입력받아서 n단을 출력한다.\n",
    "    - 출력: ===3단===\n",
    "        3 x 1 = 3\n",
    "        ...\n",
    "        3 x 9 = 27\n",
    "- 2. 1 ~ n단까지 출력한다.\n",
    "- 3. 시작단, 끝단 둘다 입력받을 것\n",
    "    - 예: 4 ~ 7단\n",
    "- 4. 프로그램으로 만든다\n"
   ]
  },
  {
   "cell_type": "code",
   "execution_count": 15,
   "id": "49ed1cfa-433f-4f5b-bda2-58bbeba33a8a",
   "metadata": {},
   "outputs": [
    {
     "name": "stdin",
     "output_type": "stream",
     "text": [
      " 3\n"
     ]
    },
    {
     "name": "stdout",
     "output_type": "stream",
     "text": [
      "===3단===\n",
      "3 x 1 = 3\n",
      "3 x 2 = 6\n",
      "3 x 3 = 9\n",
      "3 x 4 = 12\n",
      "3 x 5 = 15\n",
      "3 x 6 = 18\n",
      "3 x 7 = 21\n",
      "3 x 8 = 24\n",
      "3 x 9 = 27\n"
     ]
    }
   ],
   "source": [
    "n = int(input())\n",
    "print(f'==={n}단===')\n",
    "for i in range(1, 10):\n",
    "    print(f'{n} x {i} = {n*(i)}')"
   ]
  },
  {
   "cell_type": "code",
   "execution_count": 22,
   "id": "fec149c5-6fc9-4e2f-ad0f-5ce7c77fefd5",
   "metadata": {},
   "outputs": [
    {
     "name": "stdin",
     "output_type": "stream",
     "text": [
      " 5\n"
     ]
    },
    {
     "name": "stdout",
     "output_type": "stream",
     "text": [
      "===1단===\n",
      "1 x 1 = 1\n",
      "1 x 2 = 2\n",
      "1 x 3 = 3\n",
      "1 x 4 = 4\n",
      "1 x 5 = 5\n",
      "1 x 6 = 6\n",
      "1 x 7 = 7\n",
      "1 x 8 = 8\n",
      "1 x 9 = 9\n",
      "===2단===\n",
      "2 x 1 = 2\n",
      "2 x 2 = 4\n",
      "2 x 3 = 6\n",
      "2 x 4 = 8\n",
      "2 x 5 = 10\n",
      "2 x 6 = 12\n",
      "2 x 7 = 14\n",
      "2 x 8 = 16\n",
      "2 x 9 = 18\n",
      "===3단===\n",
      "3 x 1 = 3\n",
      "3 x 2 = 6\n",
      "3 x 3 = 9\n",
      "3 x 4 = 12\n",
      "3 x 5 = 15\n",
      "3 x 6 = 18\n",
      "3 x 7 = 21\n",
      "3 x 8 = 24\n",
      "3 x 9 = 27\n",
      "===4단===\n",
      "4 x 1 = 4\n",
      "4 x 2 = 8\n",
      "4 x 3 = 12\n",
      "4 x 4 = 16\n",
      "4 x 5 = 20\n",
      "4 x 6 = 24\n",
      "4 x 7 = 28\n",
      "4 x 8 = 32\n",
      "4 x 9 = 36\n",
      "===5단===\n",
      "5 x 1 = 5\n",
      "5 x 2 = 10\n",
      "5 x 3 = 15\n",
      "5 x 4 = 20\n",
      "5 x 5 = 25\n",
      "5 x 6 = 30\n",
      "5 x 7 = 35\n",
      "5 x 8 = 40\n",
      "5 x 9 = 45\n"
     ]
    }
   ],
   "source": [
    "n = int(input())\n",
    "for i in range(1, n+1):\n",
    "    print(f'==={i}단===')\n",
    "    for j in range(1,10):\n",
    "        print(f'{i} x {j} = {i*j}')\n",
    "     "
   ]
  },
  {
   "cell_type": "code",
   "execution_count": 40,
   "id": "9e17a6ef-615a-4cd6-b4f0-3742f4d5d0f9",
   "metadata": {},
   "outputs": [
    {
     "name": "stdin",
     "output_type": "stream",
     "text": [
      "시작할 단을 입력하세요. 6\n",
      "끝날 단을 입력하세요. 2\n"
     ]
    },
    {
     "name": "stdout",
     "output_type": "stream",
     "text": [
      "2\n",
      "6\n",
      "===2단===\n",
      "2 x 1 = 2\n",
      "2 x 2 = 4\n",
      "2 x 3 = 6\n",
      "2 x 4 = 8\n",
      "2 x 5 = 10\n",
      "2 x 6 = 12\n",
      "2 x 7 = 14\n",
      "2 x 8 = 16\n",
      "2 x 9 = 18\n",
      "===3단===\n",
      "3 x 1 = 3\n",
      "3 x 2 = 6\n",
      "3 x 3 = 9\n",
      "3 x 4 = 12\n",
      "3 x 5 = 15\n",
      "3 x 6 = 18\n",
      "3 x 7 = 21\n",
      "3 x 8 = 24\n",
      "3 x 9 = 27\n",
      "===4단===\n",
      "4 x 1 = 4\n",
      "4 x 2 = 8\n",
      "4 x 3 = 12\n",
      "4 x 4 = 16\n",
      "4 x 5 = 20\n",
      "4 x 6 = 24\n",
      "4 x 7 = 28\n",
      "4 x 8 = 32\n",
      "4 x 9 = 36\n",
      "===5단===\n",
      "5 x 1 = 5\n",
      "5 x 2 = 10\n",
      "5 x 3 = 15\n",
      "5 x 4 = 20\n",
      "5 x 5 = 25\n",
      "5 x 6 = 30\n",
      "5 x 7 = 35\n",
      "5 x 8 = 40\n",
      "5 x 9 = 45\n",
      "===6단===\n",
      "6 x 1 = 6\n",
      "6 x 2 = 12\n",
      "6 x 3 = 18\n",
      "6 x 4 = 24\n",
      "6 x 5 = 30\n",
      "6 x 6 = 36\n",
      "6 x 7 = 42\n",
      "6 x 8 = 48\n",
      "6 x 9 = 54\n"
     ]
    }
   ],
   "source": [
    "start = int(input('시작할 단을 입력하세요.'))\n",
    "finish = int(input('끝날 단을 입력하세요.'))\n",
    "blank = start\n",
    "if start > finish:\n",
    "    start = finish\n",
    "    finish = blank\n",
    "    \n",
    "print(start)\n",
    "print(finish)\n",
    "for i in range(start, finish+1):\n",
    "    print(f'==={i}단===')\n",
    "    for j in range(1,10):\n",
    "        print(f'{i} x {j} = {i*j}')\n"
   ]
  },
  {
   "cell_type": "code",
   "execution_count": 5,
   "id": "e0c62012-2432-4a76-b8f3-de0736734bbc",
   "metadata": {},
   "outputs": [
    {
     "name": "stdin",
     "output_type": "stream",
     "text": [
      " 3\n",
      "시작할 단을 입력하세요. 6\n",
      "끝날 단을 입력하세요. 2\n"
     ]
    },
    {
     "name": "stdout",
     "output_type": "stream",
     "text": [
      "===2단===\n",
      "2 x 1 = 2\n",
      "2 x 2 = 4\n",
      "2 x 3 = 6\n",
      "2 x 4 = 8\n",
      "2 x 5 = 10\n",
      "2 x 6 = 12\n",
      "2 x 7 = 14\n",
      "2 x 8 = 16\n",
      "2 x 9 = 18\n",
      "===3단===\n",
      "3 x 1 = 3\n",
      "3 x 2 = 6\n",
      "3 x 3 = 9\n",
      "3 x 4 = 12\n",
      "3 x 5 = 15\n",
      "3 x 6 = 18\n",
      "3 x 7 = 21\n",
      "3 x 8 = 24\n",
      "3 x 9 = 27\n",
      "===4단===\n",
      "4 x 1 = 4\n",
      "4 x 2 = 8\n",
      "4 x 3 = 12\n",
      "4 x 4 = 16\n",
      "4 x 5 = 20\n",
      "4 x 6 = 24\n",
      "4 x 7 = 28\n",
      "4 x 8 = 32\n",
      "4 x 9 = 36\n",
      "===5단===\n",
      "5 x 1 = 5\n",
      "5 x 2 = 10\n",
      "5 x 3 = 15\n",
      "5 x 4 = 20\n",
      "5 x 5 = 25\n",
      "5 x 6 = 30\n",
      "5 x 7 = 35\n",
      "5 x 8 = 40\n",
      "5 x 9 = 45\n",
      "===6단===\n",
      "6 x 1 = 6\n",
      "6 x 2 = 12\n",
      "6 x 3 = 18\n",
      "6 x 4 = 24\n",
      "6 x 5 = 30\n",
      "6 x 6 = 36\n",
      "6 x 7 = 42\n",
      "6 x 8 = 48\n",
      "6 x 9 = 54\n"
     ]
    }
   ],
   "source": [
    "choice = int(input(\"원하시는 작업을 선택하시오.\"))\n",
    "if choice == 1:\n",
    "    n = int(input(\"몇 단을 출력하겠습니까?\"))\n",
    "    print(f'==={n}단===')\n",
    "    for i in range(1, 10):\n",
    "        print(f'{n} x {i} = {n*(i)}')\n",
    "elif choice == 2:\n",
    "    n = int(input(\"몇 단까지 출력하겠습니까?\"))\n",
    "    for i in range(1, n+1):\n",
    "        print(f'==={i}단===')\n",
    "        for j in range(1,10):\n",
    "            print(f'{i} x {j} = {i*j}')\n",
    "elif choice == 3:\n",
    "    start = int(input('시작할 단을 입력하세요.'))\n",
    "    finish = int(input('끝날 단을 입력하세요.'))\n",
    "    blank = start\n",
    "    if start > finish:\n",
    "        start = finish\n",
    "        finish = blank\n",
    "    for i in range(start, finish+1):\n",
    "        print(f'==={i}단===')\n",
    "        for j in range(1,10):\n",
    "            print(f'{i} x {j} = {i*j}')\n",
    "\n",
    "   \n",
    "else:\n",
    "    print('1,2,3 중에서 골라주세요.')\n",
    "    \n",
    "    \n",
    "     \n",
    "    \n",
    "    "
   ]
  },
  {
   "cell_type": "markdown",
   "id": "74211d15-7e4e-4ab7-a681-6c886477abd2",
   "metadata": {},
   "source": [
    "## NLTK: Corpus\n",
    "- 다양한 종류의 코퍼스가 있다\n",
    "\n",
    "#### 종류\n",
    "- gutenberg\n",
    "- brown\n",
    "- inaugural\n",
    "\n",
    "#### 4-1 함수\n",
    "- words(): 단어를 다룬다\n",
    "- sents(): 문장을 다룬다. 문장의 요소들이 각각 리스트의 원소들로 저장되어 있다.\n",
    "- fileids(): 해당 말뭉치의 파일 이름을 보고 싶을 떄\n",
    "- raw(): 글자 자체를 다룬다.\n",
    "\n"
   ]
  },
  {
   "cell_type": "code",
   "execution_count": 24,
   "id": "f6541a0a-fd16-4c58-b1a3-025358fb164b",
   "metadata": {},
   "outputs": [
    {
     "data": {
      "text/plain": [
       "True"
      ]
     },
     "execution_count": 24,
     "metadata": {},
     "output_type": "execute_result"
    }
   ],
   "source": [
    "import nltk\n",
    "from nltk.corpus import gutenberg\n",
    "nltk.download('gutenberg', quiet=True)"
   ]
  },
  {
   "cell_type": "code",
   "execution_count": 4,
   "id": "cfc901e9-8bd0-44bb-a6e7-7e60b867569a",
   "metadata": {},
   "outputs": [
    {
     "data": {
      "text/plain": [
       "['austen-emma.txt',\n",
       " 'austen-persuasion.txt',\n",
       " 'austen-sense.txt',\n",
       " 'bible-kjv.txt',\n",
       " 'blake-poems.txt',\n",
       " 'bryant-stories.txt',\n",
       " 'burgess-busterbrown.txt',\n",
       " 'carroll-alice.txt',\n",
       " 'chesterton-ball.txt',\n",
       " 'chesterton-brown.txt',\n",
       " 'chesterton-thursday.txt',\n",
       " 'edgeworth-parents.txt',\n",
       " 'melville-moby_dick.txt',\n",
       " 'milton-paradise.txt',\n",
       " 'shakespeare-caesar.txt',\n",
       " 'shakespeare-hamlet.txt',\n",
       " 'shakespeare-macbeth.txt',\n",
       " 'whitman-leaves.txt']"
      ]
     },
     "execution_count": 4,
     "metadata": {},
     "output_type": "execute_result"
    }
   ],
   "source": [
    "gutenberg.fileids()"
   ]
  },
  {
   "cell_type": "code",
   "execution_count": 3,
   "id": "bca3ffee-c6b4-45c6-877b-804794056099",
   "metadata": {},
   "outputs": [
    {
     "data": {
      "text/plain": [
       "['[', 'Emma', 'by', 'Jane', 'Austen', '1816', ']', ...]"
      ]
     },
     "execution_count": 3,
     "metadata": {},
     "output_type": "execute_result"
    }
   ],
   "source": [
    "gutenberg.words('austen-emma.txt')"
   ]
  },
  {
   "cell_type": "code",
   "execution_count": 5,
   "id": "9c83d548-3066-4234-81f6-b7359a25232c",
   "metadata": {},
   "outputs": [
    {
     "name": "stdout",
     "output_type": "stream",
     "text": [
      "austen-emma, 글자수 = 887071개, 단어 수 = 192427, 문장 수 = 7752\n",
      "austen-persuasion, 글자수 = 466292개, 단어 수 = 98171, 문장 수 = 3747\n",
      "austen-sense, 글자수 = 673022개, 단어 수 = 141576, 문장 수 = 4999\n",
      "bible-kjv, 글자수 = 4332554개, 단어 수 = 1010654, 문장 수 = 30103\n",
      "blake-poems, 글자수 = 38153개, 단어 수 = 8354, 문장 수 = 438\n",
      "bryant-stories, 글자수 = 249439개, 단어 수 = 55563, 문장 수 = 2863\n",
      "burgess-busterbrown, 글자수 = 84663개, 단어 수 = 18963, 문장 수 = 1054\n",
      "carroll-alice, 글자수 = 144395개, 단어 수 = 34110, 문장 수 = 1703\n",
      "chesterton-ball, 글자수 = 457450개, 단어 수 = 96996, 문장 수 = 4779\n",
      "chesterton-brown, 글자수 = 406629개, 단어 수 = 86063, 문장 수 = 3806\n",
      "chesterton-thursday, 글자수 = 320525개, 단어 수 = 69213, 문장 수 = 3742\n",
      "edgeworth-parents, 글자수 = 935158개, 단어 수 = 210663, 문장 수 = 10230\n",
      "melville-moby_dick, 글자수 = 1242990개, 단어 수 = 260819, 문장 수 = 10059\n",
      "milton-paradise, 글자수 = 468220개, 단어 수 = 96825, 문장 수 = 1851\n",
      "shakespeare-caesar, 글자수 = 112310개, 단어 수 = 25833, 문장 수 = 2163\n",
      "shakespeare-hamle, 글자수 = 162881개, 단어 수 = 37360, 문장 수 = 3106\n",
      "shakespeare-macbeth, 글자수 = 100351개, 단어 수 = 23140, 문장 수 = 1907\n",
      "whitman-leaves, 글자수 = 711215개, 단어 수 = 154883, 문장 수 = 4250\n"
     ]
    }
   ],
   "source": [
    "# 구텐버그의 각 파일을 돌아가면서 글자 수, 단어 수, 문장 수를 출력\n",
    "for txt in gutenberg.fileids():\n",
    "    name = txt.rstrip('.txt')\n",
    "    wordnum = len(gutenberg.words(txt))\n",
    "    sentnum = len(gutenberg.sents(txt))\n",
    "    letnum = len(gutenberg.raw(txt))\n",
    "    print(f'{name}, 글자수 = {letnum}개, 단어 수 = {wordnum}, 문장 수 = {sentnum}')\n",
    "    \n",
    "          \n",
    "\n",
    "    "
   ]
  },
  {
   "cell_type": "code",
   "execution_count": 34,
   "id": "9d7d97d9-a594-4ba4-996f-287a74add130",
   "metadata": {},
   "outputs": [
    {
     "name": "stdout",
     "output_type": "stream",
     "text": [
      "[<Text: Moby Dick by Herman Melville 1851>, <Text: Sense and Sensibility by Jane Austen 1811>, <Text: The Book of Genesis>, <Text: Inaugural Address Corpus>, <Text: Chat Corpus>, <Text: Monty Python and the Holy Grail>, <Text: Wall Street Journal>, <Text: Personals Corpus>, <Text: The Man Who Was Thursday by G . K . Chesterton 1908>]\n",
      "<Text: Moby Dick by Herman Melville 1851>\n"
     ]
    }
   ],
   "source": [
    "# getattr(library,name)\n",
    "# library 내부의 name이라는 멤버를 반환한다.\n",
    "# 스트링을 Atrribte화 시킬 수 있는 좋은 장점을 가지고 있다.\n",
    "\n",
    "print(texts := [getattr(nltk.book, f'text{i}') for i in range(1,10)])\n",
    "print(texts[0])"
   ]
  },
  {
   "cell_type": "code",
   "execution_count": 32,
   "id": "c82debb2-7b01-402f-ae39-126cdf40a07a",
   "metadata": {},
   "outputs": [
    {
     "data": {
      "text/plain": [
       "28"
      ]
     },
     "execution_count": 32,
     "metadata": {},
     "output_type": "execute_result"
    }
   ],
   "source": [
    "from nltk import FreqDist\n",
    "corpus1 = gutenberg.words(fileids='whitman-leaves.txt')\n",
    "fdist = nltk.FreqDist([w.lower() for w in corpus1])\n",
    "fdist['tree']"
   ]
  },
  {
   "cell_type": "markdown",
   "id": "9da636ca-68ba-4f98-8c42-8d49ed0cfb04",
   "metadata": {},
   "source": [
    "## Categories(with Brown)"
   ]
  },
  {
   "cell_type": "code",
   "execution_count": 35,
   "id": "ab467405-086a-45e6-8538-b4acd3810290",
   "metadata": {},
   "outputs": [
    {
     "name": "stderr",
     "output_type": "stream",
     "text": [
      "[nltk_data] Downloading package brown to\n",
      "[nltk_data]     C:\\Users\\82109\\AppData\\Roaming\\nltk_data...\n",
      "[nltk_data]   Package brown is already up-to-date!\n"
     ]
    }
   ],
   "source": [
    "nltk.download('brown')\n",
    "brown_corpus = nltk.corpus.brown"
   ]
  },
  {
   "cell_type": "code",
   "execution_count": 37,
   "id": "0782e9e7-421d-48a2-b0bb-5d09f9ea833f",
   "metadata": {},
   "outputs": [
    {
     "data": {
      "text/plain": [
       "['adventure',\n",
       " 'belles_lettres',\n",
       " 'editorial',\n",
       " 'fiction',\n",
       " 'government',\n",
       " 'hobbies',\n",
       " 'humor',\n",
       " 'learned',\n",
       " 'lore',\n",
       " 'mystery',\n",
       " 'news',\n",
       " 'religion',\n",
       " 'reviews',\n",
       " 'romance',\n",
       " 'science_fiction']"
      ]
     },
     "execution_count": 37,
     "metadata": {},
     "output_type": "execute_result"
    }
   ],
   "source": [
    "brown_corpus.categories()"
   ]
  },
  {
   "cell_type": "code",
   "execution_count": 39,
   "id": "22a75fe0-fb09-4476-9349-b6dc33e3c9ba",
   "metadata": {},
   "outputs": [],
   "source": [
    "humor = brown_corpus.words(categories='humor')"
   ]
  },
  {
   "cell_type": "code",
   "execution_count": 47,
   "id": "13a89fb5-53c9-47d7-940a-4754762b0225",
   "metadata": {},
   "outputs": [
    {
     "name": "stdout",
     "output_type": "stream",
     "text": [
      "can 17\n",
      "could 33\n",
      "may 8\n",
      "might 8\n",
      "will 13\n",
      "would 56\n"
     ]
    }
   ],
   "source": [
    "modals = ['can', 'could', 'may', 'might', 'will', 'would']\n",
    "\n",
    "fdist_brown = nltk.FreqDist([w.lower() for w in humor])\n",
    "\n",
    "for verb in modals:\n",
    "    print(verb, fdist_brown[verb])"
   ]
  },
  {
   "cell_type": "markdown",
   "id": "ec69cd92-063c-420a-abc8-06816eadf06e",
   "metadata": {},
   "source": [
    "## conditional frequency distribution(CFD)\n",
    "- 조건이 붙은 fdist"
   ]
  },
  {
   "cell_type": "code",
   "execution_count": 51,
   "id": "98713420-7163-45c6-a584-d198327a9e06",
   "metadata": {},
   "outputs": [
    {
     "data": {
      "text/plain": [
       "[('.', 4057),\n",
       " ('the', 3780),\n",
       " (',', 3488),\n",
       " ('and', 1706),\n",
       " ('a', 1432),\n",
       " ('of', 1327),\n",
       " ('to', 1322),\n",
       " ('he', 1283),\n",
       " ('``', 998),\n",
       " (\"''\", 995)]"
      ]
     },
     "execution_count": 51,
     "metadata": {},
     "output_type": "execute_result"
    }
   ],
   "source": [
    "cfd = nltk.ConditionalFreqDist(\n",
    "    # 장르에 따른 fdist\n",
    "    (genre, word.lower())\n",
    "    for genre in brown_corpus.categories()\n",
    "    for word in brown_corpus.words(categories=genre)\n",
    ")\n",
    "cfd['adventure'].most_common(10)"
   ]
  },
  {
   "cell_type": "code",
   "execution_count": 53,
   "id": "83c84533-5399-4d7c-8d54-4e744d31bb63",
   "metadata": {},
   "outputs": [
    {
     "name": "stdout",
     "output_type": "stream",
     "text": [
      "Collecting tabulateNote: you may need to restart the kernel to use updated packages.\n",
      "  Downloading tabulate-0.8.9-py3-none-any.whl (25 kB)\n",
      "\n",
      "Installing collected packages: tabulate\n",
      "Successfully installed tabulate-0.8.9\n"
     ]
    }
   ],
   "source": [
    "pip install tabulate"
   ]
  },
  {
   "cell_type": "code",
   "execution_count": 56,
   "id": "92ef9cf0-91a8-43fc-8603-a38ec160d02f",
   "metadata": {},
   "outputs": [
    {
     "name": "stdout",
     "output_type": "stream",
     "text": [
      "                 can could   may might  will would \n",
      "     adventure    48   154     7    59    51   194 \n",
      "belles_lettres   249   216   221   113   246   397 \n",
      "     editorial   124    57    79    39   235   185 \n",
      "       fiction    39   168    10    44    56   291 \n",
      "    government   119    38   179    13   244   120 \n"
     ]
    }
   ],
   "source": [
    "import pandas as pd\n",
    "cfd.tabulate(conditions=brown_corpus.categories()[:5], samples=modals)"
   ]
  },
  {
   "cell_type": "code",
   "execution_count": null,
   "id": "5f5c3995-d186-4d2d-9b6e-51ecdfe1f1b1",
   "metadata": {},
   "outputs": [],
   "source": []
  }
 ],
 "metadata": {
  "kernelspec": {
   "display_name": "Python 3 (ipykernel)",
   "language": "python",
   "name": "python3"
  },
  "language_info": {
   "codemirror_mode": {
    "name": "ipython",
    "version": 3
   },
   "file_extension": ".py",
   "mimetype": "text/x-python",
   "name": "python",
   "nbconvert_exporter": "python",
   "pygments_lexer": "ipython3",
   "version": "3.9.7"
  }
 },
 "nbformat": 4,
 "nbformat_minor": 5
}
