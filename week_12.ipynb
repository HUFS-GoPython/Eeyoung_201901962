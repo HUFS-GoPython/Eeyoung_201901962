{
 "cells": [
  {
   "cell_type": "markdown",
   "id": "103f0978-de37-4c08-a5eb-d3e7fdf54a2d",
   "metadata": {},
   "source": [
    "### 함수 II"
   ]
  },
  {
   "cell_type": "markdown",
   "id": "b4b19836-1420-489b-bb28-57e7a1c3b1d9",
   "metadata": {},
   "source": [
    "#### asterisk (stars) *, **"
   ]
  },
  {
   "cell_type": "code",
   "execution_count": 3,
   "id": "096b7baf-4608-41f7-8408-41c44f8ef8f5",
   "metadata": {},
   "outputs": [
    {
     "name": "stdout",
     "output_type": "stream",
     "text": [
      "hey hello hi\n"
     ]
    }
   ],
   "source": [
    "def print_arg(*args): #1 패킹\n",
    "    # 인자를 튜플로 묶어서 형용하는 역할\n",
    "    print(*args) #2 언패킹\n",
    "\n",
    "print_arg('hey', 'hello', 'hi') "
   ]
  },
  {
   "cell_type": "code",
   "execution_count": 5,
   "id": "22645a20-1e12-42de-bb54-3bffdc0af7a1",
   "metadata": {},
   "outputs": [
    {
     "name": "stdout",
     "output_type": "stream",
     "text": [
      "obligatory book\n",
      "1 2 3 4\n"
     ]
    }
   ],
   "source": [
    "def print_arg2(name, *args):\n",
    "    print('obligatory', name)\n",
    "    print(*args)\n",
    "    \n",
    "print_arg2('book', 1, 2, 3, 4)"
   ]
  },
  {
   "cell_type": "markdown",
   "id": "1dee9355-8821-4745-8fa8-74a9c54826f6",
   "metadata": {},
   "source": [
    "#### 외부에서 활용하기\n",
    "- 컬렉션 자료형 언패킹 출력시\n",
    "- zip()\n",
    "- 키워드 전용 인수 선언\n",
    "    - 별 뒤에 오는 매개변수들은 반드시 키워드 인수로 들어오도록 설정하는 역할"
   ]
  },
  {
   "cell_type": "code",
   "execution_count": 7,
   "id": "d7cb59df-5b2f-46dd-ae9d-6fb0213b24e1",
   "metadata": {},
   "outputs": [
    {
     "name": "stdout",
     "output_type": "stream",
     "text": [
      "0 1 2 3 4\n"
     ]
    }
   ],
   "source": [
    "nums = list(range(5))\n",
    "print(*nums)"
   ]
  },
  {
   "cell_type": "code",
   "execution_count": 9,
   "id": "006aeef4-5066-4215-8e12-edf739234376",
   "metadata": {},
   "outputs": [
    {
     "name": "stdout",
     "output_type": "stream",
     "text": [
      "(1, 3, 5)\n",
      "(2, 4, 6)\n"
     ]
    }
   ],
   "source": [
    "a = [\n",
    "    [1, 2],\n",
    "    [3, 4],\n",
    "    [5, 6]\n",
    "]\n",
    "\n",
    "# 1, 3, 5, 2, 4, 6\n",
    "for row in zip(*a):\n",
    "    print(row)"
   ]
  },
  {
   "cell_type": "code",
   "execution_count": 11,
   "id": "e2c67a29-d29e-4afa-996c-041a421f75b0",
   "metadata": {},
   "outputs": [
    {
     "name": "stdout",
     "output_type": "stream",
     "text": [
      "1\n",
      "2\n"
     ]
    }
   ],
   "source": [
    "def print_data(data, *, start, end): # start, end -> start=0\n",
    "    for value in data[start:end]:\n",
    "        print(value)\n",
    "        \n",
    "print_data(nums, start=1, end=3)"
   ]
  },
  {
   "cell_type": "code",
   "execution_count": 13,
   "id": "c71440d8-aaa5-46ae-93cd-ea47a8ecf894",
   "metadata": {},
   "outputs": [
    {
     "name": "stdout",
     "output_type": "stream",
     "text": [
      "{'wine': 'merlot', 'dessert': 'cake'}\n",
      "merlot is semi-sweet\n"
     ]
    }
   ],
   "source": [
    "def print_kargs(**kargs): # 딕셔너리로 묶는 기능\n",
    "    print(kargs) # 언패킹 기능이 없음 **안됨\n",
    "    # print(kargs['wine'], 'is semi-sweet') # get(key, default) 쓰면 예외가 안생긴다\n",
    "    \n",
    "print_kargs(wine='merlot', dessert='cake')"
   ]
  },
  {
   "cell_type": "code",
   "execution_count": 14,
   "id": "3e129b3f-3367-4699-80a9-5b2b042f5c43",
   "metadata": {},
   "outputs": [
    {
     "name": "stdout",
     "output_type": "stream",
     "text": [
      "{'wine': 'merlot', 'dessert': 'scone'}\n",
      "merlot is semi-sweet\n",
      "{'wine': 'cavernet', 'dessert': 'scone'}\n",
      "cavernet is semi-sweet\n",
      "{'wine': 'criamza', 'dessert': 'scone'}\n",
      "criamza is semi-sweet\n"
     ]
    }
   ],
   "source": [
    "wine_list = 'merlot cavernet criamza'.split()\n",
    "for wine in wine_list:\n",
    "    print_kargs(wine=wine, dessert='scone')"
   ]
  },
  {
   "cell_type": "code",
   "execution_count": 15,
   "id": "cf634923-ac69-419d-bd4e-10256b6106cc",
   "metadata": {},
   "outputs": [
    {
     "name": "stdout",
     "output_type": "stream",
     "text": [
      "24\n",
      "{'first': 1, 'second': 2}\n"
     ]
    }
   ],
   "source": [
    "def print_both(one, two, *args, **kargs): # 위치인수 > args > kargs\n",
    "    print(one * two * sum(args))\n",
    "    print(kargs)\n",
    "    \n",
    "print_both(1, 2, 3, 4, 5, first=1, second=2)"
   ]
  },
  {
   "cell_type": "markdown",
   "id": "26ef99a9-fc3c-4d8e-a4f6-9fdd84e0dc1c",
   "metadata": {},
   "source": [
    "#### 딕셔너리 결합할 떄 사용할 수 있다 (3.5 이상)"
   ]
  },
  {
   "cell_type": "code",
   "execution_count": 19,
   "id": "46806a52-1a44-456a-adf2-bc811cab7610",
   "metadata": {},
   "outputs": [
    {
     "data": {
      "text/plain": [
       "{1: 'a', 2: 'c', 3: 'd'}"
      ]
     },
     "execution_count": 19,
     "metadata": {},
     "output_type": "execute_result"
    }
   ],
   "source": [
    "x = {1: 'a', 2: 'b'}\n",
    "y = {2: 'c', 3: 'd'}\n",
    "z = {**x, **y}\n",
    "z"
   ]
  },
  {
   "cell_type": "markdown",
   "id": "32abf22c-2f8f-481f-bfc2-e4721fa0d561",
   "metadata": {},
   "source": [
    "### 일급 객체 \n",
    "- first class object / first class citizen\n",
    "- 함수도 객체다.\n",
    "- 함수는 인자로 전달 가능\n",
    "- 반환값이 될 수 있다\n",
    "- 수정, 할당될 수 있다."
   ]
  },
  {
   "cell_type": "code",
   "execution_count": 22,
   "id": "9dcb27c4-4b41-420a-b9f6-f3f79e2d98f5",
   "metadata": {},
   "outputs": [
    {
     "name": "stdout",
     "output_type": "stream",
     "text": [
      "43\n",
      "43\n"
     ]
    }
   ],
   "source": [
    "def answer():\n",
    "    print(43)\n",
    "    \n",
    "def run_something(func):\n",
    "    func()\n",
    "    \n",
    "run_something(answer)\n",
    "\n",
    "def run_anything(func):\n",
    "    return func\n",
    "\n",
    "run_anything(answer)() # 괄호 => 실행"
   ]
  },
  {
   "cell_type": "code",
   "execution_count": 25,
   "id": "38c5938f-9803-486a-a3af-acf4fdd1a4d1",
   "metadata": {},
   "outputs": [],
   "source": [
    "def sum_args(*args):\n",
    "    return\n",
    "\n",
    "def run_with_positional_args(func, *args):\n",
    "    return func(*args)\n",
    "\n",
    "run_with_positional_args(sum_args, 1, 2, 3, 4, 5)"
   ]
  },
  {
   "cell_type": "code",
   "execution_count": 26,
   "id": "4cc5e3ba-14e1-4d56-ad89-f77bb2b35fe7",
   "metadata": {},
   "outputs": [],
   "source": [
    "# 가변 인자일 때 => 초기화하지 않으면 변수 내용이 변할 수 있음\n",
    "\n",
    "def func(num_list):\n",
    "    sum_num = sum(num_list)\n",
    "    num_list.append(sum_num)\n",
    "    \n",
    "a = [1, 3, 5]\n",
    "func(a)"
   ]
  },
  {
   "cell_type": "code",
   "execution_count": 27,
   "id": "bee534f2-720e-47f2-9912-2c11fe622ef3",
   "metadata": {},
   "outputs": [
    {
     "data": {
      "text/plain": [
       "[1, 3, 5, 9]"
      ]
     },
     "execution_count": 27,
     "metadata": {},
     "output_type": "execute_result"
    }
   ],
   "source": [
    "a"
   ]
  },
  {
   "cell_type": "code",
   "execution_count": 29,
   "id": "d8d8d331-25aa-4e24-8835-09b94d470dc2",
   "metadata": {},
   "outputs": [],
   "source": [
    "func(a)"
   ]
  },
  {
   "cell_type": "code",
   "execution_count": 30,
   "id": "075efa92-ca65-403f-ac17-ecb35de0c1d0",
   "metadata": {},
   "outputs": [
    {
     "data": {
      "text/plain": [
       "[1, 3, 5, 9, 18]"
      ]
     },
     "execution_count": 30,
     "metadata": {},
     "output_type": "execute_result"
    }
   ],
   "source": [
    "a"
   ]
  },
  {
   "cell_type": "code",
   "execution_count": 31,
   "id": "4c02f660-5682-4bd0-9e34-5231d24eb7c0",
   "metadata": {},
   "outputs": [
    {
     "ename": "SyntaxError",
     "evalue": "invalid syntax (Temp/ipykernel_7032/2485928168.py, line 2)",
     "output_type": "error",
     "traceback": [
      "\u001b[1;36m  File \u001b[1;32m\"C:\\Users\\82109\\AppData\\Local\\Temp/ipykernel_7032/2485928168.py\"\u001b[1;36m, line \u001b[1;32m2\u001b[0m\n\u001b[1;33m    - lambda\u001b[0m\n\u001b[1;37m      ^\u001b[0m\n\u001b[1;31mSyntaxError\u001b[0m\u001b[1;31m:\u001b[0m invalid syntax\n"
     ]
    }
   ],
   "source": [
    "### 익명함수 (람다)\n",
    "- lambda\n",
    "- 함수인데 이름이 없음(def, return 예약어 없음)\n",
    "- 왜? 단순한 함수를 사용할 때\n",
    "- 단, 잦은 사용은 권장하지 않는다. => 직관적이지 않고 재활용 불가능함\n",
    "- lambda x: <x를 요리할 코드>"
   ]
  },
  {
   "cell_type": "code",
   "execution_count": 32,
   "id": "dae3ec33-a598-431b-a1f8-0253185bfdca",
   "metadata": {},
   "outputs": [
    {
     "data": {
      "text/plain": [
       "'ok'"
      ]
     },
     "execution_count": 32,
     "metadata": {},
     "output_type": "execute_result"
    }
   ],
   "source": [
    "# lamda x: x.lower()\n",
    "\n",
    "def f(x):\n",
    "    return x.lower()\n",
    "\n",
    "f2 = lambda x: x.lower() # 이름 있음\n",
    "f2('OK')"
   ]
  },
  {
   "cell_type": "code",
   "execution_count": 34,
   "id": "babfe1f5-703a-437d-b1ea-30cf5a93d8bd",
   "metadata": {},
   "outputs": [
    {
     "data": {
      "text/plain": [
       "'ok'"
      ]
     },
     "execution_count": 34,
     "metadata": {},
     "output_type": "execute_result"
    }
   ],
   "source": [
    "(lambda x: x.lower())('OK') # 이름 없이"
   ]
  },
  {
   "cell_type": "code",
   "execution_count": 36,
   "id": "605c857a-3b4f-4117-a18a-be03734a9c44",
   "metadata": {},
   "outputs": [
    {
     "data": {
      "text/plain": [
       "10"
      ]
     },
     "execution_count": 36,
     "metadata": {},
     "output_type": "execute_result"
    }
   ],
   "source": [
    "f3 = lambda x, y: x + y\n",
    "f3(5, 5)"
   ]
  },
  {
   "cell_type": "code",
   "execution_count": 40,
   "id": "c944ffd9-8ca5-4d91-b0d3-3678e24fe9ac",
   "metadata": {},
   "outputs": [],
   "source": [
    "f4 = lambda x: x.title() + '!'"
   ]
  },
  {
   "cell_type": "code",
   "execution_count": 41,
   "id": "ab279ada-9ac0-45dd-b070-b6a1aab891aa",
   "metadata": {},
   "outputs": [
    {
     "data": {
      "text/plain": [
       "'Abc!'"
      ]
     },
     "execution_count": 41,
     "metadata": {},
     "output_type": "execute_result"
    }
   ],
   "source": [
    "f4('abc')"
   ]
  },
  {
   "cell_type": "code",
   "execution_count": null,
   "id": "198ae300-5c3f-444d-a6b8-7e718bf132b5",
   "metadata": {
    "jupyter": {
     "source_hidden": true
    },
    "tags": []
   },
   "outputs": [],
   "source": []
  }
 ],
 "metadata": {
  "kernelspec": {
   "display_name": "Python 3 (ipykernel)",
   "language": "python",
   "name": "python3"
  },
  "language_info": {
   "codemirror_mode": {
    "name": "ipython",
    "version": 3
   },
   "file_extension": ".py",
   "mimetype": "text/x-python",
   "name": "python",
   "nbconvert_exporter": "python",
   "pygments_lexer": "ipython3",
   "version": "3.9.7"
  }
 },
 "nbformat": 4,
 "nbformat_minor": 5
}
