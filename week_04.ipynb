{
 "cells": [
  {
   "cell_type": "markdown",
   "id": "5707e8ad-81eb-450e-876b-ac2b3dbdf223",
   "metadata": {},
   "source": [
    "## NLTK"
   ]
  },
  {
   "cell_type": "code",
   "execution_count": 2,
   "id": "4e68416f-45d9-4053-964b-ec728376ef42",
   "metadata": {},
   "outputs": [
    {
     "data": {
      "text/plain": [
       "True"
      ]
     },
     "execution_count": 2,
     "metadata": {},
     "output_type": "execute_result"
    }
   ],
   "source": [
    "import nltk #텍스트 자료\n",
    "nltk.download('book', quiet=True)"
   ]
  },
  {
   "cell_type": "code",
   "execution_count": 3,
   "id": "b17b53a3-0b8e-4eb2-9118-860793e95fd5",
   "metadata": {},
   "outputs": [
    {
     "name": "stdout",
     "output_type": "stream",
     "text": [
      "*** Introductory Examples for the NLTK Book ***\n",
      "Loading text1, ..., text9 and sent1, ..., sent9\n",
      "Type the name of the text or sentence to view it.\n",
      "Type: 'texts()' or 'sents()' to list the materials.\n",
      "text1: Moby Dick by Herman Melville 1851\n",
      "text2: Sense and Sensibility by Jane Austen 1811\n",
      "text3: The Book of Genesis\n",
      "text4: Inaugural Address Corpus\n",
      "text5: Chat Corpus\n",
      "text6: Monty Python and the Holy Grail\n",
      "text7: Wall Street Journal\n",
      "text8: Personals Corpus\n",
      "text9: The Man Who Was Thursday by G . K . Chesterton 1908\n"
     ]
    }
   ],
   "source": [
    "from nltk.book import *"
   ]
  },
  {
   "cell_type": "markdown",
   "id": "63d07d83-07cc-4afd-bb83-25cb7911f04b",
   "metadata": {},
   "source": [
    "## 함수I\n",
    "- y = 3x + 1\n",
    "- '<str>'.fx(<요소>) - 일반적인 형식\n",
    "- count(): string이 나타나는 개수\n",
    "- replace(): 어떤 부분을 변경하는\n",
    "- strip(): 공백을 제거\n",
    "- find(): 오프셋을 반환\n",
    "- index(): find와 비슷 만족하는 값이 없는 경우 에러 발생"
   ]
  },
  {
   "cell_type": "code",
   "execution_count": 9,
   "id": "c17c207d-9687-4e1b-9e28-b1898833f037",
   "metadata": {},
   "outputs": [
    {
     "data": {
      "text/plain": [
       "13721"
      ]
     },
     "execution_count": 9,
     "metadata": {},
     "output_type": "execute_result"
    }
   ],
   "source": [
    "text1.count(\"the\")"
   ]
  },
  {
   "cell_type": "code",
   "execution_count": 10,
   "id": "10a9e4f4-2e2a-439f-9bbd-ae3489118a51",
   "metadata": {},
   "outputs": [
    {
     "data": {
      "text/plain": [
       "3861"
      ]
     },
     "execution_count": 10,
     "metadata": {},
     "output_type": "execute_result"
    }
   ],
   "source": [
    "text2.count('the')"
   ]
  },
  {
   "cell_type": "code",
   "execution_count": 11,
   "id": "b445daf9-ff48-4940-8a4d-52ca6a1b3348",
   "metadata": {},
   "outputs": [],
   "source": [
    "word = 'the'\n",
    "word = word.replace('t', 'T')"
   ]
  },
  {
   "cell_type": "code",
   "execution_count": 12,
   "id": "b4c30032-31ad-45c3-bcba-7ee7c8172ebf",
   "metadata": {},
   "outputs": [
    {
     "data": {
      "text/plain": [
       "'The'"
      ]
     },
     "execution_count": 12,
     "metadata": {},
     "output_type": "execute_result"
    }
   ],
   "source": [
    "word"
   ]
  },
  {
   "cell_type": "code",
   "execution_count": 13,
   "id": "e457e727-ff35-4e19-a7b3-d75acbbaadd0",
   "metadata": {},
   "outputs": [],
   "source": [
    "word = '        \\t word'"
   ]
  },
  {
   "cell_type": "code",
   "execution_count": 14,
   "id": "0f97b77c-89f0-4919-80f2-5f78934dd7ab",
   "metadata": {},
   "outputs": [
    {
     "data": {
      "text/plain": [
       "'word'"
      ]
     },
     "execution_count": 14,
     "metadata": {},
     "output_type": "execute_result"
    }
   ],
   "source": [
    "word.lstrip()"
   ]
  },
  {
   "cell_type": "code",
   "execution_count": 15,
   "id": "3f97a8fd-2b1a-454d-be0c-c599a726aa34",
   "metadata": {},
   "outputs": [
    {
     "data": {
      "text/plain": [
       "'Work'"
      ]
     },
     "execution_count": 15,
     "metadata": {},
     "output_type": "execute_result"
    }
   ],
   "source": [
    "word.lstrip().replace('w', 'W').replace('d', 'k') \n",
    "#연속적으로 스트링에 붙일 수 있음 계속 스트링이기 때문에"
   ]
  },
  {
   "cell_type": "code",
   "execution_count": 16,
   "id": "f4704846-c46e-4949-a66a-414fb7c97f2e",
   "metadata": {},
   "outputs": [
    {
     "data": {
      "text/plain": [
       "3"
      ]
     },
     "execution_count": 16,
     "metadata": {},
     "output_type": "execute_result"
    }
   ],
   "source": [
    "word2 = 'I have a pen'\n",
    "word2.find('a')"
   ]
  },
  {
   "cell_type": "code",
   "execution_count": 17,
   "id": "f5a0d7d3-5c1e-430b-a6d3-63c04c20fdc1",
   "metadata": {},
   "outputs": [
    {
     "data": {
      "text/plain": [
       "3"
      ]
     },
     "execution_count": 17,
     "metadata": {},
     "output_type": "execute_result"
    }
   ],
   "source": [
    "word2.index('a')"
   ]
  },
  {
   "cell_type": "code",
   "execution_count": 18,
   "id": "e5de3ac0-bb02-489d-9aa2-40f836ea61c6",
   "metadata": {},
   "outputs": [
    {
     "data": {
      "text/plain": [
       "-1"
      ]
     },
     "execution_count": 18,
     "metadata": {},
     "output_type": "execute_result"
    }
   ],
   "source": [
    "word2.find('k') # 없는 것 찾을 때 -1 반환"
   ]
  },
  {
   "cell_type": "code",
   "execution_count": 19,
   "id": "d5cd88ff-d2d9-4dd0-8e3a-ce55e33222c9",
   "metadata": {},
   "outputs": [
    {
     "ename": "ValueError",
     "evalue": "substring not found",
     "output_type": "error",
     "traceback": [
      "\u001b[1;31m---------------------------------------------------------------------------\u001b[0m",
      "\u001b[1;31mValueError\u001b[0m                                Traceback (most recent call last)",
      "\u001b[1;32m~\\AppData\\Local\\Temp/ipykernel_9804/288708066.py\u001b[0m in \u001b[0;36m<module>\u001b[1;34m\u001b[0m\n\u001b[1;32m----> 1\u001b[1;33m \u001b[0mword2\u001b[0m\u001b[1;33m.\u001b[0m\u001b[0mindex\u001b[0m\u001b[1;33m(\u001b[0m\u001b[1;34m'k'\u001b[0m\u001b[1;33m)\u001b[0m \u001b[1;31m# 없는 것 찾을 때 오류\u001b[0m\u001b[1;33m\u001b[0m\u001b[1;33m\u001b[0m\u001b[0m\n\u001b[0m",
      "\u001b[1;31mValueError\u001b[0m: substring not found"
     ]
    }
   ],
   "source": [
    "word2.index('k') # 없는 것 찾을 때 오류"
   ]
  },
  {
   "cell_type": "markdown",
   "id": "fda92129-a025-4317-ab0b-bd6a046a7fb2",
   "metadata": {},
   "source": [
    "## 함수II\n",
    "- nltk전용\n",
    "- concordance(): 특정 스트링이 어떤 문맥에서 쓰이는지\n",
    "- similar(): 주어진 스트링과 비슷한 문맥에서 쓰이는 단어들 보여줌\n",
    "- comon_context(): 주어진 스트링이 어떤 문맥을 공유하는지\n",
    "- dispersion_plot(): 주어진 스트링이 텍스트에서 출연하는 빈도를 이미지로"
   ]
  },
  {
   "cell_type": "code",
   "execution_count": 20,
   "id": "06cc0841-afce-4a1b-9f66-d085bc8524f9",
   "metadata": {},
   "outputs": [
    {
     "name": "stdout",
     "output_type": "stream",
     "text": [
      "Displaying 25 of 1226 matches:\n",
      "s , and to teach them by what name a whale - fish is to be called in our tongue\n",
      "t which is not true .\" -- HACKLUYT \" WHALE . ... Sw . and Dan . HVAL . This ani\n",
      "ulted .\" -- WEBSTER ' S DICTIONARY \" WHALE . ... It is more immediately from th\n",
      "ISH . WAL , DUTCH . HWAL , SWEDISH . WHALE , ICELANDIC . WHALE , ENGLISH . BALE\n",
      "HWAL , SWEDISH . WHALE , ICELANDIC . WHALE , ENGLISH . BALEINE , FRENCH . BALLE\n",
      "least , take the higgledy - piggledy whale statements , however authentic , in \n",
      " dreadful gulf of this monster ' s ( whale ' s ) mouth , are immediately lost a\n",
      " patient Job .\" -- RABELAIS . \" This whale ' s liver was two cartloads .\" -- ST\n",
      " Touching that monstrous bulk of the whale or ork we have received nothing cert\n",
      " of oil will be extracted out of one whale .\" -- IBID . \" HISTORY OF LIFE AND D\n",
      "ise .\" -- KING HENRY . \" Very like a whale .\" -- HAMLET . \" Which to secure , n\n",
      "restless paine , Like as the wounded whale to shore flies thro ' the maine .\" -\n",
      ". OF SPERMA CETI AND THE SPERMA CETI WHALE . VIDE HIS V . E . \" Like Spencer ' \n",
      "t had been a sprat in the mouth of a whale .\" -- PILGRIM ' S PROGRESS . \" That \n",
      "EN ' S ANNUS MIRABILIS . \" While the whale is floating at the stern of the ship\n",
      "e ship called The Jonas - in - the - Whale . ... Some say the whale can ' t ope\n",
      " in - the - Whale . ... Some say the whale can ' t open his mouth , but that is\n",
      " masts to see whether they can see a whale , for the first discoverer has a duc\n",
      " for his pains . ... I was told of a whale taken near Shetland , that had above\n",
      "oneers told me that he caught once a whale in Spitzbergen that was white all ov\n",
      "2 , one eighty feet in length of the whale - bone kind came in , which ( as I w\n",
      "n master and kill this Sperma - ceti whale , for I could never hear of any of t\n",
      " . 1729 . \"... and the breath of the whale is frequendy attended with such an i\n",
      "ed with hoops and armed with ribs of whale .\" -- RAPE OF THE LOCK . \" If we com\n",
      "contemptible in the comparison . The whale is doubtless the largest animal in c\n"
     ]
    }
   ],
   "source": [
    "text1.concordance('whale')"
   ]
  },
  {
   "cell_type": "code",
   "execution_count": 22,
   "id": "080d20fc-bac8-4db8-a865-0c41b054fa93",
   "metadata": {},
   "outputs": [
    {
     "name": "stdout",
     "output_type": "stream",
     "text": [
      "ship boat sea time captain world man deck pequod other whales air\n",
      "water head crew line thing side way body\n"
     ]
    }
   ],
   "source": [
    "text1.similar('whale')"
   ]
  },
  {
   "cell_type": "code",
   "execution_count": 23,
   "id": "5396901b-2fdc-4d01-b3fa-6f2131cf08af",
   "metadata": {},
   "outputs": [
    {
     "name": "stdout",
     "output_type": "stream",
     "text": [
      "am_glad a_pretty a_lucky is_pretty be_glad\n"
     ]
    }
   ],
   "source": [
    "text2.common_contexts(['monstrous', 'very']) # 단어들이 리스트로 들어감"
   ]
  },
  {
   "cell_type": "code",
   "execution_count": 24,
   "id": "06511fa6-6448-468a-9851-1e80b1a98991",
   "metadata": {},
   "outputs": [
    {
     "data": {
      "image/png": "[encoded data removed]",
      "text/plain": [
       "<Figure size 432x288 with 1 Axes>"
      ]
     },
     "metadata": {
      "needs_background": "light"
     },
     "output_type": "display_data"
    }
   ],
   "source": [
    "text4.dispersion_plot(['citizens', 'America', 'freedom'])"
   ]
  },
  {
   "cell_type": "markdown",
   "id": "bac98bcf-989b-4a29-8336-f347d7d4479f",
   "metadata": {},
   "source": [
    "## 리스트 & 리스트컴프리핸션\n",
    "- 프로그래밍에서 '배열'에 해당, 파이썬에서는 리스트라고 부른다\n",
    "- 하나의 변수에 여러 값을 할당하는 자료형\n",
    "    - example = [1, 2, 3, 4]\n",
    "- 대괄호를 사용한다\n",
    "- 내부 요소들의 자료형은 같을 필요 없음\n",
    "    - example = [1, 'yes', True]\n",
    "- 순서가 있는 자료형 => 슬라이싱, 인덱싱\n",
    "- 빈 리스트 선언: set(), []"
   ]
  },
  {
   "cell_type": "code",
   "execution_count": 26,
   "id": "74b21180-9f52-4973-904b-883d883b8415",
   "metadata": {},
   "outputs": [],
   "source": [
    "empty = []"
   ]
  },
  {
   "cell_type": "code",
   "execution_count": 27,
   "id": "feb6db9b-9bb9-4838-8b26-be9ebbf399e7",
   "metadata": {},
   "outputs": [],
   "source": [
    "colors = ['blue', 'yellow', 'white']"
   ]
  },
  {
   "cell_type": "code",
   "execution_count": 28,
   "id": "98777099-e447-48b5-a037-5f19c081095e",
   "metadata": {},
   "outputs": [
    {
     "data": {
      "text/plain": [
       "'blue'"
      ]
     },
     "execution_count": 28,
     "metadata": {},
     "output_type": "execute_result"
    }
   ],
   "source": [
    "colors[0] #colors[02] 안됨"
   ]
  },
  {
   "cell_type": "code",
   "execution_count": 29,
   "id": "d1bb86c3-f5b0-47b1-825b-18fe1cf7e0ba",
   "metadata": {},
   "outputs": [
    {
     "data": {
      "text/plain": [
       "['white', 'yellow', 'blue']"
      ]
     },
     "execution_count": 29,
     "metadata": {},
     "output_type": "execute_result"
    }
   ],
   "source": [
    "colors[::-1]"
   ]
  },
  {
   "cell_type": "markdown",
   "id": "ece02971-73f0-4011-89fb-367187d94f12",
   "metadata": {},
   "source": [
    "## list comprehension\n",
    "- 포함형/지능형/축약형 리스트\n",
    "- 하나의 리스트에서 그걸 포함하여 다른 리스트를 만든다.\n",
    "- list + for loop\n",
    "- [A for B in C]\n",
    "    - C에 있는 B에서 A를 가져와라 => 리스트에 담아서 변환\n",
    "    - A : 내가 원하는 출력 형태\n",
    "    - B : C의 형태\n",
    "    - C : 반복 가능한 자료형 (리스트)"
   ]
  },
  {
   "cell_type": "code",
   "execution_count": 30,
   "id": "8fe89c17-2c57-4a18-8a28-cb00191ec75c",
   "metadata": {},
   "outputs": [
    {
     "data": {
      "text/plain": [
       "['b', 'y', 'w']"
      ]
     },
     "execution_count": 30,
     "metadata": {},
     "output_type": "execute_result"
    }
   ],
   "source": [
    "[color[0] for color in colors]\n"
   ]
  },
  {
   "cell_type": "code",
   "execution_count": 32,
   "id": "f79c6093-39e6-44fe-a9ee-a04b11d56ea9",
   "metadata": {},
   "outputs": [
    {
     "data": {
      "text/plain": [
       "['[', 'y', 'k', 'y', 'n', 'e', '1', ']', 'Y', '.']"
      ]
     },
     "execution_count": 32,
     "metadata": {},
     "output_type": "execute_result"
    }
   ],
   "source": [
    "[token[-1] for token in text1.tokens[:10]]"
   ]
  },
  {
   "cell_type": "code",
   "execution_count": 39,
   "id": "0b1a0c8c-4e22-4738-929f-cca254fffcf2",
   "metadata": {},
   "outputs": [
    {
     "data": {
      "text/plain": [
       "['.']"
      ]
     },
     "execution_count": 39,
     "metadata": {},
     "output_type": "execute_result"
    }
   ],
   "source": [
    "[word for word in text1.tokens[:10] if (len(word) < 3) and (word == '.')]"
   ]
  },
  {
   "cell_type": "code",
   "execution_count": 40,
   "id": "dabc2478-9bea-4a43-b4e6-299950e8b9ce",
   "metadata": {},
   "outputs": [
    {
     "data": {
      "text/plain": [
       "['iamahotniplickme',\n",
       " '!!!!!!!!!!!!!!!!',\n",
       " 'iamahotnipwithpics',\n",
       " 'iamahotnipwithhotnippics',\n",
       " '--------------------',\n",
       " '..............................',\n",
       " '!!!!!!!!!!!!!!!!',\n",
       " 'mikeeeeeeeeeeeeeeeeeeeeeeeeee',\n",
       " 'oooooooooooooonnnnnnnnnnnneeeeeeeeeeeeeeesssssssss',\n",
       " 'WEEEEEEEEEEEEEEEEEE',\n",
       " '!!!!!!!!!!!!!!!!!!!!!!!',\n",
       " 'niteeeeeeeeeeeeeeeeeee',\n",
       " '#talkcity_adults',\n",
       " 'http://forums.talkcity.com/tc-adults/start ',\n",
       " '#talkcity_adults',\n",
       " 'http://www.shadowbots.com',\n",
       " '(((((((((((((((((((((',\n",
       " ')))))))))))))))))))))',\n",
       " 'huuuuuuuuuuuuuuuuuuuuuuuuuuuuuuuuuuugZ',\n",
       " ')))))))))))))))',\n",
       " 'wooooooooooooohoooooooooooooooo',\n",
       " 'www.Wunderground.com',\n",
       " '//www.wunderground.com/cgi-bin/findweather/getForecast?query=95953#FIR',\n",
       " 'www.Wunderground.com',\n",
       " 'www.Wunderground.com',\n",
       " '#talkcity_adults',\n",
       " 'whoaaaaaaaaaaaa',\n",
       " '((((((((((((((((((((',\n",
       " ')))))))))))))))))))',\n",
       " '((((((((((((((((((',\n",
       " ')))))))))))))))))))',\n",
       " '(((((((((((((((((',\n",
       " ')))))))))))))))))))))',\n",
       " 'ohhhhhhhhhhhhhhhh',\n",
       " '((((((((((((((((((((',\n",
       " ')))))))))))))))))))))))))))))))',\n",
       " '((((((((((((((((((((((((((',\n",
       " ')))))))))))))))))))))',\n",
       " '(((((((((((((((',\n",
       " ')))))))))))))))))))',\n",
       " 'grrrrrrrrrrrrrrrrr',\n",
       " '(((((((((((((((((',\n",
       " '))))))))))))))))))))))',\n",
       " '.(..(.vMp3 v1.7.4.).)',\n",
       " 'technologically',\n",
       " '.A.n.a.c.?.n.?.a.',\n",
       " '#talkcity_adults',\n",
       " 'http://forums.talkcity.com/tc-adults/start ',\n",
       " '#talkcity_adults',\n",
       " 'http://www.shadowbots.com',\n",
       " 'Nooooooooooooooo',\n",
       " '#talkcity_adults',\n",
       " '#talkcity_adults',\n",
       " 'hearthechatters',\n",
       " 'bwahahahahahahahahahaha',\n",
       " '[[[[[[[[[[[[[[[[[[',\n",
       " ']]]]]]]]]]]]]]]]]]]]]',\n",
       " 'noooooooooooooo',\n",
       " '#talkcity_adults',\n",
       " '#talkcity_adults',\n",
       " '<3333333333333333',\n",
       " '<33333333333333333',\n",
       " 'heeheeheeheeheehee',\n",
       " '))))))))))))))))))))))))))))',\n",
       " 'agurlwithbigguns',\n",
       " 'agurlwithbigguns',\n",
       " 'anyyyyyyyyyyyyyyyyy',\n",
       " 'muahsssssssssssssssssss',\n",
       " '(((((((((((((((',\n",
       " 'muahssssssssssssssss',\n",
       " '((((((((((((((((((((((((',\n",
       " ')))))))))))))))))',\n",
       " '(((((((((((((((((((((((',\n",
       " ')))))))))))))))',\n",
       " '(((((((((((((((((((((((((',\n",
       " '(((((((((((((((',\n",
       " '#talkcity_adults',\n",
       " '#talkcity_adults',\n",
       " 'http://www.shadowbots.com',\n",
       " 'antidepressants',\n",
       " 'antidepressants',\n",
       " 'antidepressants',\n",
       " 'heyyyyyyyyyyyyyy',\n",
       " '!!!!!!!!!!!!!!!!!!!!!!!!!!!',\n",
       " 'miiiiiinnnnnnnnnneeeeeeee',\n",
       " '....................',\n",
       " '...................',\n",
       " '..................',\n",
       " 'lllllllliiiiiiiiiikeee',\n",
       " 'miiiiiiiiiiiiinnnnnnnnnnneeeeeeeeee',\n",
       " 'aiiiiiiiiiiiiiiiiiiiiiiii',\n",
       " 'mmmmmmmmiiiiiiiiinnnnnnnnneeeeeeee',\n",
       " 'woooooooooaaaahhhhhhhhhhhh',\n",
       " 'backfrontsidewaysandallaroundtheworld',\n",
       " 'ahhhhhhhhhhhhhh',\n",
       " '#talkcity_adults',\n",
       " 'tatatatnanaantatat',\n",
       " '#talkcity_adults',\n",
       " '#talkcity_adults',\n",
       " 'weeeeeeeeeeeeeeeeeeeeeeeeed',\n",
       " '#talkcity_adults',\n",
       " 'hahahahahahahahahahahahahahahaha',\n",
       " '!!!!!!!!!!!!!!!!',\n",
       " 'eeeeeeeeewwwwwwww',\n",
       " '.(..(.vMp3 vi.p.t.)..).',\n",
       " '.(..(.vMp3 vi.p.t.)..).',\n",
       " 'cooooooooookiiiiiiiiiiiieeeeeeeeeeee',\n",
       " 'yuuuuuuuuuuuummmmmmmmmmmm',\n",
       " 'aaaaaaaaaaaaaaaaa',\n",
       " 'raaaaaaaaaaaaaaaaaaaaaaaaaaaaa',\n",
       " 'weeeeeeeeeeeeeeee',\n",
       " 'oooooooooooglyyyyyyyy',\n",
       " 'boooooooooooglyyyyyy',\n",
       " 'HHEEYYYYYYYYYYYYYYYYYYYYYYYYYYYYYYYYYYYYYYYYYYYYYYY',\n",
       " 'llloooozzzzeeerrrrzzzzzzzzzzzzzzzzzzzzzzzzzzzzzzzzzzzzzzzzzzzzzzzzz',\n",
       " '!!!!!!!!!!!!!!!!!!!!!!!!!!!!',\n",
       " '................',\n",
       " '........................',\n",
       " '!!!!!!!!!!!!!!!!!!!!!!',\n",
       " '!!!!!!!!!!!!!!!!!!!!!!',\n",
       " 'byeeeeeeeeeeeee',\n",
       " 'peace-and-quiet',\n",
       " '#talkcity_adults',\n",
       " 'http://forums.talkcity.com/tc-adults/start ',\n",
       " '#talkcity_adults',\n",
       " 'http://www.shadowbots.com',\n",
       " 'Mooooooooooooooooooooooooooo',\n",
       " 'wheeeeeeeeeeeeeeeeeeeeeeeeeeeeeeeeee',\n",
       " 'bbbbbyyyyyyyeeeeeeeee',\n",
       " '!!!!!!!!!!!!!!!!!!!!!!!!!!!!!!!!!!!!!!!!!!!!!!!!!!!!!!',\n",
       " 'HolocaustYourMom',\n",
       " 'Bloooooooooooood',\n",
       " 'BAAAAALLLLLLLLIIIIIIINNNNNNNNNNN']"
      ]
     },
     "execution_count": 40,
     "metadata": {},
     "output_type": "execute_result"
    }
   ],
   "source": [
    "#1. text5에서 길이가 15 이상인 단어 추출하기\n",
    "#2. text3에서 대문자인 단어를 소문자로 추출\n",
    "text5 = book.text5\n",
    "[word for word in text5.tokens if (len(word) >= 15)]"
   ]
  },
  {
   "cell_type": "code",
   "execution_count": 41,
   "id": "01d085a1-c5e7-4b67-a9e2-6683b83141e9",
   "metadata": {
    "collapsed": true,
    "jupyter": {
     "outputs_hidden": true
    },
    "tags": []
   },
   "outputs": [
    {
     "data": {
      "text/plain": [
       "['in',\n",
       " 'the',\n",
       " 'beginning',\n",
       " 'god',\n",
       " 'created',\n",
       " 'the',\n",
       " 'heaven',\n",
       " 'and',\n",
       " 'the',\n",
       " 'earth',\n",
       " '.',\n",
       " 'and',\n",
       " 'the',\n",
       " 'earth',\n",
       " 'was',\n",
       " 'without',\n",
       " 'form',\n",
       " ',',\n",
       " 'and',\n",
       " 'void',\n",
       " ';',\n",
       " 'and',\n",
       " 'darkness',\n",
       " 'was',\n",
       " 'upon',\n",
       " 'the',\n",
       " 'face',\n",
       " 'of',\n",
       " 'the',\n",
       " 'deep',\n",
       " '.',\n",
       " 'and',\n",
       " 'the',\n",
       " 'spirit',\n",
       " 'of',\n",
       " 'god',\n",
       " 'moved',\n",
       " 'upon',\n",
       " 'the',\n",
       " 'face',\n",
       " 'of',\n",
       " 'the',\n",
       " 'waters',\n",
       " '.',\n",
       " 'and',\n",
       " 'god',\n",
       " 'said',\n",
       " ',',\n",
       " 'let',\n",
       " 'there',\n",
       " 'be',\n",
       " 'light',\n",
       " ':',\n",
       " 'and',\n",
       " 'there',\n",
       " 'was',\n",
       " 'light',\n",
       " '.',\n",
       " 'and',\n",
       " 'god',\n",
       " 'saw',\n",
       " 'the',\n",
       " 'light',\n",
       " ',',\n",
       " 'that',\n",
       " 'it',\n",
       " 'was',\n",
       " 'good',\n",
       " ':',\n",
       " 'and',\n",
       " 'god',\n",
       " 'divided',\n",
       " 'the',\n",
       " 'light',\n",
       " 'from',\n",
       " 'the',\n",
       " 'darkness',\n",
       " '.',\n",
       " 'and',\n",
       " 'god',\n",
       " 'called',\n",
       " 'the',\n",
       " 'light',\n",
       " 'day',\n",
       " ',',\n",
       " 'and',\n",
       " 'the',\n",
       " 'darkness',\n",
       " 'he',\n",
       " 'called',\n",
       " 'night',\n",
       " '.',\n",
       " 'and',\n",
       " 'the',\n",
       " 'evening',\n",
       " 'and',\n",
       " 'the',\n",
       " 'morning',\n",
       " 'were',\n",
       " 'the',\n",
       " 'first',\n",
       " 'day',\n",
       " '.',\n",
       " 'and',\n",
       " 'god',\n",
       " 'said',\n",
       " ',',\n",
       " 'let',\n",
       " 'there',\n",
       " 'be',\n",
       " 'a',\n",
       " 'firmament',\n",
       " 'in',\n",
       " 'the',\n",
       " 'midst',\n",
       " 'of',\n",
       " 'the',\n",
       " 'waters',\n",
       " ',',\n",
       " 'and',\n",
       " 'let',\n",
       " 'it',\n",
       " 'divide',\n",
       " 'the',\n",
       " 'waters',\n",
       " 'from',\n",
       " 'the',\n",
       " 'waters',\n",
       " '.',\n",
       " 'and',\n",
       " 'god',\n",
       " 'made',\n",
       " 'the',\n",
       " 'firmament',\n",
       " ',',\n",
       " 'and',\n",
       " 'divided',\n",
       " 'the',\n",
       " 'waters',\n",
       " 'which',\n",
       " 'were',\n",
       " 'under',\n",
       " 'the',\n",
       " 'firmament',\n",
       " 'from',\n",
       " 'the',\n",
       " 'waters',\n",
       " 'which',\n",
       " 'were',\n",
       " 'above',\n",
       " 'the',\n",
       " 'firmame',\n",
       " 'and',\n",
       " 'it',\n",
       " 'was',\n",
       " 'so',\n",
       " '.',\n",
       " 'and',\n",
       " 'god',\n",
       " 'called',\n",
       " 'the',\n",
       " 'firmament',\n",
       " 'heaven',\n",
       " '.',\n",
       " 'and',\n",
       " 'the',\n",
       " 'evening',\n",
       " 'and',\n",
       " 'the',\n",
       " 'morning',\n",
       " 'were',\n",
       " 'the',\n",
       " 'second',\n",
       " 'day',\n",
       " '.',\n",
       " 'and',\n",
       " 'god',\n",
       " 'said',\n",
       " ',',\n",
       " 'let',\n",
       " 'the',\n",
       " 'waters',\n",
       " 'under',\n",
       " 'the',\n",
       " 'heaven',\n",
       " 'be',\n",
       " 'gathered',\n",
       " 'together',\n",
       " 'unto',\n",
       " 'one',\n",
       " 'place',\n",
       " ',',\n",
       " 'and',\n",
       " 'let',\n",
       " 'the',\n",
       " 'dry',\n",
       " 'land',\n",
       " 'appe',\n",
       " 'and',\n",
       " 'it',\n",
       " 'was',\n",
       " 'so',\n",
       " '.',\n",
       " 'and',\n",
       " 'god',\n",
       " 'called',\n",
       " 'the',\n",
       " 'dry',\n",
       " 'land',\n",
       " 'earth',\n",
       " ';',\n",
       " 'and',\n",
       " 'the',\n",
       " 'gathering',\n",
       " 'together',\n",
       " 'of',\n",
       " 'the',\n",
       " 'waters',\n",
       " 'called',\n",
       " 'he',\n",
       " 'se',\n",
       " 'and',\n",
       " 'god',\n",
       " 'saw',\n",
       " 'that',\n",
       " 'it',\n",
       " 'was',\n",
       " 'good',\n",
       " '.',\n",
       " 'and',\n",
       " 'god',\n",
       " 'said',\n",
       " ',',\n",
       " 'let',\n",
       " 'the',\n",
       " 'earth',\n",
       " 'bring',\n",
       " 'forth',\n",
       " 'grass',\n",
       " ',',\n",
       " 'the',\n",
       " 'herb',\n",
       " 'yielding',\n",
       " 'seed',\n",
       " ',',\n",
       " 'and',\n",
       " 'the',\n",
       " 'fruit',\n",
       " 'tree',\n",
       " 'yielding',\n",
       " 'fruit',\n",
       " 'after',\n",
       " 'his',\n",
       " 'kind',\n",
       " ',',\n",
       " 'whose',\n",
       " 'seed',\n",
       " 'is',\n",
       " 'in',\n",
       " 'itself',\n",
       " ',',\n",
       " 'upon',\n",
       " 'the',\n",
       " 'ear',\n",
       " 'and',\n",
       " 'it',\n",
       " 'was',\n",
       " 'so',\n",
       " '.',\n",
       " 'and',\n",
       " 'the',\n",
       " 'earth',\n",
       " 'brought',\n",
       " 'forth',\n",
       " 'grass',\n",
       " ',',\n",
       " 'and',\n",
       " 'herb',\n",
       " 'yielding',\n",
       " 'seed',\n",
       " 'after',\n",
       " 'his',\n",
       " 'kind',\n",
       " ',',\n",
       " 'and',\n",
       " 'the',\n",
       " 'tree',\n",
       " 'yielding',\n",
       " 'fruit',\n",
       " ',',\n",
       " 'whose',\n",
       " 'seed',\n",
       " 'was',\n",
       " 'in',\n",
       " 'itself',\n",
       " ',',\n",
       " 'after',\n",
       " 'his',\n",
       " 'ki',\n",
       " 'and',\n",
       " 'god',\n",
       " 'saw',\n",
       " 'that',\n",
       " 'it',\n",
       " 'was',\n",
       " 'good',\n",
       " '.',\n",
       " 'and',\n",
       " 'the',\n",
       " 'evening',\n",
       " 'and',\n",
       " 'the',\n",
       " 'morning',\n",
       " 'were',\n",
       " 'the',\n",
       " 'third',\n",
       " 'day',\n",
       " '.',\n",
       " 'and',\n",
       " 'god',\n",
       " 'said',\n",
       " ',',\n",
       " 'let',\n",
       " 'there',\n",
       " 'be',\n",
       " 'lights',\n",
       " 'in',\n",
       " 'the',\n",
       " 'firmament',\n",
       " 'of',\n",
       " 'the',\n",
       " 'heaven',\n",
       " 'to',\n",
       " 'divide',\n",
       " 'the',\n",
       " 'day',\n",
       " 'from',\n",
       " 'the',\n",
       " 'night',\n",
       " ';',\n",
       " 'and',\n",
       " 'let',\n",
       " 'them',\n",
       " 'be',\n",
       " 'for',\n",
       " 'signs',\n",
       " ',',\n",
       " 'and',\n",
       " 'for',\n",
       " 'seasons',\n",
       " ',',\n",
       " 'and',\n",
       " 'for',\n",
       " 'days',\n",
       " ',',\n",
       " 'and',\n",
       " 'yea',\n",
       " 'and',\n",
       " 'let',\n",
       " 'them',\n",
       " 'be',\n",
       " 'for',\n",
       " 'lights',\n",
       " 'in',\n",
       " 'the',\n",
       " 'firmament',\n",
       " 'of',\n",
       " 'the',\n",
       " 'heaven',\n",
       " 'to',\n",
       " 'give',\n",
       " 'light',\n",
       " 'upon',\n",
       " 'the',\n",
       " 'ear',\n",
       " 'and',\n",
       " 'it',\n",
       " 'was',\n",
       " 'so',\n",
       " '.',\n",
       " 'and',\n",
       " 'god',\n",
       " 'made',\n",
       " 'two',\n",
       " 'great',\n",
       " 'lights',\n",
       " ';',\n",
       " 'the',\n",
       " 'greater',\n",
       " 'light',\n",
       " 'to',\n",
       " 'rule',\n",
       " 'the',\n",
       " 'day',\n",
       " ',',\n",
       " 'and',\n",
       " 'the',\n",
       " 'lesser',\n",
       " 'light',\n",
       " 'to',\n",
       " 'rule',\n",
       " 'the',\n",
       " 'nig',\n",
       " 'he',\n",
       " 'made',\n",
       " 'the',\n",
       " 'stars',\n",
       " 'also',\n",
       " '.',\n",
       " 'and',\n",
       " 'god',\n",
       " 'set',\n",
       " 'them',\n",
       " 'in',\n",
       " 'the',\n",
       " 'firmament',\n",
       " 'of',\n",
       " 'the',\n",
       " 'heaven',\n",
       " 'to',\n",
       " 'give',\n",
       " 'light',\n",
       " 'upon',\n",
       " 'the',\n",
       " 'earth',\n",
       " ',',\n",
       " 'and',\n",
       " 'to',\n",
       " 'rule',\n",
       " 'over',\n",
       " 'the',\n",
       " 'day',\n",
       " 'and',\n",
       " 'over',\n",
       " 'the',\n",
       " 'night',\n",
       " ',',\n",
       " 'and',\n",
       " 'to',\n",
       " 'divide',\n",
       " 'the',\n",
       " 'light',\n",
       " 'from',\n",
       " 'the',\n",
       " 'darkne',\n",
       " 'and',\n",
       " 'god',\n",
       " 'saw',\n",
       " 'that',\n",
       " 'it',\n",
       " 'was',\n",
       " 'good',\n",
       " '.',\n",
       " 'and',\n",
       " 'the',\n",
       " 'evening',\n",
       " 'and',\n",
       " 'the',\n",
       " 'morning',\n",
       " 'were',\n",
       " 'the',\n",
       " 'fourth',\n",
       " 'day',\n",
       " '.',\n",
       " 'and',\n",
       " 'god',\n",
       " 'said',\n",
       " ',',\n",
       " 'let',\n",
       " 'the',\n",
       " 'waters',\n",
       " 'bring',\n",
       " 'forth',\n",
       " 'abundantly',\n",
       " 'the',\n",
       " 'moving',\n",
       " 'creature',\n",
       " 'that',\n",
       " 'hath',\n",
       " 'life',\n",
       " ',',\n",
       " 'and',\n",
       " 'fowl',\n",
       " 'that',\n",
       " 'may',\n",
       " 'fly',\n",
       " 'above',\n",
       " 'the',\n",
       " 'earth',\n",
       " 'in',\n",
       " 'the',\n",
       " 'open',\n",
       " 'firmament',\n",
       " 'of',\n",
       " 'heaven',\n",
       " '.',\n",
       " 'and',\n",
       " 'god',\n",
       " 'created',\n",
       " 'great',\n",
       " 'whales',\n",
       " ',',\n",
       " 'and',\n",
       " 'every',\n",
       " 'living',\n",
       " 'creature',\n",
       " 'that',\n",
       " 'moveth',\n",
       " ',',\n",
       " 'which',\n",
       " 'the',\n",
       " 'waters',\n",
       " 'brought',\n",
       " 'forth',\n",
       " 'abundantly',\n",
       " ',',\n",
       " 'after',\n",
       " 'their',\n",
       " 'kind',\n",
       " ',',\n",
       " 'and',\n",
       " 'every',\n",
       " 'winged',\n",
       " 'fowl',\n",
       " 'after',\n",
       " 'his',\n",
       " 'ki',\n",
       " 'and',\n",
       " 'god',\n",
       " 'saw',\n",
       " 'that',\n",
       " 'it',\n",
       " 'was',\n",
       " 'good',\n",
       " '.',\n",
       " 'and',\n",
       " 'god',\n",
       " 'blessed',\n",
       " 'them',\n",
       " ',',\n",
       " 'saying',\n",
       " ',',\n",
       " 'be',\n",
       " 'fruitful',\n",
       " ',',\n",
       " 'and',\n",
       " 'multiply',\n",
       " ',',\n",
       " 'and',\n",
       " 'fill',\n",
       " 'the',\n",
       " 'waters',\n",
       " 'in',\n",
       " 'the',\n",
       " 'seas',\n",
       " ',',\n",
       " 'and',\n",
       " 'let',\n",
       " 'fowl',\n",
       " 'multiply',\n",
       " 'in',\n",
       " 'the',\n",
       " 'earth',\n",
       " '.',\n",
       " 'and',\n",
       " 'the',\n",
       " 'evening',\n",
       " 'and',\n",
       " 'the',\n",
       " 'morning',\n",
       " 'were',\n",
       " 'the',\n",
       " 'fifth',\n",
       " 'day',\n",
       " '.',\n",
       " 'and',\n",
       " 'god',\n",
       " 'said',\n",
       " ',',\n",
       " 'let',\n",
       " 'the',\n",
       " 'earth',\n",
       " 'bring',\n",
       " 'forth',\n",
       " 'the',\n",
       " 'living',\n",
       " 'creature',\n",
       " 'after',\n",
       " 'his',\n",
       " 'kind',\n",
       " ',',\n",
       " 'cattle',\n",
       " ',',\n",
       " 'and',\n",
       " 'creeping',\n",
       " 'thing',\n",
       " ',',\n",
       " 'and',\n",
       " 'beast',\n",
       " 'of',\n",
       " 'the',\n",
       " 'earth',\n",
       " 'after',\n",
       " 'his',\n",
       " 'ki',\n",
       " 'and',\n",
       " 'it',\n",
       " 'was',\n",
       " 'so',\n",
       " '.',\n",
       " 'and',\n",
       " 'god',\n",
       " 'made',\n",
       " 'the',\n",
       " 'beast',\n",
       " 'of',\n",
       " 'the',\n",
       " 'earth',\n",
       " 'after',\n",
       " 'his',\n",
       " 'kind',\n",
       " ',',\n",
       " 'and',\n",
       " 'cattle',\n",
       " 'after',\n",
       " 'their',\n",
       " 'kind',\n",
       " ',',\n",
       " 'and',\n",
       " 'every',\n",
       " 'thing',\n",
       " 'that',\n",
       " 'creepeth',\n",
       " 'upon',\n",
       " 'the',\n",
       " 'earth',\n",
       " 'after',\n",
       " 'his',\n",
       " 'ki',\n",
       " 'and',\n",
       " 'god',\n",
       " 'saw',\n",
       " 'that',\n",
       " 'it',\n",
       " 'was',\n",
       " 'good',\n",
       " '.',\n",
       " 'and',\n",
       " 'god',\n",
       " 'said',\n",
       " ',',\n",
       " 'let',\n",
       " 'us',\n",
       " 'make',\n",
       " 'man',\n",
       " 'in',\n",
       " 'our',\n",
       " 'image',\n",
       " ',',\n",
       " 'after',\n",
       " 'our',\n",
       " 'likene',\n",
       " 'and',\n",
       " 'let',\n",
       " 'them',\n",
       " 'have',\n",
       " 'dominion',\n",
       " 'over',\n",
       " 'the',\n",
       " 'fish',\n",
       " 'of',\n",
       " 'the',\n",
       " 'sea',\n",
       " ',',\n",
       " 'and',\n",
       " 'over',\n",
       " 'the',\n",
       " 'fowl',\n",
       " 'of',\n",
       " 'the',\n",
       " 'air',\n",
       " ',',\n",
       " 'and',\n",
       " 'over',\n",
       " 'the',\n",
       " 'cattle',\n",
       " ',',\n",
       " 'and',\n",
       " 'over',\n",
       " 'all',\n",
       " 'the',\n",
       " 'earth',\n",
       " ',',\n",
       " 'and',\n",
       " 'over',\n",
       " 'every',\n",
       " 'creeping',\n",
       " 'thing',\n",
       " 'that',\n",
       " 'creepeth',\n",
       " 'upon',\n",
       " 'the',\n",
       " 'earth',\n",
       " '.',\n",
       " 'so',\n",
       " 'god',\n",
       " 'created',\n",
       " 'man',\n",
       " 'in',\n",
       " 'his',\n",
       " 'own',\n",
       " 'image',\n",
       " ',',\n",
       " 'in',\n",
       " 'the',\n",
       " 'image',\n",
       " 'of',\n",
       " 'god',\n",
       " 'created',\n",
       " 'he',\n",
       " 'him',\n",
       " ';',\n",
       " 'male',\n",
       " 'and',\n",
       " 'female',\n",
       " 'created',\n",
       " 'he',\n",
       " 'them',\n",
       " '.',\n",
       " 'and',\n",
       " 'god',\n",
       " 'blessed',\n",
       " 'them',\n",
       " ',',\n",
       " 'and',\n",
       " 'god',\n",
       " 'said',\n",
       " 'unto',\n",
       " 'them',\n",
       " ',',\n",
       " 'be',\n",
       " 'fruitful',\n",
       " ',',\n",
       " 'and',\n",
       " 'multiply',\n",
       " ',',\n",
       " 'and',\n",
       " 'replenish',\n",
       " 'the',\n",
       " 'earth',\n",
       " ',',\n",
       " 'and',\n",
       " 'subdue',\n",
       " 'and',\n",
       " 'have',\n",
       " 'dominion',\n",
       " 'over',\n",
       " 'the',\n",
       " 'fish',\n",
       " 'of',\n",
       " 'the',\n",
       " 'sea',\n",
       " ',',\n",
       " 'and',\n",
       " 'over',\n",
       " 'the',\n",
       " 'fowl',\n",
       " 'of',\n",
       " 'the',\n",
       " 'air',\n",
       " ',',\n",
       " 'and',\n",
       " 'over',\n",
       " 'every',\n",
       " 'living',\n",
       " 'thing',\n",
       " 'that',\n",
       " 'moveth',\n",
       " 'upon',\n",
       " 'the',\n",
       " 'earth',\n",
       " '.',\n",
       " 'and',\n",
       " 'god',\n",
       " 'said',\n",
       " ',',\n",
       " 'behold',\n",
       " ',',\n",
       " 'i',\n",
       " 'have',\n",
       " 'given',\n",
       " 'you',\n",
       " 'every',\n",
       " 'herb',\n",
       " 'bearing',\n",
       " 'seed',\n",
       " ',',\n",
       " 'which',\n",
       " 'is',\n",
       " 'upon',\n",
       " 'the',\n",
       " 'face',\n",
       " 'of',\n",
       " 'all',\n",
       " 'the',\n",
       " 'earth',\n",
       " ',',\n",
       " 'and',\n",
       " 'every',\n",
       " 'tree',\n",
       " ',',\n",
       " 'in',\n",
       " 'the',\n",
       " 'which',\n",
       " 'is',\n",
       " 'the',\n",
       " 'fruit',\n",
       " 'of',\n",
       " 'a',\n",
       " 'tree',\n",
       " 'yielding',\n",
       " 'seed',\n",
       " ';',\n",
       " 'to',\n",
       " 'you',\n",
       " 'it',\n",
       " 'shall',\n",
       " 'be',\n",
       " 'for',\n",
       " 'meat',\n",
       " '.',\n",
       " 'and',\n",
       " 'to',\n",
       " 'every',\n",
       " 'beast',\n",
       " 'of',\n",
       " 'the',\n",
       " 'earth',\n",
       " ',',\n",
       " 'and',\n",
       " 'to',\n",
       " 'every',\n",
       " 'fowl',\n",
       " 'of',\n",
       " 'the',\n",
       " 'air',\n",
       " ',',\n",
       " 'and',\n",
       " 'to',\n",
       " 'every',\n",
       " 'thing',\n",
       " 'that',\n",
       " 'creepeth',\n",
       " 'upon',\n",
       " 'the',\n",
       " 'earth',\n",
       " ',',\n",
       " 'wherein',\n",
       " 'there',\n",
       " 'is',\n",
       " 'life',\n",
       " ',',\n",
       " 'i',\n",
       " 'have',\n",
       " 'given',\n",
       " 'every',\n",
       " 'green',\n",
       " 'herb',\n",
       " 'for',\n",
       " 'me',\n",
       " 'and',\n",
       " 'it',\n",
       " 'was',\n",
       " 'so',\n",
       " '.',\n",
       " 'and',\n",
       " 'god',\n",
       " 'saw',\n",
       " 'every',\n",
       " 'thing',\n",
       " 'that',\n",
       " 'he',\n",
       " 'had',\n",
       " 'made',\n",
       " ',',\n",
       " 'and',\n",
       " ',',\n",
       " 'behold',\n",
       " ',',\n",
       " 'it',\n",
       " 'was',\n",
       " 'very',\n",
       " 'good',\n",
       " '.',\n",
       " 'and',\n",
       " 'the',\n",
       " 'evening',\n",
       " 'and',\n",
       " 'the',\n",
       " 'morning',\n",
       " 'were',\n",
       " 'the',\n",
       " 'sixth',\n",
       " 'day',\n",
       " '.',\n",
       " 'thus',\n",
       " 'the',\n",
       " 'heavens',\n",
       " 'and',\n",
       " 'the',\n",
       " 'earth',\n",
       " 'were',\n",
       " 'finished',\n",
       " ',',\n",
       " 'and',\n",
       " 'all',\n",
       " 'the',\n",
       " 'host',\n",
       " 'of',\n",
       " 'them',\n",
       " '.',\n",
       " 'and',\n",
       " 'on',\n",
       " 'the',\n",
       " 'seventh',\n",
       " 'day',\n",
       " 'god',\n",
       " 'ended',\n",
       " 'his',\n",
       " 'work',\n",
       " 'which',\n",
       " 'he',\n",
       " 'had',\n",
       " 'made',\n",
       " ';',\n",
       " 'and',\n",
       " 'he',\n",
       " 'rested',\n",
       " 'on',\n",
       " 'the',\n",
       " 'seventh',\n",
       " 'day',\n",
       " 'from',\n",
       " 'all',\n",
       " 'his',\n",
       " 'work',\n",
       " 'which',\n",
       " 'he',\n",
       " 'had',\n",
       " 'made',\n",
       " '.',\n",
       " 'and',\n",
       " 'god',\n",
       " 'blessed',\n",
       " 'the',\n",
       " 'seventh',\n",
       " 'day',\n",
       " ',',\n",
       " 'and',\n",
       " 'sanctified',\n",
       " 'it',\n",
       " ':',\n",
       " 'because',\n",
       " 'that',\n",
       " 'in',\n",
       " 'it',\n",
       " 'he',\n",
       " 'had',\n",
       " 'rested',\n",
       " 'from',\n",
       " 'all',\n",
       " 'his',\n",
       " 'work',\n",
       " 'which',\n",
       " 'god',\n",
       " 'created',\n",
       " 'and',\n",
       " 'made',\n",
       " '.',\n",
       " 'these',\n",
       " 'are',\n",
       " 'the',\n",
       " 'generations',\n",
       " 'of',\n",
       " 'the',\n",
       " 'heavens',\n",
       " 'and',\n",
       " 'of',\n",
       " 'the',\n",
       " 'earth',\n",
       " 'when',\n",
       " 'they',\n",
       " 'were',\n",
       " 'created',\n",
       " ',',\n",
       " 'in',\n",
       " 'the',\n",
       " 'day',\n",
       " 'that',\n",
       " 'the',\n",
       " ...]"
      ]
     },
     "execution_count": 41,
     "metadata": {},
     "output_type": "execute_result"
    }
   ],
   "source": [
    "text3 = book.text3\n",
    "[letter.lower() for letter in text3]"
   ]
  },
  {
   "cell_type": "code",
   "execution_count": 42,
   "id": "b7730071-c3f3-4d26-8a5a-5a4f0639d1ca",
   "metadata": {},
   "outputs": [
    {
     "data": {
      "text/plain": [
       "0"
      ]
     },
     "execution_count": 42,
     "metadata": {},
     "output_type": "execute_result"
    }
   ],
   "source": [
    "colors.index('blue')"
   ]
  },
  {
   "cell_type": "markdown",
   "id": "decdb575-d083-4a54-8523-375489926f60",
   "metadata": {},
   "source": [
    "## cased, uncased: 조건을 위한 함수\n",
    "- 변환: upper(), lower(), title(), seapcase()\n",
    "- 형태 체크: 'isupper(), islower(), istitle()'\n",
    "    - 'endswith(<string>), startwith(<string>)'\n",
    "    - isalpha(): 문자냐"
   ]
  },
  {
   "cell_type": "code",
   "execution_count": 35,
   "id": "700290aa-7eba-49a5-97cb-1cb3b2366f06",
   "metadata": {},
   "outputs": [
    {
     "data": {
      "text/plain": [
       "'Word'"
      ]
     },
     "execution_count": 35,
     "metadata": {},
     "output_type": "execute_result"
    }
   ],
   "source": [
    "'woRd'.title() # 첫글자 대문자, 나머지 소문자"
   ]
  },
  {
   "cell_type": "code",
   "execution_count": 36,
   "id": "d706e541-b025-41a8-89e3-b615f7813360",
   "metadata": {},
   "outputs": [
    {
     "data": {
      "text/plain": [
       "'WORd'"
      ]
     },
     "execution_count": 36,
     "metadata": {},
     "output_type": "execute_result"
    }
   ],
   "source": [
    "'worD'.swapcase() # 대문자를 소문자로, 소문자를 대문자로 "
   ]
  },
  {
   "cell_type": "code",
   "execution_count": 37,
   "id": "90bd4fc3-6b48-4f28-8ecc-349d0fb1768a",
   "metadata": {},
   "outputs": [
    {
     "data": {
      "text/plain": [
       "False"
      ]
     },
     "execution_count": 37,
     "metadata": {},
     "output_type": "execute_result"
    }
   ],
   "source": [
    "'Word'.isupper()"
   ]
  },
  {
   "cell_type": "code",
   "execution_count": 38,
   "id": "dc766a9a-8383-423a-97dc-3ef8525ddba6",
   "metadata": {},
   "outputs": [
    {
     "data": {
      "text/plain": [
       "True"
      ]
     },
     "execution_count": 38,
     "metadata": {},
     "output_type": "execute_result"
    }
   ],
   "source": [
    "'word'.startswith('w')"
   ]
  },
  {
   "cell_type": "code",
   "execution_count": 39,
   "id": "74e1e9f3-7eba-4e61-a5dd-0ffbc7f37ec5",
   "metadata": {},
   "outputs": [
    {
     "data": {
      "text/plain": [
       "False"
      ]
     },
     "execution_count": 39,
     "metadata": {},
     "output_type": "execute_result"
    }
   ],
   "source": [
    "','.isalpha()"
   ]
  },
  {
   "cell_type": "code",
   "execution_count": 47,
   "id": "33ac1343-761a-4d4f-8d36-59b00f17cb6f",
   "metadata": {},
   "outputs": [
    {
     "data": {
      "text/plain": [
       "{'comfortableness',\n",
       " 'honourableness',\n",
       " 'immutableness',\n",
       " 'indispensableness',\n",
       " 'indomitableness',\n",
       " 'intolerableness',\n",
       " 'palpableness',\n",
       " 'reasonableness',\n",
       " 'uncomfortableness'}"
      ]
     },
     "execution_count": 47,
     "metadata": {},
     "output_type": "execute_result"
    }
   ],
   "source": [
    "# text1에서 'ableness'로 끝나는 단어를 중복없이, 정렬해서\n",
    "set([word for word in text1.tokens if word.endswith('ableness')])"
   ]
  },
  {
   "cell_type": "code",
   "execution_count": 40,
   "id": "82b85ae9-361f-4e1a-be3d-c025f5bff9b7",
   "metadata": {},
   "outputs": [
    {
     "data": {
      "text/plain": [
       "['sovereignty', 'sovereignties', 'sovereignty']"
      ]
     },
     "execution_count": 40,
     "metadata": {},
     "output_type": "execute_result"
    }
   ],
   "source": [
    "# text4에서 'gnt'가 포함된 단어들을 소문자로 리스트 반환\n",
    "\n",
    "[word.lower() for word in set(text4.tokens) if 'gnt' in word] # 중복이 남아있음 대소문자 구분하기 때문에\n",
    "# set함수 쓸 때 Sovereignty와 sovereignty가 다른 것으로 취급, 그 다음에 lower을 하니까 중복이 남아있음"
   ]
  },
  {
   "cell_type": "code",
   "execution_count": 55,
   "id": "86a0cf90-2c73-4699-ac61-5b567e0f18c5",
   "metadata": {},
   "outputs": [
    {
     "data": {
      "text/plain": [
       "{'sovereignties', 'sovereignty'}"
      ]
     },
     "execution_count": 55,
     "metadata": {},
     "output_type": "execute_result"
    }
   ],
   "source": [
    "set([word.lower() for word in text4.tokens if 'gnt' in word])"
   ]
  },
  {
   "cell_type": "markdown",
   "id": "71e7b6e5-b15c-4a95-8669-52b788cd45b5",
   "metadata": {},
   "source": [
    "## NLTK\n",
    "- Frequency Distribution: 단어가 몇 번 출현했는지 (빈도수)\n",
    "- 텍스트의 성질 알기 위해\n",
    "    - 단어 개수\n",
    "    - 단어 빈도수"
   ]
  },
  {
   "cell_type": "code",
   "execution_count": 42,
   "id": "2561635e-b56b-4370-b6d8-5bde47b93bfe",
   "metadata": {},
   "outputs": [
    {
     "data": {
      "text/plain": [
       "FreqDist({',': 18713, 'the': 13721, '.': 6862, 'of': 6536, 'and': 6024, 'a': 4569, 'to': 4542, ';': 4072, 'in': 3916, 'that': 2982, ...})"
      ]
     },
     "execution_count": 42,
     "metadata": {},
     "output_type": "execute_result"
    }
   ],
   "source": [
    "from nltk import FreqDist\n",
    "fdist = FreqDist(text1)\n",
    "fdist"
   ]
  },
  {
   "cell_type": "code",
   "execution_count": 69,
   "id": "f3b2d4c1-c741-43c0-8e62-e8417a54eb68",
   "metadata": {},
   "outputs": [
    {
     "data": {
      "text/plain": [
       "612"
      ]
     },
     "execution_count": 69,
     "metadata": {},
     "output_type": "execute_result"
    }
   ],
   "source": [
    "fdist['The']"
   ]
  },
  {
   "cell_type": "code",
   "execution_count": 70,
   "id": "fa00099f-90ea-4fee-b6a4-8d0f7a6f81b4",
   "metadata": {},
   "outputs": [
    {
     "data": {
      "text/plain": [
       "13721"
      ]
     },
     "execution_count": 70,
     "metadata": {},
     "output_type": "execute_result"
    }
   ],
   "source": [
    "fdist['the']"
   ]
  },
  {
   "cell_type": "code",
   "execution_count": 63,
   "id": "175b66f4-9252-4aa0-ac3f-62ff7040eeef",
   "metadata": {},
   "outputs": [
    {
     "data": {
      "text/plain": [
       "[(',', 18713),\n",
       " ('the', 13721),\n",
       " ('.', 6862),\n",
       " ('of', 6536),\n",
       " ('and', 6024),\n",
       " ('a', 4569),\n",
       " ('to', 4542),\n",
       " (';', 4072),\n",
       " ('in', 3916),\n",
       " ('that', 2982)]"
      ]
     },
     "execution_count": 63,
     "metadata": {},
     "output_type": "execute_result"
    }
   ],
   "source": [
    "fdist.most_common(10)"
   ]
  },
  {
   "cell_type": "code",
   "execution_count": 64,
   "id": "e36ad31e-80d7-4879-bfe9-155da9a5c1a4",
   "metadata": {},
   "outputs": [
    {
     "data": {
      "text/plain": [
       "(2982, 2982)"
      ]
     },
     "execution_count": 64,
     "metadata": {},
     "output_type": "execute_result"
    }
   ],
   "source": [
    "fdist['that'], text1.count('that') #같음!"
   ]
  },
  {
   "cell_type": "code",
   "execution_count": 65,
   "id": "abef0307-7800-452c-b33b-05f6deb25cdc",
   "metadata": {},
   "outputs": [
    {
     "data": {
      "text/plain": [
       "0.011433216138394826"
      ]
     },
     "execution_count": 65,
     "metadata": {},
     "output_type": "execute_result"
    }
   ],
   "source": [
    "fdist.freq('that')"
   ]
  },
  {
   "cell_type": "code",
   "execution_count": 43,
   "id": "949c516d-de35-4965-a1e2-2d0867e79039",
   "metadata": {},
   "outputs": [
    {
     "data": {
      "image/png": "[encoded data removed]",
      "text/plain": [
       "<Figure size 432x288 with 1 Axes>"
      ]
     },
     "metadata": {
      "needs_background": "light"
     },
     "output_type": "display_data"
    },
    {
     "data": {
      "text/plain": [
       "<AxesSubplot:xlabel='Samples', ylabel='Counts'>"
      ]
     },
     "execution_count": 43,
     "metadata": {},
     "output_type": "execute_result"
    }
   ],
   "source": [
    "fdist.plot(50, cumulative=False)"
   ]
  },
  {
   "cell_type": "code",
   "execution_count": 67,
   "id": "280efd2e-7b27-489e-830c-76dc442b00a6",
   "metadata": {},
   "outputs": [
    {
     "data": {
      "text/plain": [
       "9002"
      ]
     },
     "execution_count": 67,
     "metadata": {},
     "output_type": "execute_result"
    }
   ],
   "source": [
    "# 가장 빈번하지 않은 => 1번 나타나는 단어들\n",
    "# 알파벳만 리스트에 담아보기\n",
    "len(fdist.hapaxes())"
   ]
  },
  {
   "cell_type": "code",
   "execution_count": 68,
   "id": "1a6d6c86-7d92-4d80-8f93-a5adaf000dbe",
   "metadata": {
    "collapsed": true,
    "jupyter": {
     "outputs_hidden": true
    },
    "tags": []
   },
   "outputs": [
    {
     "data": {
      "text/plain": [
       "['Herman',\n",
       " 'Melville',\n",
       " 'ETYMOLOGY',\n",
       " 'Late',\n",
       " 'Consumptive',\n",
       " 'School',\n",
       " 'threadbare',\n",
       " 'lexicons',\n",
       " 'mockingly',\n",
       " 'flags',\n",
       " 'mortality',\n",
       " 'signification',\n",
       " 'HACKLUYT',\n",
       " 'Sw',\n",
       " 'HVAL',\n",
       " 'roundness',\n",
       " 'Dut',\n",
       " 'Ger',\n",
       " 'WALLEN',\n",
       " 'WALW',\n",
       " 'IAN',\n",
       " 'RICHARDSON',\n",
       " 'KETOS',\n",
       " 'GREEK',\n",
       " 'CETUS',\n",
       " 'LATIN',\n",
       " 'WHOEL',\n",
       " 'ANGLO',\n",
       " 'SAXON',\n",
       " 'WAL',\n",
       " 'HWAL',\n",
       " 'SWEDISH',\n",
       " 'ICELANDIC',\n",
       " 'BALEINE',\n",
       " 'BALLENA',\n",
       " 'FEGEE',\n",
       " 'ERROMANGOAN',\n",
       " 'Librarian',\n",
       " 'painstaking',\n",
       " 'burrower',\n",
       " 'grub',\n",
       " 'Vaticans',\n",
       " 'stalls',\n",
       " 'higgledy',\n",
       " 'piggledy',\n",
       " 'gospel',\n",
       " 'promiscuously',\n",
       " 'commentator',\n",
       " 'belongest',\n",
       " 'sallow',\n",
       " 'Pale',\n",
       " 'Sherry',\n",
       " 'loves',\n",
       " 'bluntly',\n",
       " 'Subs',\n",
       " 'thankless',\n",
       " 'Hampton',\n",
       " 'Court',\n",
       " 'hie',\n",
       " 'refugees',\n",
       " 'pampered',\n",
       " 'Michael',\n",
       " 'Raphael',\n",
       " 'unsplinterable',\n",
       " 'GENESIS',\n",
       " 'JOB',\n",
       " 'JONAH',\n",
       " 'punish',\n",
       " 'ISAIAH',\n",
       " 'soever',\n",
       " 'cometh',\n",
       " 'incontinently',\n",
       " 'perisheth',\n",
       " 'PLUTARCH',\n",
       " 'MORALS',\n",
       " 'breedeth',\n",
       " 'Whirlpooles',\n",
       " 'Balaene',\n",
       " 'arpens',\n",
       " 'PLINY',\n",
       " 'Scarcely',\n",
       " 'TOOKE',\n",
       " 'LUCIAN',\n",
       " 'TRUE',\n",
       " 'catched',\n",
       " 'OCTHER',\n",
       " 'VERBAL',\n",
       " 'TAKEN',\n",
       " 'MOUTH',\n",
       " 'ALFRED',\n",
       " 'gudgeon',\n",
       " 'retires',\n",
       " 'MONTAIGNE',\n",
       " 'APOLOGY',\n",
       " 'RAIMOND',\n",
       " 'SEBOND',\n",
       " 'Nick',\n",
       " 'RABELAIS',\n",
       " 'cartloads',\n",
       " 'STOWE',\n",
       " 'ANNALS',\n",
       " 'LORD',\n",
       " 'BACON',\n",
       " 'Touching',\n",
       " 'ork',\n",
       " 'DEATH',\n",
       " 'sovereignest',\n",
       " 'bruise',\n",
       " 'HAMLET',\n",
       " 'leach',\n",
       " 'Mote',\n",
       " 'availle',\n",
       " 'returne',\n",
       " 'againe',\n",
       " 'worker',\n",
       " 'Dinting',\n",
       " 'paine',\n",
       " 'thro',\n",
       " 'maine',\n",
       " 'FAERIE',\n",
       " 'Immense',\n",
       " 'til',\n",
       " 'DAVENANT',\n",
       " 'PREFACE',\n",
       " 'GONDIBERT',\n",
       " 'spermacetti',\n",
       " 'Hosmannus',\n",
       " 'Nescio',\n",
       " 'VIDE',\n",
       " 'Spencer',\n",
       " 'Talus',\n",
       " 'flail',\n",
       " 'threatens',\n",
       " 'jav',\n",
       " 'lins',\n",
       " 'WALLER',\n",
       " 'SUMMER',\n",
       " 'ISLANDS',\n",
       " 'Commonwealth',\n",
       " 'Civitas',\n",
       " 'OPENING',\n",
       " 'SENTENCE',\n",
       " 'HOBBES',\n",
       " 'LEVIATHAN',\n",
       " 'Silly',\n",
       " 'Mansoul',\n",
       " 'chewing',\n",
       " 'sprat',\n",
       " 'PILGRIM',\n",
       " 'PROGRESS',\n",
       " 'Created',\n",
       " 'PARADISE',\n",
       " 'LOST',\n",
       " 'Hugest',\n",
       " 'Stretched',\n",
       " 'Draws',\n",
       " 'FULLLER',\n",
       " 'PROFANE',\n",
       " 'HOLY',\n",
       " 'STATE',\n",
       " 'DRYDEN',\n",
       " 'ANNUS',\n",
       " 'MIRABILIS',\n",
       " 'aground',\n",
       " 'EDGE',\n",
       " 'TEN',\n",
       " 'SPITZBERGEN',\n",
       " 'PURCHAS',\n",
       " 'wantonness',\n",
       " 'fuzzing',\n",
       " 'vents',\n",
       " 'HERBERT',\n",
       " 'INTO',\n",
       " 'ASIA',\n",
       " 'AFRICA',\n",
       " 'SCHOUTEN',\n",
       " 'SIXTH',\n",
       " 'CIRCUMNAVIGATION',\n",
       " 'Elbe',\n",
       " 'ducat',\n",
       " 'herrings',\n",
       " 'GREENLAND',\n",
       " 'Several',\n",
       " 'Fife',\n",
       " 'Anno',\n",
       " 'Pitferren',\n",
       " 'SIBBALD',\n",
       " 'FIFE',\n",
       " 'KINROSS',\n",
       " 'Myself',\n",
       " 'Sperma',\n",
       " 'ceti',\n",
       " 'fierceness',\n",
       " 'RICHARD',\n",
       " 'STRAFFORD',\n",
       " 'LETTER',\n",
       " 'BERMUDAS',\n",
       " 'PHIL',\n",
       " 'TRANS',\n",
       " 'PRIMER',\n",
       " 'COWLEY',\n",
       " 'frequendy',\n",
       " 'insupportable',\n",
       " 'disorder',\n",
       " 'ULLOA',\n",
       " 'SOUTH',\n",
       " 'AMERICA',\n",
       " 'sylphs',\n",
       " 'petticoat',\n",
       " 'Oft',\n",
       " 'Tho',\n",
       " 'RAPE',\n",
       " 'LOCK',\n",
       " 'NAT',\n",
       " 'wales',\n",
       " 'JOHNSON',\n",
       " 'COOK',\n",
       " 'dung',\n",
       " 'lime',\n",
       " 'juniper',\n",
       " 'UNO',\n",
       " 'VON',\n",
       " 'TROIL',\n",
       " 'LETTERS',\n",
       " 'BANKS',\n",
       " 'SOLANDER',\n",
       " 'Nantuckois',\n",
       " 'JEFFERSON',\n",
       " 'MEMORIAL',\n",
       " 'MINISTER',\n",
       " 'REFERENCE',\n",
       " 'PARLIAMENT',\n",
       " 'SOMEWHERE',\n",
       " 'guarding',\n",
       " 'protecting',\n",
       " 'robbers',\n",
       " 'BLACKSTONE',\n",
       " 'Rodmond',\n",
       " 'suspends',\n",
       " 'attends',\n",
       " 'FALCONER',\n",
       " 'Bright',\n",
       " 'roofs',\n",
       " 'domes',\n",
       " 'rockets',\n",
       " 'Around',\n",
       " 'unwieldy',\n",
       " 'COWPER',\n",
       " 'VISIT',\n",
       " 'LONDON',\n",
       " 'HUNTER',\n",
       " 'DISSECTION',\n",
       " 'SMALL',\n",
       " 'SIZED',\n",
       " 'aorta',\n",
       " 'gushing',\n",
       " 'PALEY',\n",
       " 'THEOLOGY',\n",
       " 'mammiferous',\n",
       " 'hind',\n",
       " 'BARON',\n",
       " 'CUVIER',\n",
       " 'COLNETT',\n",
       " 'PURPOSE',\n",
       " 'EXTENDING',\n",
       " 'SPERMACETI',\n",
       " 'Floundered',\n",
       " 'chace',\n",
       " 'peopling',\n",
       " 'Gather',\n",
       " 'Led',\n",
       " 'instincts',\n",
       " 'trackless',\n",
       " 'Assaulted',\n",
       " 'voracious',\n",
       " 'spiral',\n",
       " 'MONTGOMERY',\n",
       " 'WORLD',\n",
       " 'FLOOD',\n",
       " 'Paean',\n",
       " 'fatter',\n",
       " 'Flounders',\n",
       " 'CHARLES',\n",
       " 'LAMB',\n",
       " 'TRIUMPH',\n",
       " 'OBED',\n",
       " 'Susan',\n",
       " 'HAWTHORNE',\n",
       " 'TWICE',\n",
       " 'bespeak',\n",
       " 'raal',\n",
       " 'COOPER',\n",
       " 'PILOT',\n",
       " 'Berlin',\n",
       " 'Gazette',\n",
       " 'ECKERMANN',\n",
       " 'CONVERSATIONS',\n",
       " 'GOETHE',\n",
       " 'ESSEX',\n",
       " 'WAS',\n",
       " 'ATTACKED',\n",
       " 'FINALLY',\n",
       " 'DESTROYED',\n",
       " 'OWEN',\n",
       " 'CHACE',\n",
       " 'FIRST',\n",
       " 'SAID',\n",
       " 'VESSEL',\n",
       " 'YORK',\n",
       " 'piping',\n",
       " 'dimmed',\n",
       " 'phospher',\n",
       " 'ELIZABETH',\n",
       " 'OAKES',\n",
       " 'SMITH',\n",
       " 'amounted',\n",
       " 'SCORESBY',\n",
       " 'Mad',\n",
       " 'agonies',\n",
       " 'endures',\n",
       " 'infuriated',\n",
       " 'rears',\n",
       " 'snaps',\n",
       " 'propelled',\n",
       " 'observers',\n",
       " 'opportunities',\n",
       " 'habitudes',\n",
       " 'BEALE',\n",
       " 'offensively',\n",
       " 'artful',\n",
       " 'mischievous',\n",
       " 'FREDERICK',\n",
       " 'DEBELL',\n",
       " 'October',\n",
       " 'Raise',\n",
       " 'ay',\n",
       " 'THAR',\n",
       " 'bowes',\n",
       " 'os',\n",
       " 'ROSS',\n",
       " 'ETCHINGS',\n",
       " 'CRUIZE',\n",
       " 'Globe',\n",
       " 'transactions',\n",
       " 'relate',\n",
       " 'HUSSEY',\n",
       " 'SURVIVORS',\n",
       " 'parried',\n",
       " 'MISSIONARY',\n",
       " 'JOURNAL',\n",
       " 'TYERMAN',\n",
       " 'boldest',\n",
       " 'persevering',\n",
       " 'REPORT',\n",
       " 'DANIEL',\n",
       " 'SPEECH',\n",
       " 'SENATE',\n",
       " 'APPLICATION',\n",
       " 'ERECTION',\n",
       " 'BREAKWATER',\n",
       " 'CAPTORS',\n",
       " 'WHALEMAN',\n",
       " 'ADVENTURES',\n",
       " 'BIOGRAPHY',\n",
       " 'GATHERED',\n",
       " 'HOMEWARD',\n",
       " 'COMMODORE',\n",
       " 'PREBLE',\n",
       " 'REV',\n",
       " 'CHEEVER',\n",
       " 'MUTINEER',\n",
       " 'BROTHER',\n",
       " 'ANOTHER',\n",
       " 'MCCULLOCH',\n",
       " 'COMMERCIAL',\n",
       " 'reciprocal',\n",
       " 'clews',\n",
       " 'SOMETHING',\n",
       " 'UNPUBLISHED',\n",
       " 'CURRENTS',\n",
       " 'Pedestrians',\n",
       " 'recollect',\n",
       " 'gateways',\n",
       " 'VOYAGER',\n",
       " 'ARCTIC',\n",
       " 'NEWSPAPER',\n",
       " 'TAKING',\n",
       " 'RETAKING',\n",
       " 'HOBOMACK',\n",
       " 'MIRIAM',\n",
       " 'FISHERMAN',\n",
       " 'appliance',\n",
       " 'RIBS',\n",
       " 'TRUCKS',\n",
       " 'Terra',\n",
       " 'Del',\n",
       " 'Fuego',\n",
       " 'DARWIN',\n",
       " 'NATURALIST',\n",
       " 'WHARTON',\n",
       " 'Loomings',\n",
       " 'spleen',\n",
       " 'regulating',\n",
       " 'circulation',\n",
       " 'Whenever',\n",
       " 'drizzly',\n",
       " 'hypos',\n",
       " 'philosophical',\n",
       " 'Cato',\n",
       " 'Manhattoes',\n",
       " 'reefs',\n",
       " 'downtown',\n",
       " 'gazers',\n",
       " 'Circumambulate',\n",
       " 'Corlears',\n",
       " 'Coenties',\n",
       " 'Slip',\n",
       " 'Whitehall',\n",
       " 'Posted',\n",
       " 'sentinels',\n",
       " 'spiles',\n",
       " 'pier',\n",
       " 'lath',\n",
       " 'counters',\n",
       " 'desks',\n",
       " 'loitering',\n",
       " 'shady',\n",
       " 'Inlanders',\n",
       " 'lanes',\n",
       " 'alleys',\n",
       " 'attract',\n",
       " 'dale',\n",
       " 'dreamiest',\n",
       " 'shadiest',\n",
       " 'quietest',\n",
       " 'enchanting',\n",
       " 'Saco',\n",
       " 'crucifix',\n",
       " 'Deep',\n",
       " 'mazy',\n",
       " 'Tiger',\n",
       " 'Tennessee',\n",
       " 'Rockaway',\n",
       " 'Persians',\n",
       " 'deity',\n",
       " 'Narcissus',\n",
       " 'ungraspable',\n",
       " 'hazy',\n",
       " 'quarrelsome',\n",
       " 'offices',\n",
       " 'abominate',\n",
       " 'toils',\n",
       " 'trials',\n",
       " 'barques',\n",
       " 'schooners',\n",
       " 'broiling',\n",
       " 'buttered',\n",
       " 'judgmatically',\n",
       " 'peppered',\n",
       " 'reverentially',\n",
       " 'idolatrous',\n",
       " 'dotings',\n",
       " 'ibis',\n",
       " 'roasted',\n",
       " 'bake',\n",
       " 'plumb',\n",
       " 'Van',\n",
       " 'Rensselaers',\n",
       " 'Randolphs',\n",
       " 'Hardicanutes',\n",
       " 'lording',\n",
       " 'tallest',\n",
       " 'decoction',\n",
       " 'Seneca',\n",
       " 'Stoics',\n",
       " 'Testament',\n",
       " 'promptly',\n",
       " 'rub',\n",
       " 'infliction',\n",
       " 'BEING',\n",
       " 'PAID',\n",
       " 'urbane',\n",
       " 'ills',\n",
       " 'monied',\n",
       " 'consign',\n",
       " 'prevalent',\n",
       " 'violate',\n",
       " 'Pythagorean',\n",
       " 'commonalty',\n",
       " 'police',\n",
       " 'surveillance',\n",
       " 'programme',\n",
       " 'solo',\n",
       " 'CONTESTED',\n",
       " 'ELECTION',\n",
       " 'PRESIDENCY',\n",
       " 'UNITED',\n",
       " 'STATES',\n",
       " 'ISHMAEL',\n",
       " 'BLOODY',\n",
       " 'AFFGHANISTAN',\n",
       " 'managers',\n",
       " 'genteel',\n",
       " 'comedies',\n",
       " 'farces',\n",
       " 'cunningly',\n",
       " 'disguises',\n",
       " 'cajoling',\n",
       " 'unbiased',\n",
       " 'freewill',\n",
       " 'discriminating',\n",
       " 'overwhelming',\n",
       " 'undeliverable',\n",
       " 'itch',\n",
       " 'forbidden',\n",
       " 'ignoring',\n",
       " 'lodges',\n",
       " 'Carpet',\n",
       " 'Bag',\n",
       " 'Manhatto',\n",
       " 'candidates',\n",
       " 'penalties',\n",
       " 'Tyre',\n",
       " 'Carthage',\n",
       " 'imported',\n",
       " 'cobblestones',\n",
       " 'bitingly',\n",
       " 'shouldering',\n",
       " 'price',\n",
       " 'fervent',\n",
       " 'asphaltic',\n",
       " 'pavement',\n",
       " 'flinty',\n",
       " 'projections',\n",
       " 'soles',\n",
       " 'Too',\n",
       " 'cheapest',\n",
       " 'cheeriest',\n",
       " 'invitingly',\n",
       " 'particles',\n",
       " 'peer',\n",
       " 'Angel',\n",
       " 'Doom',\n",
       " 'wailing',\n",
       " 'gnashing',\n",
       " 'Wretched',\n",
       " 'entertainment',\n",
       " 'Moving',\n",
       " 'emigrant',\n",
       " 'poverty',\n",
       " 'creak',\n",
       " 'lodgings',\n",
       " 'zephyr',\n",
       " 'hob',\n",
       " 'toasting',\n",
       " 'observest',\n",
       " 'sashless',\n",
       " 'glazier',\n",
       " 'reasonest',\n",
       " 'chinks',\n",
       " 'crannies',\n",
       " 'lint',\n",
       " 'chattering',\n",
       " 'shiverings',\n",
       " 'cob',\n",
       " 'redder',\n",
       " 'Orion',\n",
       " 'glitters',\n",
       " 'conservatories',\n",
       " 'president',\n",
       " 'temperance',\n",
       " 'blubbering',\n",
       " 'straggling',\n",
       " 'wainscots',\n",
       " 'reminding',\n",
       " 'oilpainting',\n",
       " 'besmoked',\n",
       " 'defaced',\n",
       " 'unequal',\n",
       " 'crosslights',\n",
       " 'hags',\n",
       " 'delineate',\n",
       " 'bewitched',\n",
       " 'ponderings',\n",
       " 'boggy',\n",
       " 'soggy',\n",
       " 'squitchy',\n",
       " 'froze',\n",
       " 'heath',\n",
       " 'icebound',\n",
       " 'represents',\n",
       " 'Horner',\n",
       " 'foundered',\n",
       " 'clubs',\n",
       " 'harvesting',\n",
       " 'hacking',\n",
       " 'horrifying',\n",
       " 'Mixed',\n",
       " 'Nathan',\n",
       " 'Swain',\n",
       " 'corkscrew',\n",
       " 'Blanco',\n",
       " 'sojourning',\n",
       " 'fireplaces',\n",
       " 'duskier',\n",
       " 'cockpits',\n",
       " 'rarities',\n",
       " 'Projecting',\n",
       " 'Within',\n",
       " 'shelves',\n",
       " 'flasks',\n",
       " 'bustles',\n",
       " 'deliriums',\n",
       " 'Abominable',\n",
       " 'tumblers',\n",
       " 'cylinders',\n",
       " 'goggling',\n",
       " 'deceitfully',\n",
       " 'tapered',\n",
       " 'Parallel',\n",
       " 'pecked',\n",
       " 'footpads',\n",
       " 'Fill',\n",
       " 'shilling',\n",
       " 'examining',\n",
       " 'SKRIMSHANDER',\n",
       " 'accommodated',\n",
       " 'unoccupied',\n",
       " 'haint',\n",
       " 'pose',\n",
       " 'whalin',\n",
       " 'decidedly',\n",
       " 'objectionable',\n",
       " 'wander',\n",
       " 'Battery',\n",
       " 'ruminating',\n",
       " 'adorning',\n",
       " 'potatoes',\n",
       " 'sartainty',\n",
       " 'diabolically',\n",
       " 'steaks',\n",
       " 'undress',\n",
       " 'looker',\n",
       " 'rioting',\n",
       " 'Grampus',\n",
       " 'seed',\n",
       " 'Feegees',\n",
       " 'tramping',\n",
       " 'Enveloped',\n",
       " 'bedarned',\n",
       " 'eruption',\n",
       " 'officiating',\n",
       " 'brimmers',\n",
       " 'complained',\n",
       " 'potion',\n",
       " 'colds',\n",
       " 'catarrhs',\n",
       " 'liquor',\n",
       " 'arrantest',\n",
       " 'topers',\n",
       " 'obstreperously',\n",
       " 'aloof',\n",
       " 'desirous',\n",
       " 'hilarity',\n",
       " 'coffer',\n",
       " 'Southerner',\n",
       " 'mountaineers',\n",
       " 'Alleghanian',\n",
       " 'missed',\n",
       " 'supernaturally',\n",
       " 'congratulate',\n",
       " 'multiply',\n",
       " 'bachelor',\n",
       " 'abominated',\n",
       " 'tidiest',\n",
       " 'bedwards',\n",
       " 'shan',\n",
       " 'tablecloth',\n",
       " 'Skrimshander',\n",
       " 'bump',\n",
       " 'spraining',\n",
       " 'eider',\n",
       " 'yoking',\n",
       " 'rickety',\n",
       " 'whirlwinds',\n",
       " 'knockings',\n",
       " 'dismissed',\n",
       " 'popped',\n",
       " 'cherishing',\n",
       " 'chuckled',\n",
       " 'chuckle',\n",
       " 'mightily',\n",
       " 'catches',\n",
       " 'bamboozingly',\n",
       " 'overstocked',\n",
       " 'toothpick',\n",
       " 'rayther',\n",
       " 'BROWN',\n",
       " 'slanderin',\n",
       " 'farrago',\n",
       " 'BROKE',\n",
       " 'Sartain',\n",
       " 'Mt',\n",
       " 'Hecla',\n",
       " 'persist',\n",
       " 'mystifying',\n",
       " 'unsay',\n",
       " 'criminal',\n",
       " 'Wall',\n",
       " 'purty',\n",
       " 'sarmon',\n",
       " 'rips',\n",
       " 'tellin',\n",
       " 'bought',\n",
       " 'balmed',\n",
       " 'curios',\n",
       " 'sellin',\n",
       " 'inions',\n",
       " 'fooling',\n",
       " 'idolators',\n",
       " 'Depend',\n",
       " 'reg',\n",
       " 'lar',\n",
       " 'spliced',\n",
       " 'Johnny',\n",
       " 'sprawling',\n",
       " 'Arter',\n",
       " 'glim',\n",
       " 'jiffy',\n",
       " 'irresolute',\n",
       " 'vum',\n",
       " 'WON',\n",
       " 'Folding',\n",
       " 'scrutiny',\n",
       " 'porcupine',\n",
       " 'moccasin',\n",
       " 'ponchos',\n",
       " 'parade',\n",
       " 'rainy',\n",
       " 'remembering',\n",
       " 'commended',\n",
       " 'cobs',\n",
       " 'Nod',\n",
       " 'footfall',\n",
       " 'unlacing',\n",
       " 'blackish',\n",
       " 'plasters',\n",
       " 'inkling',\n",
       " 'Placing',\n",
       " 'crammed',\n",
       " 'scalp',\n",
       " 'mildewed',\n",
       " 'Ignorance',\n",
       " 'parent',\n",
       " 'nonplussed',\n",
       " 'undressing',\n",
       " 'checkered',\n",
       " 'Thirty',\n",
       " 'frogs',\n",
       " 'quaked',\n",
       " 'wrapall',\n",
       " 'dreadnaught',\n",
       " 'fumbled',\n",
       " 'Remembering',\n",
       " 'manikin',\n",
       " 'tenpin',\n",
       " 'andirons',\n",
       " 'jambs',\n",
       " 'bricks',\n",
       " 'appropriate',\n",
       " 'applying',\n",
       " 'hastier',\n",
       " 'withdrawals',\n",
       " 'antics',\n",
       " 'devotee',\n",
       " 'extinguishing',\n",
       " 'unceremoniously',\n",
       " 'bagged',\n",
       " 'sportsman',\n",
       " 'woodcock',\n",
       " 'uncomfortableness',\n",
       " 'deliberating',\n",
       " 'puffed',\n",
       " 'sang',\n",
       " 'Stammering',\n",
       " 'conjured',\n",
       " 'responses',\n",
       " 'debel',\n",
       " 'flourishing',\n",
       " 'Angels',\n",
       " 'flourishings',\n",
       " 'peddlin',\n",
       " 'sleepe',\n",
       " 'grunted',\n",
       " 'gettee',\n",
       " 'motioning',\n",
       " 'comely',\n",
       " 'insured',\n",
       " 'Counterpane',\n",
       " 'parti',\n",
       " 'triangles',\n",
       " 'interminable',\n",
       " 'caper',\n",
       " 'supperless',\n",
       " 'hemisphere',\n",
       " 'sigh',\n",
       " 'Sixteen',\n",
       " 'ached',\n",
       " 'coaches',\n",
       " 'stockinged',\n",
       " 'slippering',\n",
       " 'misbehaviour',\n",
       " 'unendurable',\n",
       " 'stepmothers',\n",
       " 'misfortunes',\n",
       " 'steeped',\n",
       " 'shudderingly',\n",
       " 'confounding',\n",
       " 'soberly',\n",
       " 'recurred',\n",
       " 'predicament',\n",
       " 'unlock',\n",
       " 'bridegroom',\n",
       " 'clasp',\n",
       " 'hugged',\n",
       " 'rouse',\n",
       " 'snore',\n",
       " 'scratch',\n",
       " 'Throwing',\n",
       " 'expostulations',\n",
       " 'unbecomingness',\n",
       " 'matrimonial',\n",
       " 'dawning',\n",
       " 'overture',\n",
       " 'innate',\n",
       " 'compliment',\n",
       " 'civility',\n",
       " 'rudeness',\n",
       " 'toilette',\n",
       " 'dressing',\n",
       " 'donning',\n",
       " 'gaspings',\n",
       " 'booting',\n",
       " 'caterpillar',\n",
       " 'outlandishness',\n",
       " 'manners',\n",
       " 'education',\n",
       " 'undergraduate',\n",
       " 'dreamt',\n",
       " 'cowhide',\n",
       " 'pinched',\n",
       " 'curtains',\n",
       " 'indecorous',\n",
       " 'contented',\n",
       " 'restricting',\n",
       " 'donned',\n",
       " 'lathering',\n",
       " 'unsheathes',\n",
       " 'whets',\n",
       " 'Rogers',\n",
       " 'cutlery',\n",
       " 'Afterwards',\n",
       " 'baton',\n",
       " 'Breakfast',\n",
       " 'pleasantly',\n",
       " 'bountifully',\n",
       " 'laughable',\n",
       " 'bosky',\n",
       " 'unshorn',\n",
       " 'gowns',\n",
       " 'toasted',\n",
       " 'lingers',\n",
       " 'tarried',\n",
       " 'barred',\n",
       " 'Grub',\n",
       " 'Park',\n",
       " 'assurance',\n",
       " 'polish',\n",
       " 'occasioned',\n",
       " 'embarrassed',\n",
       " 'bashfulness',\n",
       " 'duelled',\n",
       " 'winking',\n",
       " 'tastes',\n",
       " 'sheepishly',\n",
       " 'bashful',\n",
       " 'icicle',\n",
       " 'admirer',\n",
       " 'cordially',\n",
       " 'grappling',\n",
       " 'genteelly',\n",
       " 'eschewed',\n",
       " 'undivided',\n",
       " 'circulating',\n",
       " 'nondescripts',\n",
       " 'Chestnut',\n",
       " 'jostle',\n",
       " 'Regent',\n",
       " 'Lascars',\n",
       " 'Bombay',\n",
       " 'Apollo',\n",
       " 'Feegeeans',\n",
       " 'Tongatobooarrs',\n",
       " 'Erromanggoans',\n",
       " 'Pannangians',\n",
       " 'Brighggians',\n",
       " 'weekly',\n",
       " 'Vermonters',\n",
       " 'stalwart',\n",
       " 'frames',\n",
       " 'felled',\n",
       " 'strutting',\n",
       " 'wester',\n",
       " 'bombazine',\n",
       " 'cloak',\n",
       " 'mow',\n",
       " 'gloves',\n",
       " 'joins',\n",
       " 'outfit',\n",
       " 'waistcoats',\n",
       " 'Hay',\n",
       " 'Seed',\n",
       " 'tract',\n",
       " 'dearest',\n",
       " 'pave',\n",
       " 'eggs',\n",
       " 'patrician',\n",
       " 'parks',\n",
       " 'scraggy',\n",
       " 'scoria',\n",
       " 'Herr',\n",
       " 'dowers',\n",
       " 'nieces',\n",
       " 'reservoirs',\n",
       " 'maples',\n",
       " 'bountiful',\n",
       " 'proffer',\n",
       " 'passer',\n",
       " 'cones',\n",
       " 'blossoms',\n",
       " 'superinduced',\n",
       " 'carnation',\n",
       " 'Salem',\n",
       " 'sweethearts',\n",
       " 'Puritanic',\n",
       " 'Whaleman',\n",
       " 'Wrapping',\n",
       " 'Each',\n",
       " 'quote',\n",
       " 'TALBOT',\n",
       " 'Near',\n",
       " 'Desolation',\n",
       " 'SISTER',\n",
       " 'ROBERT',\n",
       " 'WILLIS',\n",
       " 'ELLERY',\n",
       " 'NATHAN',\n",
       " 'COLEMAN',\n",
       " 'WALTER',\n",
       " 'CANNY',\n",
       " 'SETH',\n",
       " 'GLEIG',\n",
       " 'Forming',\n",
       " 'ELIZA',\n",
       " 'MARBLE',\n",
       " 'SHIPMATES',\n",
       " 'EZEKIEL',\n",
       " 'HARDY',\n",
       " 'AUGUST',\n",
       " 'WIDOW',\n",
       " 'Shaking',\n",
       " 'glazed',\n",
       " 'Affected',\n",
       " 'relatives',\n",
       " 'unhealing',\n",
       " 'sympathetically',\n",
       " 'wounds',\n",
       " 'bleed',\n",
       " 'blanks',\n",
       " 'bordered',\n",
       " 'infidelities',\n",
       " 'gnaw',\n",
       " 'resurrections',\n",
       " 'placelessly',\n",
       " 'Goodwin',\n",
       " 'Sands',\n",
       " 'prefix',\n",
       " 'entitle',\n",
       " 'embarks',\n",
       " 'Companies',\n",
       " 'forfeitures',\n",
       " 'immortals',\n",
       " 'unstirring',\n",
       " 'paralysis',\n",
       " 'comforted',\n",
       " 'strive',\n",
       " 'rumor',\n",
       " 'tombs',\n",
       " 'Delightful',\n",
       " 'brevet',\n",
       " ...]"
      ]
     },
     "execution_count": 68,
     "metadata": {},
     "output_type": "execute_result"
    }
   ],
   "source": [
    "[word for word in fdist.hapaxes() if word.isalpha()]"
   ]
  },
  {
   "cell_type": "code",
   "execution_count": 73,
   "id": "793fd4a0-e3c7-4177-b2c4-78491ee765fb",
   "metadata": {},
   "outputs": [
    {
     "data": {
      "text/plain": [
       "14431"
      ]
     },
     "execution_count": 73,
     "metadata": {},
     "output_type": "execute_result"
    }
   ],
   "source": [
    "fdist2 = FreqDist([w.lower() for w in text1])\n",
    "fdist2['the']\n"
   ]
  },
  {
   "cell_type": "code",
   "execution_count": 74,
   "id": "4be049e6-dded-4327-8a1f-96112f50a9d4",
   "metadata": {},
   "outputs": [
    {
     "data": {
      "text/plain": [
       "0"
      ]
     },
     "execution_count": 74,
     "metadata": {},
     "output_type": "execute_result"
    }
   ],
   "source": [
    "fdist2['The']"
   ]
  },
  {
   "cell_type": "code",
   "execution_count": null,
   "id": "4d80faec-5430-4abc-8496-219443daef35",
   "metadata": {},
   "outputs": [],
   "source": [
    "[word for word in text2.tokens if len(word) <= 3 and text2.count(word) >= 5] #비효율적"
   ]
  },
  {
   "cell_type": "code",
   "execution_count": null,
   "id": "c7d3b6b5-3821-4050-9830-bea096c2bf56",
   "metadata": {},
   "outputs": [],
   "source": [
    "[word for word in text2.tokens"
   ]
  },
  {
   "cell_type": "markdown",
   "id": "fb4a1acc-b4bc-4c59-9908-8fafd0cd1b53",
   "metadata": {},
   "source": [
    "## 리스트, 스트링\n",
    "- str.split(sep): str -> list\n",
    "- sep.join(list): list -> str"
   ]
  },
  {
   "cell_type": "code",
   "execution_count": null,
   "id": "279b4cfe-f921-44a7-9937-ce9ac4f2b761",
   "metadata": {},
   "outputs": [],
   "source": [
    "sent = 'I, am, thirsty'\n",
    "sent.split(',') # 구분자의 디폴트는 공백 쉼표의 경우 여백 strip"
   ]
  },
  {
   "cell_type": "code",
   "execution_count": null,
   "id": "90eb4b31-5707-4abe-8632-2568102eb19b",
   "metadata": {},
   "outputs": [],
   "source": [
    "# 불필요한 여백 없애기\n",
    "# list comprehention 쓰기\n",
    "tokens = sent.split(',')\n",
    "[word.strip() for word in tokens]"
   ]
  },
  {
   "cell_type": "code",
   "execution_count": null,
   "id": "b5d069d8-a3c3-40cf-b408-28a70a897c7b",
   "metadata": {},
   "outputs": [],
   "source": [
    "''.join(tokens)"
   ]
  },
  {
   "cell_type": "markdown",
   "id": "57a9b0b5-40f8-4c49-8b8f-ad215f10c6cb",
   "metadata": {},
   "source": [
    "### 반복문\n",
    "- [word for word in text1]에서 for 부분\n",
    "- 자료구조를 순화할 때 사용함\n",
    "- 정해진 동작을 반복적으로 수행할 때 내리는 명령어\n",
    "- 시작조건, 종료조건, 수행명령으로 구성됨\n",
    "- for 요소 in 반복 범위:\n",
    "- for, while\n",
    "- 들여쓰기, 블록 => 논리구조 나타냄, 주의!\n",
    "- 무한 루프가 되지 않도록 주의"
   ]
  },
  {
   "cell_type": "code",
   "execution_count": 57,
   "id": "6a177b5a-143c-4929-a728-02ed4c6bd65e",
   "metadata": {},
   "outputs": [
    {
     "name": "stdout",
     "output_type": "stream",
     "text": [
      "[\n",
      "Moby\n",
      "Dick\n",
      "by\n",
      "Herman\n",
      "Melville\n",
      "1851\n",
      "]\n",
      "ETYMOLOGY\n",
      ".\n"
     ]
    }
   ],
   "source": [
    "for word in text1[:10]:\n",
    "    print(word)"
   ]
  },
  {
   "cell_type": "code",
   "execution_count": 60,
   "id": "3169d002-a59b-4015-9a93-9139a69c9da8",
   "metadata": {},
   "outputs": [
    {
     "data": {
      "text/plain": [
       "['[',\n",
       " 'Moby',\n",
       " 'Dick',\n",
       " 'by',\n",
       " 'Herman',\n",
       " 'Melville',\n",
       " '1851',\n",
       " ']',\n",
       " 'ETYMOLOGY',\n",
       " '.']"
      ]
     },
     "execution_count": 60,
     "metadata": {},
     "output_type": "execute_result"
    }
   ],
   "source": [
    "[word for word in text1[:10]] #리스트로 반환"
   ]
  },
  {
   "cell_type": "code",
   "execution_count": 61,
   "id": "cf91af2c-5df9-492a-ae97-71e478ab5eac",
   "metadata": {},
   "outputs": [
    {
     "name": "stdout",
     "output_type": "stream",
     "text": [
      "apple\n",
      "b\n",
      "c\n",
      "d\n"
     ]
    }
   ],
   "source": [
    "alphabet = ['apple', 'b', 'c', 'd']\n",
    "for w in alphabet:\n",
    "    print(w)"
   ]
  },
  {
   "cell_type": "code",
   "execution_count": 63,
   "id": "2615a39e-aebe-4598-9156-87f8f2ecf024",
   "metadata": {},
   "outputs": [
    {
     "name": "stdout",
     "output_type": "stream",
     "text": [
      "3\n",
      "5\n",
      "7\n",
      "9\n"
     ]
    }
   ],
   "source": [
    "# 숫자 반복: range(start, end, step)\n",
    "for i in range(3, 10, 2):\n",
    "    print(i)"
   ]
  },
  {
   "cell_type": "code",
   "execution_count": 64,
   "id": "72c889d7-91e9-4e7e-af6b-d534205c644c",
   "metadata": {},
   "outputs": [
    {
     "name": "stdout",
     "output_type": "stream",
     "text": [
      "260819\n",
      "141576\n",
      "44764\n",
      "152901\n",
      "45010\n",
      "16967\n",
      "100676\n",
      "4867\n",
      "69213\n"
     ]
    }
   ],
   "source": [
    "texts = [text1, text2, text3, text4, text5, text6, text7, text8, text9]\n",
    "for word in texts:\n",
    "    print(len(word))"
   ]
  },
  {
   "cell_type": "markdown",
   "id": "c2af5a5b-a2d2-4b98-800d-f5baf2fa94ed",
   "metadata": {},
   "source": [
    "## 출력 포메팅\n",
    "- 1.f'str....{var}' - f,F 둘다 가능\n",
    "- 2.'....%변수의 자료형(s)'%var - 엣날 방식\n",
    "- 3.'....{}..'.format(var)\n"
   ]
  },
  {
   "cell_type": "code",
   "execution_count": 66,
   "id": "ae076535-1b2d-4055-9659-88edfbb1889c",
   "metadata": {},
   "outputs": [
    {
     "name": "stdout",
     "output_type": "stream",
     "text": [
      "My name is Eeyoung and I am 24 years old\n"
     ]
    }
   ],
   "source": [
    "name = 'Eeyoung'\n",
    "age = 24\n",
    "print('My name is', name, 'and I am', age, 'years old')"
   ]
  },
  {
   "cell_type": "code",
   "execution_count": 67,
   "id": "612d7176-8971-4b8b-95bf-373261098596",
   "metadata": {},
   "outputs": [
    {
     "name": "stdout",
     "output_type": "stream",
     "text": [
      "My name is Eeyoung and I am 24 years old.\n"
     ]
    }
   ],
   "source": [
    "print(f'My name is {name} and I am {age} years old.')"
   ]
  },
  {
   "cell_type": "code",
   "execution_count": 68,
   "id": "0db0bdb0-c863-4e5b-ae0e-4b6f7315f9a5",
   "metadata": {},
   "outputs": [
    {
     "name": "stdout",
     "output_type": "stream",
     "text": [
      "My name is Eeyoung and I am 24 years old.\n"
     ]
    }
   ],
   "source": [
    "print('My name is %s' %name, 'and I am %i years old.' %age)"
   ]
  },
  {
   "cell_type": "code",
   "execution_count": 70,
   "id": "3dbaf795-1237-4a16-a7f4-4015cb398fd5",
   "metadata": {},
   "outputs": [
    {
     "name": "stdout",
     "output_type": "stream",
     "text": [
      "My name is Eeyoung and I am 24 years old.\n"
     ]
    }
   ],
   "source": [
    "print('My name is {} and I am {} years old.'.format(name, age))"
   ]
  },
  {
   "cell_type": "code",
   "execution_count": 71,
   "id": "75da17be-0980-4a50-8ad1-86c3650be23d",
   "metadata": {},
   "outputs": [
    {
     "name": "stdout",
     "output_type": "stream",
     "text": [
      "My name is Eeyoung and I am 24 years old.\n"
     ]
    }
   ],
   "source": [
    "# format에서 인덱스 사용 출력 순서 바꾸기\n",
    "print('My name is {1} and I am {0} years old.'.format(age, name))"
   ]
  },
  {
   "cell_type": "code",
   "execution_count": 73,
   "id": "d10e9557-4bf7-4b16-8734-619c645e04ee",
   "metadata": {},
   "outputs": [
    {
     "name": "stdout",
     "output_type": "stream",
     "text": [
      "I am 24.000 years old.\n"
     ]
    }
   ],
   "source": [
    "age2 = 23.9999999\n",
    "print('I am %.3f years old.' %age2)"
   ]
  },
  {
   "cell_type": "code",
   "execution_count": 74,
   "id": "9c69ecac-6505-4f12-af58-adab1f0d568e",
   "metadata": {},
   "outputs": [
    {
     "name": "stdout",
     "output_type": "stream",
     "text": [
      "I am 24.0 years old.\n"
     ]
    }
   ],
   "source": [
    "print('I am {:.5} years old.'.format(age2)) # 스트링도 함께 잘림"
   ]
  },
  {
   "cell_type": "code",
   "execution_count": null,
   "id": "54225223-bada-42e5-96d4-624abe022df1",
   "metadata": {},
   "outputs": [],
   "source": []
  }
 ],
 "metadata": {
  "kernelspec": {
   "display_name": "Python 3 (ipykernel)",
   "language": "python",
   "name": "python3"
  },
  "language_info": {
   "codemirror_mode": {
    "name": "ipython",
    "version": 3
   },
   "file_extension": ".py",
   "mimetype": "text/x-python",
   "name": "python",
   "nbconvert_exporter": "python",
   "pygments_lexer": "ipython3",
   "version": "3.9.7"
  }
 },
 "nbformat": 4,
 "nbformat_minor": 5
}
